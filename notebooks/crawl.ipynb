{
 "cells": [
  {
   "cell_type": "code",
   "execution_count": 1,
   "metadata": {},
   "outputs": [],
   "source": [
    "%load_ext autoreload\n",
    "%autoreload 2"
   ]
  },
  {
   "cell_type": "code",
   "execution_count": 2,
   "metadata": {},
   "outputs": [],
   "source": [
    "from bs4 import BeautifulSoup\n",
    "from selenium import webdriver\n",
    "from selenium.webdriver.chrome.options import Options\n",
    "import json\n",
    "import time"
   ]
  },
  {
   "cell_type": "code",
   "execution_count": 3,
   "metadata": {},
   "outputs": [],
   "source": [
    "from gpt_translate.articles.JsonArticleManager import JsonArticleManager\n",
    "from gpt_translate.crawl.util import extract_info, scroll_one_step\n",
    "import pandas as pd"
   ]
  },
  {
   "cell_type": "code",
   "execution_count": 22,
   "metadata": {},
   "outputs": [],
   "source": [
    "ARTICLE_JSON_PATH = \"/home/bookworm/code/gpt_translate/data/articles_embedding.json\"\n",
    "article_manager = JsonArticleManager(ARTICLE_JSON_PATH)"
   ]
  },
  {
   "cell_type": "code",
   "execution_count": 25,
   "metadata": {},
   "outputs": [
    {
     "data": {
      "text/html": [
       "<div>\n",
       "<style scoped>\n",
       "    .dataframe tbody tr th:only-of-type {\n",
       "        vertical-align: middle;\n",
       "    }\n",
       "\n",
       "    .dataframe tbody tr th {\n",
       "        vertical-align: top;\n",
       "    }\n",
       "\n",
       "    .dataframe thead th {\n",
       "        text-align: right;\n",
       "    }\n",
       "</style>\n",
       "<table border=\"1\" class=\"dataframe\">\n",
       "  <thead>\n",
       "    <tr style=\"text-align: right;\">\n",
       "      <th></th>\n",
       "      <th>title</th>\n",
       "      <th>date</th>\n",
       "      <th>url</th>\n",
       "      <th>is_original</th>\n",
       "      <th>text</th>\n",
       "      <th>text_len</th>\n",
       "      <th>translation</th>\n",
       "      <th>english_tags</th>\n",
       "      <th>chinese_tags</th>\n",
       "      <th>english_main_topic</th>\n",
       "      <th>chinese_main_topic</th>\n",
       "      <th>media_ct</th>\n",
       "      <th>chinese_text_len</th>\n",
       "      <th>pre_embed_tokens</th>\n",
       "      <th>embedding</th>\n",
       "      <th>id</th>\n",
       "      <th>english_title</th>\n",
       "    </tr>\n",
       "  </thead>\n",
       "  <tbody>\n",
       "    <tr>\n",
       "      <th>2520</th>\n",
       "      <td>国内韭菜图鉴</td>\n",
       "      <td>2100-01-01</td>\n",
       "      <td>https://m.163.com/news/article/JLDFO8CU0553JMK...</td>\n",
       "      <td>NaN</td>\n",
       "      <td>\\n关注公众号，人间罗盘，方能阅读正文《2025，不要一年到头又白忙》继续那天第一部分的基本...</td>\n",
       "      <td>NaN</td>\n",
       "      <td>Follow the official account, \"人间罗盘\" (Compass o...</td>\n",
       "      <td>{'Emotions': 7, 'Professional Investors': 8, '...</td>\n",
       "      <td>{'情绪': 7, '专业投资者': 8, '散户投资者': 6, '麻将': 5, '新闻...</td>\n",
       "      <td>Investment Strategies</td>\n",
       "      <td>投资策略</td>\n",
       "      <td>NaN</td>\n",
       "      <td>NaN</td>\n",
       "      <td>Investment_Strategies Emotions Professional_In...</td>\n",
       "      <td>[-0.0243285634, -0.0187849998, 0.0234366544, -...</td>\n",
       "      <td>2520</td>\n",
       "      <td>Domestic Leek Plant Guide</td>\n",
       "    </tr>\n",
       "    <tr>\n",
       "      <th>2521</th>\n",
       "      <td>哪怕你不欣赏他，你也很清楚，这个社会欣赏他</td>\n",
       "      <td>2100-01-01</td>\n",
       "      <td>https://m.163.com/news/article/JLENI1P20553JMK...</td>\n",
       "      <td>NaN</td>\n",
       "      <td>\\n关注公众号，人间罗盘，方能阅读正文《2025，不要一年到头又白忙》昨天我聊无人机专家的时...</td>\n",
       "      <td>NaN</td>\n",
       "      <td>Follow the official account, \"人间罗盘\" (Compass o...</td>\n",
       "      <td>{'Achievement': 8, 'Goal Setting': 7, 'Practic...</td>\n",
       "      <td>{'成就': 8, '目标设定': 7, '实事求是': 9, '成功': 6, '自我提升...</td>\n",
       "      <td>Achieving Goals and Being Practical</td>\n",
       "      <td>实现目标和实事求是</td>\n",
       "      <td>NaN</td>\n",
       "      <td>NaN</td>\n",
       "      <td>Achieving_Goals_and_Being_Practical Achievemen...</td>\n",
       "      <td>[-0.017512504, 0.0061864066, 0.0306294933, -0....</td>\n",
       "      <td>2521</td>\n",
       "      <td>Even if you don't appreciate him, you are very...</td>\n",
       "    </tr>\n",
       "    <tr>\n",
       "      <th>2522</th>\n",
       "      <td>已访问浙大的段永平，拟收购格陵兰的特朗普</td>\n",
       "      <td>2100-01-01</td>\n",
       "      <td>https://m.163.com/news/article/JLF6GF7B0553JMK...</td>\n",
       "      <td>NaN</td>\n",
       "      <td>\\n关注公众号，人间罗盘，方能阅读正文《2025，不要一年到头又白忙》有人看了上午那个关于送...</td>\n",
       "      <td>NaN</td>\n",
       "      <td>Pay attention to the public account, \"Human Co...</td>\n",
       "      <td>{'Gift-giving': 7, 'Duan Yongping': 8, 'Territ...</td>\n",
       "      <td>{'礼物': 7, '段永平': 8, '领土': 6, '特朗普': 9, '土地': 7...</td>\n",
       "      <td>Business and Commercial Civilization</td>\n",
       "      <td>商业和商业文明</td>\n",
       "      <td>NaN</td>\n",
       "      <td>NaN</td>\n",
       "      <td>Business_and_Commercial_Civilization Gift-givi...</td>\n",
       "      <td>[-0.0183467958, -0.0240966622, 0.0210272893, -...</td>\n",
       "      <td>2522</td>\n",
       "      <td>Duan Yongping, who has visited Zhejiang Univer...</td>\n",
       "    </tr>\n",
       "    <tr>\n",
       "      <th>2523</th>\n",
       "      <td>我没有在说反话，洛杉矶大火还真体现了美国的优势</td>\n",
       "      <td>2100-01-01</td>\n",
       "      <td>https://m.163.com/news/article/JLHJ13520553JMK...</td>\n",
       "      <td>NaN</td>\n",
       "      <td>\\n关注公众号，人间罗盘，方能阅读正文《2025，不要一年到头又白忙》我那天在做2025全年...</td>\n",
       "      <td>NaN</td>\n",
       "      <td>关注公众号，人间罗盘，方能阅读正文《2025，不要一年到头又白忙》。\\n\\n我那天在做202...</td>\n",
       "      <td>{'Economic Analysis': 8, 'Labor Market': 7, 'G...</td>\n",
       "      <td>{'经济分析': 8, '劳动力市场': 7, '全球化': 6, '贸易': 6, '需求...</td>\n",
       "      <td>Inflation</td>\n",
       "      <td>通胀</td>\n",
       "      <td>NaN</td>\n",
       "      <td>NaN</td>\n",
       "      <td>Inflation Economic_Analysis Labor_Market Globa...</td>\n",
       "      <td>[-0.0193724148, -0.0136978766, 0.005116784, -0...</td>\n",
       "      <td>2523</td>\n",
       "      <td>I'm not being sarcastic, the Los Angeles wildf...</td>\n",
       "    </tr>\n",
       "    <tr>\n",
       "      <th>2524</th>\n",
       "      <td>无儿无女的86岁北大老太太晚年幸福么？</td>\n",
       "      <td>2100-01-01</td>\n",
       "      <td>https://m.163.com/news/article/JLHE6B970553JMK...</td>\n",
       "      <td>NaN</td>\n",
       "      <td>\\n关注公众号，人间罗盘，方能阅读正文《2025，不要一年到头又白忙》那天有读者问我这么一个...</td>\n",
       "      <td>NaN</td>\n",
       "      <td>关注公众号，人间罗盘，方能阅读正文《2025，不要一年到头又白忙》。\\n\\n那天有读者问我这...</td>\n",
       "      <td>{'Life Reflection': 8, 'Work-Life Balance': 7,...</td>\n",
       "      <td>{'人生反思': 8, '工作与生活平衡': 7, '家庭': 6, '婚姻': 5, '职...</td>\n",
       "      <td>Time Management</td>\n",
       "      <td>时间管理</td>\n",
       "      <td>NaN</td>\n",
       "      <td>NaN</td>\n",
       "      <td>Time_Management Life_Reflection Work-Life_Bala...</td>\n",
       "      <td>[8.59042e-05, -0.0008544576000000001, 0.010164...</td>\n",
       "      <td>2524</td>\n",
       "      <td>Is the 86-year-old Peking University lady with...</td>\n",
       "    </tr>\n",
       "  </tbody>\n",
       "</table>\n",
       "</div>"
      ],
      "text/plain": [
       "                        title       date  \\\n",
       "2520                   国内韭菜图鉴 2100-01-01   \n",
       "2521    哪怕你不欣赏他，你也很清楚，这个社会欣赏他 2100-01-01   \n",
       "2522     已访问浙大的段永平，拟收购格陵兰的特朗普 2100-01-01   \n",
       "2523  我没有在说反话，洛杉矶大火还真体现了美国的优势 2100-01-01   \n",
       "2524      无儿无女的86岁北大老太太晚年幸福么？ 2100-01-01   \n",
       "\n",
       "                                                    url  is_original  \\\n",
       "2520  https://m.163.com/news/article/JLDFO8CU0553JMK...          NaN   \n",
       "2521  https://m.163.com/news/article/JLENI1P20553JMK...          NaN   \n",
       "2522  https://m.163.com/news/article/JLF6GF7B0553JMK...          NaN   \n",
       "2523  https://m.163.com/news/article/JLHJ13520553JMK...          NaN   \n",
       "2524  https://m.163.com/news/article/JLHE6B970553JMK...          NaN   \n",
       "\n",
       "                                                   text  text_len  \\\n",
       "2520  \\n关注公众号，人间罗盘，方能阅读正文《2025，不要一年到头又白忙》继续那天第一部分的基本...       NaN   \n",
       "2521  \\n关注公众号，人间罗盘，方能阅读正文《2025，不要一年到头又白忙》昨天我聊无人机专家的时...       NaN   \n",
       "2522  \\n关注公众号，人间罗盘，方能阅读正文《2025，不要一年到头又白忙》有人看了上午那个关于送...       NaN   \n",
       "2523  \\n关注公众号，人间罗盘，方能阅读正文《2025，不要一年到头又白忙》我那天在做2025全年...       NaN   \n",
       "2524  \\n关注公众号，人间罗盘，方能阅读正文《2025，不要一年到头又白忙》那天有读者问我这么一个...       NaN   \n",
       "\n",
       "                                            translation  \\\n",
       "2520  Follow the official account, \"人间罗盘\" (Compass o...   \n",
       "2521  Follow the official account, \"人间罗盘\" (Compass o...   \n",
       "2522  Pay attention to the public account, \"Human Co...   \n",
       "2523  关注公众号，人间罗盘，方能阅读正文《2025，不要一年到头又白忙》。\\n\\n我那天在做202...   \n",
       "2524  关注公众号，人间罗盘，方能阅读正文《2025，不要一年到头又白忙》。\\n\\n那天有读者问我这...   \n",
       "\n",
       "                                           english_tags  \\\n",
       "2520  {'Emotions': 7, 'Professional Investors': 8, '...   \n",
       "2521  {'Achievement': 8, 'Goal Setting': 7, 'Practic...   \n",
       "2522  {'Gift-giving': 7, 'Duan Yongping': 8, 'Territ...   \n",
       "2523  {'Economic Analysis': 8, 'Labor Market': 7, 'G...   \n",
       "2524  {'Life Reflection': 8, 'Work-Life Balance': 7,...   \n",
       "\n",
       "                                           chinese_tags  \\\n",
       "2520  {'情绪': 7, '专业投资者': 8, '散户投资者': 6, '麻将': 5, '新闻...   \n",
       "2521  {'成就': 8, '目标设定': 7, '实事求是': 9, '成功': 6, '自我提升...   \n",
       "2522  {'礼物': 7, '段永平': 8, '领土': 6, '特朗普': 9, '土地': 7...   \n",
       "2523  {'经济分析': 8, '劳动力市场': 7, '全球化': 6, '贸易': 6, '需求...   \n",
       "2524  {'人生反思': 8, '工作与生活平衡': 7, '家庭': 6, '婚姻': 5, '职...   \n",
       "\n",
       "                        english_main_topic chinese_main_topic  media_ct  \\\n",
       "2520                 Investment Strategies               投资策略       NaN   \n",
       "2521   Achieving Goals and Being Practical          实现目标和实事求是       NaN   \n",
       "2522  Business and Commercial Civilization            商业和商业文明       NaN   \n",
       "2523                             Inflation                 通胀       NaN   \n",
       "2524                       Time Management               时间管理       NaN   \n",
       "\n",
       "      chinese_text_len                                   pre_embed_tokens  \\\n",
       "2520               NaN  Investment_Strategies Emotions Professional_In...   \n",
       "2521               NaN  Achieving_Goals_and_Being_Practical Achievemen...   \n",
       "2522               NaN  Business_and_Commercial_Civilization Gift-givi...   \n",
       "2523               NaN  Inflation Economic_Analysis Labor_Market Globa...   \n",
       "2524               NaN  Time_Management Life_Reflection Work-Life_Bala...   \n",
       "\n",
       "                                              embedding    id  \\\n",
       "2520  [-0.0243285634, -0.0187849998, 0.0234366544, -...  2520   \n",
       "2521  [-0.017512504, 0.0061864066, 0.0306294933, -0....  2521   \n",
       "2522  [-0.0183467958, -0.0240966622, 0.0210272893, -...  2522   \n",
       "2523  [-0.0193724148, -0.0136978766, 0.005116784, -0...  2523   \n",
       "2524  [8.59042e-05, -0.0008544576000000001, 0.010164...  2524   \n",
       "\n",
       "                                          english_title  \n",
       "2520                          Domestic Leek Plant Guide  \n",
       "2521  Even if you don't appreciate him, you are very...  \n",
       "2522  Duan Yongping, who has visited Zhejiang Univer...  \n",
       "2523  I'm not being sarcastic, the Los Angeles wildf...  \n",
       "2524  Is the 86-year-old Peking University lady with...  "
      ]
     },
     "execution_count": 25,
     "metadata": {},
     "output_type": "execute_result"
    }
   ],
   "source": [
    "article_manager.articles_df.tail()"
   ]
  },
  {
   "cell_type": "code",
   "execution_count": 6,
   "metadata": {},
   "outputs": [],
   "source": [
    "#num_articles = ...  # Set the desired number of articles\n",
    "url = \"https://c.m.163.com/news/sub/T1658526449605.html\"\n",
    "\n",
    "# Set up headless browser\n",
    "options = Options()\n",
    "options.add_argument('--headless')\n",
    "#options.headless = True\n",
    "driver = webdriver.Chrome(options=options)\n",
    "\n",
    "# Load webpage and extract data\n",
    "driver.get(url)"
   ]
  },
  {
   "cell_type": "code",
   "execution_count": 6,
   "metadata": {},
   "outputs": [],
   "source": [
    "#scroll_one_step(driver)"
   ]
  },
  {
   "cell_type": "code",
   "execution_count": 7,
   "metadata": {},
   "outputs": [],
   "source": [
    "# # Get current page height\n",
    "last_height = driver.execute_script(\"return document.body.scrollHeight\")\n",
    "\n",
    "while True:\n",
    "    # Scroll down to the bottom of the page\n",
    "    driver.execute_script(\"window.scrollTo(0, document.body.scrollHeight);\")\n",
    "\n",
    "    # Wait for the page to load\n",
    "    time.sleep(2)\n",
    "\n",
    "    # Get new page height after scrolling\n",
    "    new_height = driver.execute_script(\"return document.body.scrollHeight\")\n",
    "\n",
    "    # If the page height has not changed, we've reached the end of the page\n",
    "    if new_height == last_height:\n",
    "        break\n",
    "    last_height = new_height"
   ]
  },
  {
   "cell_type": "code",
   "execution_count": 8,
   "metadata": {},
   "outputs": [
    {
     "data": {
      "text/plain": [
       "999"
      ]
     },
     "execution_count": 8,
     "metadata": {},
     "output_type": "execute_result"
    }
   ],
   "source": [
    "# Parse the page source with BeautifulSoup\n",
    "soup = BeautifulSoup(driver.page_source, \"html.parser\")\n",
    "\n",
    "# Find all elements with the specified class\n",
    "elements = soup.find_all(\"li\", class_=\"single-picture-news js-click-news\")\n",
    "len(elements)"
   ]
  },
  {
   "cell_type": "code",
   "execution_count": 9,
   "metadata": {},
   "outputs": [
    {
     "data": {
      "text/plain": [
       "(964, 4)"
      ]
     },
     "execution_count": 9,
     "metadata": {},
     "output_type": "execute_result"
    }
   ],
   "source": [
    "articles_info = pd.DataFrame(extract_info(elements)).drop_duplicates(['title'])\n",
    "articles_info.shape"
   ]
  },
  {
   "cell_type": "code",
   "execution_count": 10,
   "metadata": {},
   "outputs": [
    {
     "data": {
      "text/plain": [
       "5"
      ]
     },
     "execution_count": 10,
     "metadata": {},
     "output_type": "execute_result"
    }
   ],
   "source": [
    "urls = articles_info['link'].apply(lambda url: \"https://\" + url.replace(\"//\",\"\")).head().tolist()\n",
    "len(urls)"
   ]
  },
  {
   "cell_type": "code",
   "execution_count": 11,
   "metadata": {},
   "outputs": [
    {
     "data": {
      "text/plain": [
       "7"
      ]
     },
     "execution_count": 11,
     "metadata": {},
     "output_type": "execute_result"
    }
   ],
   "source": [
    "len(set(articles_info['title']).difference(set(article_manager.articles_df['title'])))"
   ]
  },
  {
   "cell_type": "code",
   "execution_count": 12,
   "metadata": {},
   "outputs": [],
   "source": [
    "existing_titles = set(article_manager.articles_df['title'])"
   ]
  },
  {
   "cell_type": "code",
   "execution_count": 13,
   "metadata": {},
   "outputs": [],
   "source": [
    "new_articles_df = articles_info[~articles_info['title'].isin(existing_titles)]"
   ]
  },
  {
   "cell_type": "code",
   "execution_count": 14,
   "metadata": {},
   "outputs": [],
   "source": [
    "url_to_dictionary = {}"
   ]
  },
  {
   "cell_type": "code",
   "execution_count": 15,
   "metadata": {},
   "outputs": [],
   "source": [
    "if new_articles_df.shape[0]:\n",
    "    urls = new_articles_df['link'].apply(lambda url: \"https://\" + url.replace(\"//\",\"\")).tolist()\n",
    "    for url in urls:\n",
    "        try:\n",
    "            driver.get(url)\n",
    "            \n",
    "            # Parse the page source with BeautifulSoup\n",
    "            soup = BeautifulSoup(driver.page_source, \"html.parser\")\n",
    "\n",
    "            # Find all elements with the specified class\n",
    "\n",
    "            content_div = soup.find(\"div\", class_=\"article-body\")\n",
    "            element_text = content_div.get_text()\n",
    "            reformmated_text = element_text.replace(\"。\", \"\\n\")\n",
    "            \n",
    "            url_to_dictionary[url] = reformmated_text\n",
    "        except Exception as e:\n",
    "            print(f\"error processing {url}\")\n",
    "            print(e)"
   ]
  },
  {
   "cell_type": "code",
   "execution_count": 16,
   "metadata": {},
   "outputs": [
    {
     "data": {
      "text/html": [
       "<div>\n",
       "<style scoped>\n",
       "    .dataframe tbody tr th:only-of-type {\n",
       "        vertical-align: middle;\n",
       "    }\n",
       "\n",
       "    .dataframe tbody tr th {\n",
       "        vertical-align: top;\n",
       "    }\n",
       "\n",
       "    .dataframe thead th {\n",
       "        text-align: right;\n",
       "    }\n",
       "</style>\n",
       "<table border=\"1\" class=\"dataframe\">\n",
       "  <thead>\n",
       "    <tr style=\"text-align: right;\">\n",
       "      <th></th>\n",
       "      <th>title</th>\n",
       "      <th>link</th>\n",
       "      <th>image_url</th>\n",
       "      <th>date</th>\n",
       "    </tr>\n",
       "  </thead>\n",
       "  <tbody>\n",
       "    <tr>\n",
       "      <th>0</th>\n",
       "      <td>真正让你抑郁的不是心理疾病，是穷</td>\n",
       "      <td>//c.m.163.com/news/a/JLQ8GGF80553JMK2.html?fro...</td>\n",
       "      <td>http://dingyue.ws.126.net/2025/0113/244013f3j0...</td>\n",
       "      <td>12小时前</td>\n",
       "    </tr>\n",
       "    <tr>\n",
       "      <th>1</th>\n",
       "      <td>真正让你痛苦的不只是失业，更是失去了身份认同</td>\n",
       "      <td>//c.m.163.com/news/a/JLP4SLC00553JMK2.html?fro...</td>\n",
       "      <td>http://dingyue.ws.126.net/2025/0113/fa65a105j0...</td>\n",
       "      <td>22小时前</td>\n",
       "    </tr>\n",
       "    <tr>\n",
       "      <th>2</th>\n",
       "      <td>没有利益上的关联，人与人之间就无所谓关系</td>\n",
       "      <td>//c.m.163.com/news/a/JLNQN3BU0553JMK2.html?fro...</td>\n",
       "      <td>http://dingyue.ws.126.net/2025/0112/b466d22cj0...</td>\n",
       "      <td>1天前</td>\n",
       "    </tr>\n",
       "    <tr>\n",
       "      <th>3</th>\n",
       "      <td>为什么美股涨的这么稳定，美国的穷人却没几个翻身？</td>\n",
       "      <td>//c.m.163.com/news/a/JLMJ9S0V0553JMK2.html?fro...</td>\n",
       "      <td>http://dingyue.ws.126.net/2025/0112/4c950309j0...</td>\n",
       "      <td>1天前</td>\n",
       "    </tr>\n",
       "    <tr>\n",
       "      <th>4</th>\n",
       "      <td>像你这么勤劳的员工，搁我手里也是不会被提拔的</td>\n",
       "      <td>//c.m.163.com/news/a/JLL8PTMK0553JMK2.html?fro...</td>\n",
       "      <td>http://dingyue.ws.126.net/2025/0111/d90979c3j0...</td>\n",
       "      <td>2025-01-11</td>\n",
       "    </tr>\n",
       "  </tbody>\n",
       "</table>\n",
       "</div>"
      ],
      "text/plain": [
       "                      title  \\\n",
       "0          真正让你抑郁的不是心理疾病，是穷   \n",
       "1    真正让你痛苦的不只是失业，更是失去了身份认同   \n",
       "2      没有利益上的关联，人与人之间就无所谓关系   \n",
       "3  为什么美股涨的这么稳定，美国的穷人却没几个翻身？   \n",
       "4    像你这么勤劳的员工，搁我手里也是不会被提拔的   \n",
       "\n",
       "                                                link  \\\n",
       "0  //c.m.163.com/news/a/JLQ8GGF80553JMK2.html?fro...   \n",
       "1  //c.m.163.com/news/a/JLP4SLC00553JMK2.html?fro...   \n",
       "2  //c.m.163.com/news/a/JLNQN3BU0553JMK2.html?fro...   \n",
       "3  //c.m.163.com/news/a/JLMJ9S0V0553JMK2.html?fro...   \n",
       "4  //c.m.163.com/news/a/JLL8PTMK0553JMK2.html?fro...   \n",
       "\n",
       "                                           image_url        date  \n",
       "0  http://dingyue.ws.126.net/2025/0113/244013f3j0...       12小时前  \n",
       "1  http://dingyue.ws.126.net/2025/0113/fa65a105j0...       22小时前  \n",
       "2  http://dingyue.ws.126.net/2025/0112/b466d22cj0...         1天前  \n",
       "3  http://dingyue.ws.126.net/2025/0112/4c950309j0...         1天前  \n",
       "4  http://dingyue.ws.126.net/2025/0111/d90979c3j0...  2025-01-11  "
      ]
     },
     "execution_count": 16,
     "metadata": {},
     "output_type": "execute_result"
    }
   ],
   "source": [
    "new_articles_df.head()"
   ]
  },
  {
   "cell_type": "code",
   "execution_count": 17,
   "metadata": {},
   "outputs": [
    {
     "data": {
      "text/plain": [
       "7"
      ]
     },
     "execution_count": 17,
     "metadata": {},
     "output_type": "execute_result"
    }
   ],
   "source": [
    "len(url_to_dictionary)"
   ]
  },
  {
   "cell_type": "code",
   "execution_count": 18,
   "metadata": {},
   "outputs": [
    {
     "name": "stderr",
     "output_type": "stream",
     "text": [
      "/tmp/ipykernel_271743/3054605342.py:1: SettingWithCopyWarning: \n",
      "A value is trying to be set on a copy of a slice from a DataFrame.\n",
      "Try using .loc[row_indexer,col_indexer] = value instead\n",
      "\n",
      "See the caveats in the documentation: https://pandas.pydata.org/pandas-docs/stable/user_guide/indexing.html#returning-a-view-versus-a-copy\n",
      "  new_articles_df['url'] = new_articles_df['link'].apply(lambda url: \"https://\" + url.replace(\"//\",\"\"))\n"
     ]
    }
   ],
   "source": [
    "new_articles_df['url'] = new_articles_df['link'].apply(lambda url: \"https://\" + url.replace(\"//\",\"\"))"
   ]
  },
  {
   "cell_type": "code",
   "execution_count": 19,
   "metadata": {},
   "outputs": [
    {
     "name": "stderr",
     "output_type": "stream",
     "text": [
      "/tmp/ipykernel_271743/3349361820.py:1: SettingWithCopyWarning: \n",
      "A value is trying to be set on a copy of a slice from a DataFrame.\n",
      "Try using .loc[row_indexer,col_indexer] = value instead\n",
      "\n",
      "See the caveats in the documentation: https://pandas.pydata.org/pandas-docs/stable/user_guide/indexing.html#returning-a-view-versus-a-copy\n",
      "  new_articles_df['text'] = new_articles_df['link'].apply(lambda url: \"https://\" + url.replace(\"//\",\"\")).apply(lambda url: url_to_dictionary.get(url, \"\")).\\\n"
     ]
    }
   ],
   "source": [
    "new_articles_df['text'] = new_articles_df['link'].apply(lambda url: \"https://\" + url.replace(\"//\",\"\")).apply(lambda url: url_to_dictionary.get(url, \"\")).\\\n",
    "    apply(lambda text:\n",
    "         text.replace(\"文章来自微信公众号：记忆承载\\n欢迎前往关注阅读全文\\n\", \"\").\\\n",
    "          replace(\"\\n文章来自微信公众号：记忆承载\\n欢迎前往关注阅读全文\\n\\n\\n\\n\\n打开网易新闻 查看更多图片\", \"\")\n",
    "         )"
   ]
  },
  {
   "cell_type": "code",
   "execution_count": 21,
   "metadata": {},
   "outputs": [
    {
     "data": {
      "text/html": [
       "<div>\n",
       "<style scoped>\n",
       "    .dataframe tbody tr th:only-of-type {\n",
       "        vertical-align: middle;\n",
       "    }\n",
       "\n",
       "    .dataframe tbody tr th {\n",
       "        vertical-align: top;\n",
       "    }\n",
       "\n",
       "    .dataframe thead th {\n",
       "        text-align: right;\n",
       "    }\n",
       "</style>\n",
       "<table border=\"1\" class=\"dataframe\">\n",
       "  <thead>\n",
       "    <tr style=\"text-align: right;\">\n",
       "      <th></th>\n",
       "      <th>title</th>\n",
       "      <th>link</th>\n",
       "      <th>image_url</th>\n",
       "      <th>date</th>\n",
       "      <th>url</th>\n",
       "      <th>text</th>\n",
       "    </tr>\n",
       "  </thead>\n",
       "  <tbody>\n",
       "    <tr>\n",
       "      <th>0</th>\n",
       "      <td>真正让你抑郁的不是心理疾病，是穷</td>\n",
       "      <td>//c.m.163.com/news/a/JLQ8GGF80553JMK2.html?fro...</td>\n",
       "      <td>http://dingyue.ws.126.net/2025/0113/244013f3j0...</td>\n",
       "      <td>12小时前</td>\n",
       "      <td>https://c.m.163.com/news/a/JLQ8GGF80553JMK2.ht...</td>\n",
       "      <td>关注公众号，人间罗盘，方能阅读正文《2025，不要一年到头又白忙》经常有读者留言向我咨询心理...</td>\n",
       "    </tr>\n",
       "    <tr>\n",
       "      <th>1</th>\n",
       "      <td>真正让你痛苦的不只是失业，更是失去了身份认同</td>\n",
       "      <td>//c.m.163.com/news/a/JLP4SLC00553JMK2.html?fro...</td>\n",
       "      <td>http://dingyue.ws.126.net/2025/0113/fa65a105j0...</td>\n",
       "      <td>22小时前</td>\n",
       "      <td>https://c.m.163.com/news/a/JLP4SLC00553JMK2.ht...</td>\n",
       "      <td>关注公众号，人间罗盘，方能阅读正文《2025，不要一年到头又白忙》有读者那天问我，第四部分我...</td>\n",
       "    </tr>\n",
       "    <tr>\n",
       "      <th>2</th>\n",
       "      <td>没有利益上的关联，人与人之间就无所谓关系</td>\n",
       "      <td>//c.m.163.com/news/a/JLNQN3BU0553JMK2.html?fro...</td>\n",
       "      <td>http://dingyue.ws.126.net/2025/0112/b466d22cj0...</td>\n",
       "      <td>1天前</td>\n",
       "      <td>https://c.m.163.com/news/a/JLNQN3BU0553JMK2.ht...</td>\n",
       "      <td>关注公众号，人间罗盘，方能阅读正文《2025，不要一年到头又白忙》那天有人问我这么一个问题\\...</td>\n",
       "    </tr>\n",
       "    <tr>\n",
       "      <th>3</th>\n",
       "      <td>为什么美股涨的这么稳定，美国的穷人却没几个翻身？</td>\n",
       "      <td>//c.m.163.com/news/a/JLMJ9S0V0553JMK2.html?fro...</td>\n",
       "      <td>http://dingyue.ws.126.net/2025/0112/4c950309j0...</td>\n",
       "      <td>1天前</td>\n",
       "      <td>https://c.m.163.com/news/a/JLMJ9S0V0553JMK2.ht...</td>\n",
       "      <td>关注公众号，人间罗盘，方能阅读正文《2025，不要一年到头又白忙》回答一个满级读者的问题，他...</td>\n",
       "    </tr>\n",
       "    <tr>\n",
       "      <th>4</th>\n",
       "      <td>像你这么勤劳的员工，搁我手里也是不会被提拔的</td>\n",
       "      <td>//c.m.163.com/news/a/JLL8PTMK0553JMK2.html?fro...</td>\n",
       "      <td>http://dingyue.ws.126.net/2025/0111/d90979c3j0...</td>\n",
       "      <td>2025-01-11</td>\n",
       "      <td>https://c.m.163.com/news/a/JLL8PTMK0553JMK2.ht...</td>\n",
       "      <td>关注公众号，人间罗盘，方能阅读正文《2025，不要一年到头又白忙》前天有读者表示不同意见，他...</td>\n",
       "    </tr>\n",
       "    <tr>\n",
       "      <th>5</th>\n",
       "      <td>这是你的弱项？不，这分明是老天留给你的福报啊</td>\n",
       "      <td>//c.m.163.com/news/a/JLJVN96G0553JMK2.html?fro...</td>\n",
       "      <td>http://dingyue.ws.126.net/2025/0111/7155052ej0...</td>\n",
       "      <td>2025-01-11</td>\n",
       "      <td>https://c.m.163.com/news/a/JLJVN96G0553JMK2.ht...</td>\n",
       "      <td>关注公众号，人间罗盘，方能阅读正文《2025，不要一年到头又白忙》那天有个读者看了第四个话题...</td>\n",
       "    </tr>\n",
       "    <tr>\n",
       "      <th>195</th>\n",
       "      <td>你看着你自己，也看着众生，忽然莞尔一笑</td>\n",
       "      <td>//c.m.163.com/news/a/JDG7FPO00553JMK2.html?fro...</td>\n",
       "      <td>https://nimg.ws.126.net/?url=http%3A%2F%2Fding...</td>\n",
       "      <td>2024-10-02</td>\n",
       "      <td>https://c.m.163.com/news/a/JDG7FPO00553JMK2.ht...</td>\n",
       "      <td>关注公众号，西风的罗盘，方能阅读正文《什么是天机？什么又是泄露天机？》其实那天聊天机时，我觉...</td>\n",
       "    </tr>\n",
       "  </tbody>\n",
       "</table>\n",
       "</div>"
      ],
      "text/plain": [
       "                        title  \\\n",
       "0            真正让你抑郁的不是心理疾病，是穷   \n",
       "1      真正让你痛苦的不只是失业，更是失去了身份认同   \n",
       "2        没有利益上的关联，人与人之间就无所谓关系   \n",
       "3    为什么美股涨的这么稳定，美国的穷人却没几个翻身？   \n",
       "4      像你这么勤劳的员工，搁我手里也是不会被提拔的   \n",
       "5      这是你的弱项？不，这分明是老天留给你的福报啊   \n",
       "195       你看着你自己，也看着众生，忽然莞尔一笑   \n",
       "\n",
       "                                                  link  \\\n",
       "0    //c.m.163.com/news/a/JLQ8GGF80553JMK2.html?fro...   \n",
       "1    //c.m.163.com/news/a/JLP4SLC00553JMK2.html?fro...   \n",
       "2    //c.m.163.com/news/a/JLNQN3BU0553JMK2.html?fro...   \n",
       "3    //c.m.163.com/news/a/JLMJ9S0V0553JMK2.html?fro...   \n",
       "4    //c.m.163.com/news/a/JLL8PTMK0553JMK2.html?fro...   \n",
       "5    //c.m.163.com/news/a/JLJVN96G0553JMK2.html?fro...   \n",
       "195  //c.m.163.com/news/a/JDG7FPO00553JMK2.html?fro...   \n",
       "\n",
       "                                             image_url        date  \\\n",
       "0    http://dingyue.ws.126.net/2025/0113/244013f3j0...       12小时前   \n",
       "1    http://dingyue.ws.126.net/2025/0113/fa65a105j0...       22小时前   \n",
       "2    http://dingyue.ws.126.net/2025/0112/b466d22cj0...         1天前   \n",
       "3    http://dingyue.ws.126.net/2025/0112/4c950309j0...         1天前   \n",
       "4    http://dingyue.ws.126.net/2025/0111/d90979c3j0...  2025-01-11   \n",
       "5    http://dingyue.ws.126.net/2025/0111/7155052ej0...  2025-01-11   \n",
       "195  https://nimg.ws.126.net/?url=http%3A%2F%2Fding...  2024-10-02   \n",
       "\n",
       "                                                   url  \\\n",
       "0    https://c.m.163.com/news/a/JLQ8GGF80553JMK2.ht...   \n",
       "1    https://c.m.163.com/news/a/JLP4SLC00553JMK2.ht...   \n",
       "2    https://c.m.163.com/news/a/JLNQN3BU0553JMK2.ht...   \n",
       "3    https://c.m.163.com/news/a/JLMJ9S0V0553JMK2.ht...   \n",
       "4    https://c.m.163.com/news/a/JLL8PTMK0553JMK2.ht...   \n",
       "5    https://c.m.163.com/news/a/JLJVN96G0553JMK2.ht...   \n",
       "195  https://c.m.163.com/news/a/JDG7FPO00553JMK2.ht...   \n",
       "\n",
       "                                                  text  \n",
       "0    关注公众号，人间罗盘，方能阅读正文《2025，不要一年到头又白忙》经常有读者留言向我咨询心理...  \n",
       "1    关注公众号，人间罗盘，方能阅读正文《2025，不要一年到头又白忙》有读者那天问我，第四部分我...  \n",
       "2    关注公众号，人间罗盘，方能阅读正文《2025，不要一年到头又白忙》那天有人问我这么一个问题\\...  \n",
       "3    关注公众号，人间罗盘，方能阅读正文《2025，不要一年到头又白忙》回答一个满级读者的问题，他...  \n",
       "4    关注公众号，人间罗盘，方能阅读正文《2025，不要一年到头又白忙》前天有读者表示不同意见，他...  \n",
       "5    关注公众号，人间罗盘，方能阅读正文《2025，不要一年到头又白忙》那天有个读者看了第四个话题...  \n",
       "195  关注公众号，西风的罗盘，方能阅读正文《什么是天机？什么又是泄露天机？》其实那天聊天机时，我觉...  "
      ]
     },
     "execution_count": 21,
     "metadata": {},
     "output_type": "execute_result"
    }
   ],
   "source": [
    "new_articles_df"
   ]
  },
  {
   "cell_type": "code",
   "execution_count": 20,
   "metadata": {},
   "outputs": [],
   "source": [
    "new_articles_df.to_csv(\"./new_articles_df_.csv\", index=False)"
   ]
  },
  {
   "cell_type": "code",
   "execution_count": 41,
   "metadata": {},
   "outputs": [],
   "source": [
    "driver.quit()"
   ]
  },
  {
   "cell_type": "markdown",
   "metadata": {},
   "source": [
    "#### article completion"
   ]
  },
  {
   "cell_type": "code",
   "execution_count": 65,
   "metadata": {},
   "outputs": [
    {
     "data": {
      "text/plain": [
       "{'title': '你要是知道自己想干嘛，就不会每天被核污染吓得要死',\n",
       " 'link': '//c.m.163.com/news/a/ID297MHD0553JMK2.html?from=subscribe',\n",
       " 'image_url': 'http://dingyue.ws.126.net/2023/0826/37b338b3j00rzz3g7009bd000n300cxp.jpg',\n",
       " 'date': '3小时前',\n",
       " 'text': '文章来自微信公众号：记忆承载3，请关注阅读全文\\n昨天看了我们不惹事，但也不怕事，有感于日本排放核污染\\n有读者跟我讲，他还是很恐惧\\n不理解我这种一代人只能做一代人的事的乐观精神是哪儿来的\\n似乎每每遇到重大的危机，我身上都没有什么负面情绪，而是迅速能够找到该做的，或者说，是我想做的\\n为什么？这个问题有人替我回答过，很多年前的一本神剧，《寻秦记》\\n有印象的人，应该记得项少龙就是在大家面前讲了这么一段有关人生意义的寓言，从而赢得了琴清姑娘的芳心\\n“有个旅客在沙漠里遇上了一群饿狼，狼群对他展开了攻击\\n旅客非常害怕，但为了活下去只得夺路狂奔\\n就在饿狼快追上他时，他跑到了一口深不见底的井旁，为了保命不顾一切跳了进去\\n在下坠的时候，他胡乱地用手在空中挥舞，祈祷能抓到救命的稻草，没想到，竟然真的被他抓住了一株长在井壁上的小树\\n他抓住树干悬在半空，低头向下看去，原来这口井早已干枯，而且井底竟爬满了毒蛇\\n上有饿狼，下有毒蛇，那人虽陷身在进退两难的绝境，但暂时却是安全的\\n就在旅人长舒口气，庆幸自己保住性命的时候，他听到了奇怪的声音\\n循声看去，发现竟然有几只老鼠露出大门牙在不断啃着树枝，旅人顿时感到无比的绝望，就在这生死一瞬的时刻，他看到了眼前的树叶上竟然有一滴蜜糖，那一瞬间，他忘记了一切，全心全意去品尝那滴蜜糖\\n那滴蜜糖就是生命的意义！\"我昨天告诉你的就这点事儿\\n我问你的只有一句话，此时此刻，你想做点什么？琴清这样的美女，才女，喜欢项少龙没什么稀奇，很多人都喜欢他，因为在他身上，我们能够看到生命力\\n我们都喜欢那个有生命力的人，而不是暮气沉沉\\n王阳明说得对，世界到底是丛林，还是迪斯尼乐园，根本就不重要\\n重要的是，你怎么看，你怎么想，你到底想玩点啥\\n无论世界是丛林，还是迪斯尼乐园，都是一个游戏\\n残酷的游戏是游戏，轻松的游戏也是游戏\\n对发烧友来说，不存在残酷还是轻松，只存在你想玩游戏，还是不想玩？你啥都不想玩，那这辈子对你来说已经提前结束了\\n一个死人有什么可恐惧的？你要是还想玩点什么，目光都已经聚焦到那滴蜜糖上了，其余的世界，又有什么可恐惧的？横竖都没啥好恐惧的\\n你无非是那个在乐园里拉着大家体验极速光轮的，还是瘫倒躺在长椅上似乎得了抑郁症的\\n其实就这么点区别\\n你羡慕的很多我身上的东西，本质点讲，只是我的性格\\n性格决定了命运\\n我小时候就有一堆人放学后围着我，他们想要听我讲故事，跟到我家门口都依依不舍，不想回家\\n他们上课打瞌睡，觉得老师讲的无比枯燥，可是老师讲的无比枯燥的内容，课间十分钟经过我的解读，他们就津津有味了\\n那你有没有想过，面对同一个老师，面对同样枯燥的45分钟，为什么我能找到那么多别人没有找到的乐趣呢？同样一段人生，同样一款游戏，为啥你就找不出好玩的地方呢？答案只有一个，你的目光太发散了\\n人想干嘛，一定是切合环境，切合实际的\\n就像项少龙说的，毒蛇，猛兽，要断的树枝，这些不是人力范围能够影响到\\n人力范围是什么？是那滴蜜糖\\n如果你每天都在琢磨俄罗斯与乌克兰，那你必然月薪3000\\n因为不着调呀\\n如果你打小就在讨论中国的教育系统，从教育系统一直讨论到校长，班主任，那你大概率初中毕业就好进厂打螺丝了\\n反过来，如果你打小琢磨怎么考状元，思考+实践，最后未必能考状元，但有可能去清华了\\n你每天都在指望行业崛起，老板崛起\\n有可能行业崛起后你的岗位消失了，老板崛起后，把你开掉了\\n反过来，你每天都在琢磨自己如何崛起，可能没多少年后，你把老东家收购了，前任老板给你打工了\\n这就是我以前说过很多次的那句话：改变自己的是神，总指望改变别人的，是深井冰\\n调停俄乌，改变美日，这不叫兴趣，正如项少龙故事里那个人他讨论狮子猛兽，毒蛇，树枝，都不是兴趣\\n兴趣是什么？是那滴蜜糖\\n做你想做的，做你能做的，你想做的，同时得是能做的\\n结合起来，就是那滴蜜糖\\n断开结合，就是白日梦\\n你上来跟俄罗斯，乌克兰讲，你们不要打了，你觉得会有人听你的么？张无忌光明顶力阻六大派，你要学他么？他真的是武林至尊，你也是么？人想要活得快乐很简单，首先你要够简单\\n就像我昨天说的，作为一个中国的商人，你能做的就是趁日本人污染全世界的行为曝光的时刻，去抢一抢他们的市场\\n能做的就这点事儿呀\\n正如我那天聊四个维度时讲的，有生态位的人，他做的所有事情都是在加强自己的生态位\\n因为这就是自己的事业呀，因为这就是自己能够掌控的游戏呀，因为自己玩游戏，玩得很开心嘛\\n如果你没有属于自己的事业，没有自己的生态位，那就是我那天四维理论的前三个维度，你还在通往自己独立生态位的过程中，努力着\\n这就是所有那些有想法，有兴趣玩游戏的玩家们，PC们，琢磨的事情，这就是他们的人生意义\\n当然，你可以说你不做玩家，你要做个NPC，随便你\\n但是做NPC，也不要总想着调停美日，调停俄乌，够不着的东西只会给你带来痛苦\\n想玩游戏，愿意玩游戏，就改变自己，拥有生态位，去不负这一生的韶华，不想玩游戏，那就做个安静的NPC，坐在马路牙子上为PC们鼓掌，衷心祝福别人的一生充实\\n文章来自微信公众号：记忆承载3，请关注阅读全文\\n\\n\\n\\n\\n打开网易新闻 查看更多图片 \\n\\n\\n',\n",
       " 'url': 'https://c.m.163.com/news/a/ID297MHD0553JMK2.html?from=subscribe'}"
      ]
     },
     "execution_count": 65,
     "metadata": {},
     "output_type": "execute_result"
    }
   ],
   "source": [
    "records = new_articles_df.to_dict(\"records\")\n",
    "records[0]"
   ]
  },
  {
   "cell_type": "code",
   "execution_count": 54,
   "metadata": {},
   "outputs": [],
   "source": [
    "import openai\n",
    "import os\n",
    "import json\n",
    "\n",
    "openai.api_key = os.environ[\"OPENAI_API_KEY\"]\n",
    "completion_config = {\n",
    "    'model': \"gpt-4\",\n",
    "    'temperature': 0\n",
    "}"
   ]
  },
  {
   "cell_type": "code",
   "execution_count": 68,
   "metadata": {},
   "outputs": [
    {
     "name": "stdout",
     "output_type": "stream",
     "text": [
      "processing record: 男子交了10万彩礼，举办订婚宴后，反被告强奸\n"
     ]
    },
    {
     "name": "stderr",
     "output_type": "stream",
     "text": [
      "Sending chatcomplete API requests:   0%|          | 0/1 [00:00<?, ?it/s]"
     ]
    },
    {
     "name": "stderr",
     "output_type": "stream",
     "text": [
      "Sending chatcomplete API requests: 100%|██████████| 1/1 [00:01<00:00,  1.83s/it]\n"
     ]
    },
    {
     "name": "stdout",
     "output_type": "stream",
     "text": [
      "split test into trunks\n",
      "there are 4 text_trunks\n"
     ]
    },
    {
     "name": "stderr",
     "output_type": "stream",
     "text": [
      "Sending chatcomplete API requests: 100%|██████████| 4/4 [02:55<00:00, 44.00s/it]\n",
      "Sending chatcomplete API requests: 100%|██████████| 1/1 [00:15<00:00, 15.22s/it]\n",
      "/opt/shichenh/gpt_translate/src/gpt_translate/articles/JsonArticleManager.py:131: FutureWarning: The frame.append method is deprecated and will be removed from pandas in a future version. Use pandas.concat instead.\n",
      "  self.articles_df = self.articles_df.append(series, ignore_index=True)\n"
     ]
    },
    {
     "name": "stdout",
     "output_type": "stream",
     "text": [
      "processing record: 日本核污染水排海，为什么我不着急？\n"
     ]
    },
    {
     "name": "stderr",
     "output_type": "stream",
     "text": [
      "Sending chatcomplete API requests: 100%|██████████| 1/1 [00:02<00:00,  2.15s/it]\n"
     ]
    },
    {
     "name": "stdout",
     "output_type": "stream",
     "text": [
      "split test into trunks\n",
      "there are 2 text_trunks\n"
     ]
    },
    {
     "name": "stderr",
     "output_type": "stream",
     "text": [
      "Sending chatcomplete API requests: 100%|██████████| 2/2 [01:57<00:00, 58.98s/it]\n",
      "Sending chatcomplete API requests: 100%|██████████| 1/1 [00:11<00:00, 11.79s/it]\n",
      "/opt/shichenh/gpt_translate/src/gpt_translate/articles/JsonArticleManager.py:131: FutureWarning: The frame.append method is deprecated and will be removed from pandas in a future version. Use pandas.concat instead.\n",
      "  self.articles_df = self.articles_df.append(series, ignore_index=True)\n"
     ]
    },
    {
     "name": "stdout",
     "output_type": "stream",
     "text": [
      "processing record: 我们不惹事，但也不怕事，有感于日本排放核污染\n"
     ]
    },
    {
     "name": "stderr",
     "output_type": "stream",
     "text": [
      "Sending chatcomplete API requests: 100%|██████████| 1/1 [00:03<00:00,  3.04s/it]\n"
     ]
    },
    {
     "name": "stdout",
     "output_type": "stream",
     "text": [
      "split test into trunks\n",
      "there are 4 text_trunks\n"
     ]
    },
    {
     "name": "stderr",
     "output_type": "stream",
     "text": [
      "Sending chatcomplete API requests: 100%|██████████| 4/4 [03:06<00:00, 46.62s/it]\n",
      "Sending chatcomplete API requests: 100%|██████████| 1/1 [00:12<00:00, 12.18s/it]\n",
      "/opt/shichenh/gpt_translate/src/gpt_translate/articles/JsonArticleManager.py:131: FutureWarning: The frame.append method is deprecated and will be removed from pandas in a future version. Use pandas.concat instead.\n",
      "  self.articles_df = self.articles_df.append(series, ignore_index=True)\n"
     ]
    },
    {
     "name": "stdout",
     "output_type": "stream",
     "text": [
      "processing record: 普里戈任坠机谁干的不是重点，谁受益才是重点\n"
     ]
    },
    {
     "name": "stderr",
     "output_type": "stream",
     "text": [
      "Sending chatcomplete API requests: 100%|██████████| 1/1 [00:02<00:00,  2.02s/it]\n"
     ]
    },
    {
     "name": "stdout",
     "output_type": "stream",
     "text": [
      "split test into trunks\n",
      "there are 2 text_trunks\n"
     ]
    },
    {
     "name": "stderr",
     "output_type": "stream",
     "text": [
      "Sending chatcomplete API requests: 100%|██████████| 2/2 [01:42<00:00, 51.43s/it]\n",
      "Sending chatcomplete API requests: 100%|██████████| 1/1 [00:18<00:00, 18.32s/it]\n",
      "/opt/shichenh/gpt_translate/src/gpt_translate/articles/JsonArticleManager.py:131: FutureWarning: The frame.append method is deprecated and will be removed from pandas in a future version. Use pandas.concat instead.\n",
      "  self.articles_df = self.articles_df.append(series, ignore_index=True)\n"
     ]
    },
    {
     "name": "stdout",
     "output_type": "stream",
     "text": [
      "processing record: 医疗反腐之后，这门生意有搞头\n"
     ]
    },
    {
     "name": "stderr",
     "output_type": "stream",
     "text": [
      "Sending chatcomplete API requests: 100%|██████████| 1/1 [00:01<00:00,  1.10s/it]\n"
     ]
    },
    {
     "name": "stdout",
     "output_type": "stream",
     "text": [
      "split test into trunks\n",
      "there are 3 text_trunks\n"
     ]
    },
    {
     "name": "stderr",
     "output_type": "stream",
     "text": [
      "Sending chatcomplete API requests: 100%|██████████| 3/3 [02:17<00:00, 45.94s/it]\n",
      "Sending chatcomplete API requests: 100%|██████████| 1/1 [00:12<00:00, 12.33s/it]\n",
      "/opt/shichenh/gpt_translate/src/gpt_translate/articles/JsonArticleManager.py:131: FutureWarning: The frame.append method is deprecated and will be removed from pandas in a future version. Use pandas.concat instead.\n",
      "  self.articles_df = self.articles_df.append(series, ignore_index=True)\n"
     ]
    },
    {
     "name": "stdout",
     "output_type": "stream",
     "text": [
      "processing record: 父母农村，第一代进城的大学生，很容易掉进这个陷阱\n"
     ]
    },
    {
     "name": "stderr",
     "output_type": "stream",
     "text": [
      "Sending chatcomplete API requests: 100%|██████████| 1/1 [00:02<00:00,  2.49s/it]\n"
     ]
    },
    {
     "name": "stdout",
     "output_type": "stream",
     "text": [
      "split test into trunks\n",
      "there are 4 text_trunks\n"
     ]
    },
    {
     "name": "stderr",
     "output_type": "stream",
     "text": [
      "Sending chatcomplete API requests: 100%|██████████| 4/4 [03:41<00:00, 55.40s/it]\n",
      "Sending chatcomplete API requests: 100%|██████████| 1/1 [00:09<00:00,  9.21s/it]\n",
      "/opt/shichenh/gpt_translate/src/gpt_translate/articles/JsonArticleManager.py:131: FutureWarning: The frame.append method is deprecated and will be removed from pandas in a future version. Use pandas.concat instead.\n",
      "  self.articles_df = self.articles_df.append(series, ignore_index=True)\n"
     ]
    },
    {
     "name": "stdout",
     "output_type": "stream",
     "text": [
      "processing record: 你不能孤立地看网红举报新东方停课事件\n"
     ]
    },
    {
     "name": "stderr",
     "output_type": "stream",
     "text": [
      "Sending chatcomplete API requests: 100%|██████████| 1/1 [00:01<00:00,  1.74s/it]\n"
     ]
    },
    {
     "name": "stdout",
     "output_type": "stream",
     "text": [
      "split test into trunks\n",
      "there are 3 text_trunks\n"
     ]
    },
    {
     "name": "stderr",
     "output_type": "stream",
     "text": [
      "Sending chatcomplete API requests: 100%|██████████| 3/3 [02:16<00:00, 45.62s/it]\n",
      "Sending chatcomplete API requests: 100%|██████████| 1/1 [00:16<00:00, 16.96s/it]\n",
      "/opt/shichenh/gpt_translate/src/gpt_translate/articles/JsonArticleManager.py:131: FutureWarning: The frame.append method is deprecated and will be removed from pandas in a future version. Use pandas.concat instead.\n",
      "  self.articles_df = self.articles_df.append(series, ignore_index=True)\n"
     ]
    },
    {
     "name": "stdout",
     "output_type": "stream",
     "text": [
      "processing record: 始于鸡娃，终于洗脚？\n"
     ]
    },
    {
     "name": "stderr",
     "output_type": "stream",
     "text": [
      "Sending chatcomplete API requests: 100%|██████████| 1/1 [00:01<00:00,  1.72s/it]\n"
     ]
    },
    {
     "name": "stdout",
     "output_type": "stream",
     "text": [
      "split test into trunks\n",
      "there are 4 text_trunks\n"
     ]
    },
    {
     "name": "stderr",
     "output_type": "stream",
     "text": [
      "Sending chatcomplete API requests: 100%|██████████| 4/4 [03:31<00:00, 52.86s/it]\n",
      "Sending chatcomplete API requests: 100%|██████████| 1/1 [00:10<00:00, 10.48s/it]\n",
      "/opt/shichenh/gpt_translate/src/gpt_translate/articles/JsonArticleManager.py:131: FutureWarning: The frame.append method is deprecated and will be removed from pandas in a future version. Use pandas.concat instead.\n",
      "  self.articles_df = self.articles_df.append(series, ignore_index=True)\n"
     ]
    },
    {
     "name": "stdout",
     "output_type": "stream",
     "text": [
      "processing record: 外面的世界都在水深火热中，这点我比你知道的早\n"
     ]
    },
    {
     "name": "stderr",
     "output_type": "stream",
     "text": [
      "Sending chatcomplete API requests: 100%|██████████| 1/1 [00:02<00:00,  2.18s/it]\n"
     ]
    },
    {
     "name": "stdout",
     "output_type": "stream",
     "text": [
      "split test into trunks\n",
      "there are 3 text_trunks\n"
     ]
    },
    {
     "name": "stderr",
     "output_type": "stream",
     "text": [
      "Sending chatcomplete API requests: 100%|██████████| 3/3 [02:15<00:00, 45.11s/it]\n",
      "Sending chatcomplete API requests: 100%|██████████| 1/1 [00:10<00:00, 10.66s/it]\n",
      "/opt/shichenh/gpt_translate/src/gpt_translate/articles/JsonArticleManager.py:131: FutureWarning: The frame.append method is deprecated and will be removed from pandas in a future version. Use pandas.concat instead.\n",
      "  self.articles_df = self.articles_df.append(series, ignore_index=True)\n"
     ]
    },
    {
     "name": "stdout",
     "output_type": "stream",
     "text": [
      "processing record: 世上没有真相，只残存了一个道理\n"
     ]
    },
    {
     "name": "stderr",
     "output_type": "stream",
     "text": [
      "Sending chatcomplete API requests: 100%|██████████| 1/1 [00:01<00:00,  1.67s/it]\n"
     ]
    },
    {
     "name": "stdout",
     "output_type": "stream",
     "text": [
      "split test into trunks\n",
      "there are 4 text_trunks\n"
     ]
    },
    {
     "name": "stderr",
     "output_type": "stream",
     "text": [
      "Sending chatcomplete API requests: 100%|██████████| 4/4 [03:10<00:00, 47.62s/it]\n",
      "Sending chatcomplete API requests: 100%|██████████| 1/1 [00:12<00:00, 13.00s/it]\n",
      "/opt/shichenh/gpt_translate/src/gpt_translate/articles/JsonArticleManager.py:131: FutureWarning: The frame.append method is deprecated and will be removed from pandas in a future version. Use pandas.concat instead.\n",
      "  self.articles_df = self.articles_df.append(series, ignore_index=True)\n"
     ]
    },
    {
     "name": "stdout",
     "output_type": "stream",
     "text": [
      "processing record: 很少有人愿意正视当下的供需基本面\n"
     ]
    },
    {
     "name": "stderr",
     "output_type": "stream",
     "text": [
      "Sending chatcomplete API requests: 100%|██████████| 1/1 [00:02<00:00,  2.30s/it]\n"
     ]
    },
    {
     "name": "stdout",
     "output_type": "stream",
     "text": [
      "split test into trunks\n",
      "there are 3 text_trunks\n"
     ]
    },
    {
     "name": "stderr",
     "output_type": "stream",
     "text": [
      "Sending chatcomplete API requests: 100%|██████████| 3/3 [02:19<00:00, 46.55s/it]\n",
      "Sending chatcomplete API requests: 100%|██████████| 1/1 [00:08<00:00,  8.84s/it]\n",
      "/opt/shichenh/gpt_translate/src/gpt_translate/articles/JsonArticleManager.py:131: FutureWarning: The frame.append method is deprecated and will be removed from pandas in a future version. Use pandas.concat instead.\n",
      "  self.articles_df = self.articles_df.append(series, ignore_index=True)\n"
     ]
    },
    {
     "name": "stdout",
     "output_type": "stream",
     "text": [
      "processing record: 韩国人有没有某大V说的那么可怜？\n"
     ]
    },
    {
     "name": "stderr",
     "output_type": "stream",
     "text": [
      "Sending chatcomplete API requests: 100%|██████████| 1/1 [00:01<00:00,  1.26s/it]\n"
     ]
    },
    {
     "name": "stdout",
     "output_type": "stream",
     "text": [
      "split test into trunks\n",
      "there are 3 text_trunks\n"
     ]
    },
    {
     "name": "stderr",
     "output_type": "stream",
     "text": [
      "Sending chatcomplete API requests: 100%|██████████| 3/3 [03:48<00:00, 76.14s/it] \n",
      "Sending chatcomplete API requests: 100%|██████████| 1/1 [00:13<00:00, 13.36s/it]\n",
      "/opt/shichenh/gpt_translate/src/gpt_translate/articles/JsonArticleManager.py:131: FutureWarning: The frame.append method is deprecated and will be removed from pandas in a future version. Use pandas.concat instead.\n",
      "  self.articles_df = self.articles_df.append(series, ignore_index=True)\n"
     ]
    },
    {
     "name": "stdout",
     "output_type": "stream",
     "text": [
      "processing record: 重点从来不在于主任院长，重点在于医生将来的钱咋分\n"
     ]
    },
    {
     "name": "stderr",
     "output_type": "stream",
     "text": [
      "Sending chatcomplete API requests: 100%|██████████| 1/1 [00:02<00:00,  2.71s/it]\n"
     ]
    },
    {
     "name": "stdout",
     "output_type": "stream",
     "text": [
      "split test into trunks\n",
      "there are 2 text_trunks\n"
     ]
    },
    {
     "name": "stderr",
     "output_type": "stream",
     "text": [
      "Sending chatcomplete API requests: 100%|██████████| 2/2 [01:38<00:00, 49.06s/it]\n",
      "Sending chatcomplete API requests: 100%|██████████| 1/1 [00:16<00:00, 16.35s/it]\n",
      "/opt/shichenh/gpt_translate/src/gpt_translate/articles/JsonArticleManager.py:131: FutureWarning: The frame.append method is deprecated and will be removed from pandas in a future version. Use pandas.concat instead.\n",
      "  self.articles_df = self.articles_df.append(series, ignore_index=True)\n"
     ]
    },
    {
     "name": "stdout",
     "output_type": "stream",
     "text": [
      "processing record: 把有问题的医生挖出来，没你想那么简单\n"
     ]
    },
    {
     "name": "stderr",
     "output_type": "stream",
     "text": [
      "Sending chatcomplete API requests: 100%|██████████| 1/1 [00:02<00:00,  2.07s/it]\n"
     ]
    },
    {
     "name": "stdout",
     "output_type": "stream",
     "text": [
      "split test into trunks\n",
      "there are 2 text_trunks\n"
     ]
    },
    {
     "name": "stderr",
     "output_type": "stream",
     "text": [
      "Sending chatcomplete API requests: 100%|██████████| 2/2 [01:50<00:00, 55.29s/it]\n",
      "Sending chatcomplete API requests: 100%|██████████| 1/1 [00:10<00:00, 10.67s/it]\n",
      "/opt/shichenh/gpt_translate/src/gpt_translate/articles/JsonArticleManager.py:131: FutureWarning: The frame.append method is deprecated and will be removed from pandas in a future version. Use pandas.concat instead.\n",
      "  self.articles_df = self.articles_df.append(series, ignore_index=True)\n"
     ]
    },
    {
     "name": "stdout",
     "output_type": "stream",
     "text": [
      "processing record: 东南亚真这么危险吗？\n"
     ]
    },
    {
     "name": "stderr",
     "output_type": "stream",
     "text": [
      "Sending chatcomplete API requests: 100%|██████████| 1/1 [00:01<00:00,  1.53s/it]\n"
     ]
    },
    {
     "name": "stdout",
     "output_type": "stream",
     "text": [
      "split test into trunks\n",
      "there are 2 text_trunks\n"
     ]
    },
    {
     "name": "stderr",
     "output_type": "stream",
     "text": [
      "Sending chatcomplete API requests: 100%|██████████| 2/2 [02:11<00:00, 65.52s/it]\n",
      "Sending chatcomplete API requests: 100%|██████████| 1/1 [00:11<00:00, 11.55s/it]\n",
      "/opt/shichenh/gpt_translate/src/gpt_translate/articles/JsonArticleManager.py:131: FutureWarning: The frame.append method is deprecated and will be removed from pandas in a future version. Use pandas.concat instead.\n",
      "  self.articles_df = self.articles_df.append(series, ignore_index=True)\n"
     ]
    },
    {
     "name": "stdout",
     "output_type": "stream",
     "text": [
      "processing record: 穷人到底配不配生娃？\n"
     ]
    },
    {
     "name": "stderr",
     "output_type": "stream",
     "text": [
      "Sending chatcomplete API requests: 100%|██████████| 1/1 [00:00<00:00,  1.06it/s]\n"
     ]
    },
    {
     "name": "stdout",
     "output_type": "stream",
     "text": [
      "split test into trunks\n",
      "there are 5 text_trunks\n"
     ]
    },
    {
     "name": "stderr",
     "output_type": "stream",
     "text": [
      "Sending chatcomplete API requests: 100%|██████████| 5/5 [03:38<00:00, 43.71s/it]\n",
      "Sending chatcomplete API requests: 100%|██████████| 1/1 [00:13<00:00, 13.58s/it]\n",
      "/opt/shichenh/gpt_translate/src/gpt_translate/articles/JsonArticleManager.py:131: FutureWarning: The frame.append method is deprecated and will be removed from pandas in a future version. Use pandas.concat instead.\n",
      "  self.articles_df = self.articles_df.append(series, ignore_index=True)\n"
     ]
    },
    {
     "name": "stdout",
     "output_type": "stream",
     "text": [
      "processing record: 李嘉诚7折卖房算砸盘么？\n"
     ]
    },
    {
     "name": "stderr",
     "output_type": "stream",
     "text": [
      "Sending chatcomplete API requests: 100%|██████████| 1/1 [00:02<00:00,  2.09s/it]\n"
     ]
    },
    {
     "name": "stdout",
     "output_type": "stream",
     "text": [
      "split test into trunks\n",
      "there are 2 text_trunks\n"
     ]
    },
    {
     "name": "stderr",
     "output_type": "stream",
     "text": [
      "Sending chatcomplete API requests: 100%|██████████| 2/2 [01:22<00:00, 41.03s/it]\n",
      "Sending chatcomplete API requests: 100%|██████████| 1/1 [00:12<00:00, 12.77s/it]\n",
      "/opt/shichenh/gpt_translate/src/gpt_translate/articles/JsonArticleManager.py:131: FutureWarning: The frame.append method is deprecated and will be removed from pandas in a future version. Use pandas.concat instead.\n",
      "  self.articles_df = self.articles_df.append(series, ignore_index=True)\n"
     ]
    },
    {
     "name": "stdout",
     "output_type": "stream",
     "text": [
      "processing record: 江浙沪独生女的梗为什么会流行？\n"
     ]
    },
    {
     "name": "stderr",
     "output_type": "stream",
     "text": [
      "Sending chatcomplete API requests: 100%|██████████| 1/1 [00:01<00:00,  1.72s/it]\n"
     ]
    },
    {
     "name": "stdout",
     "output_type": "stream",
     "text": [
      "split test into trunks\n",
      "there are 5 text_trunks\n"
     ]
    },
    {
     "name": "stderr",
     "output_type": "stream",
     "text": [
      "Sending chatcomplete API requests: 100%|██████████| 5/5 [03:31<00:00, 42.40s/it]\n",
      "Sending chatcomplete API requests: 100%|██████████| 1/1 [00:15<00:00, 15.00s/it]\n",
      "/opt/shichenh/gpt_translate/src/gpt_translate/articles/JsonArticleManager.py:131: FutureWarning: The frame.append method is deprecated and will be removed from pandas in a future version. Use pandas.concat instead.\n",
      "  self.articles_df = self.articles_df.append(series, ignore_index=True)\n"
     ]
    },
    {
     "name": "stdout",
     "output_type": "stream",
     "text": [
      "processing record: 那什么系，不是你们不配听，是我不配聊\n"
     ]
    },
    {
     "name": "stderr",
     "output_type": "stream",
     "text": [
      "Sending chatcomplete API requests: 100%|██████████| 1/1 [00:03<00:00,  3.75s/it]\n"
     ]
    },
    {
     "name": "stdout",
     "output_type": "stream",
     "text": [
      "split test into trunks\n",
      "there are 3 text_trunks\n"
     ]
    },
    {
     "name": "stderr",
     "output_type": "stream",
     "text": [
      "Sending chatcomplete API requests: 100%|██████████| 3/3 [02:10<00:00, 43.55s/it]\n",
      "Sending chatcomplete API requests: 100%|██████████| 1/1 [00:14<00:00, 14.31s/it]\n",
      "/opt/shichenh/gpt_translate/src/gpt_translate/articles/JsonArticleManager.py:131: FutureWarning: The frame.append method is deprecated and will be removed from pandas in a future version. Use pandas.concat instead.\n",
      "  self.articles_df = self.articles_df.append(series, ignore_index=True)\n"
     ]
    },
    {
     "name": "stdout",
     "output_type": "stream",
     "text": [
      "processing record: 暂停发布青年失业数据，年轻人还有机会吗？\n"
     ]
    },
    {
     "name": "stderr",
     "output_type": "stream",
     "text": [
      "Sending chatcomplete API requests: 100%|██████████| 1/1 [00:01<00:00,  1.44s/it]\n"
     ]
    },
    {
     "name": "stdout",
     "output_type": "stream",
     "text": [
      "split test into trunks\n",
      "there are 4 text_trunks\n"
     ]
    },
    {
     "name": "stderr",
     "output_type": "stream",
     "text": [
      "Sending chatcomplete API requests: 100%|██████████| 4/4 [02:54<00:00, 43.65s/it]\n",
      "Sending chatcomplete API requests: 100%|██████████| 1/1 [00:12<00:00, 12.02s/it]\n",
      "/opt/shichenh/gpt_translate/src/gpt_translate/articles/JsonArticleManager.py:131: FutureWarning: The frame.append method is deprecated and will be removed from pandas in a future version. Use pandas.concat instead.\n",
      "  self.articles_df = self.articles_df.append(series, ignore_index=True)\n"
     ]
    },
    {
     "name": "stdout",
     "output_type": "stream",
     "text": [
      "processing record: 人生第三悲是老婆是女医药代表？\n"
     ]
    },
    {
     "name": "stderr",
     "output_type": "stream",
     "text": [
      "Sending chatcomplete API requests: 100%|██████████| 1/1 [00:02<00:00,  2.47s/it]\n"
     ]
    },
    {
     "name": "stdout",
     "output_type": "stream",
     "text": [
      "split test into trunks\n",
      "there are 3 text_trunks\n"
     ]
    },
    {
     "name": "stderr",
     "output_type": "stream",
     "text": [
      "Sending chatcomplete API requests: 100%|██████████| 3/3 [02:40<00:00, 53.49s/it]\n",
      "Sending chatcomplete API requests: 100%|██████████| 1/1 [00:13<00:00, 13.09s/it]\n",
      "/opt/shichenh/gpt_translate/src/gpt_translate/articles/JsonArticleManager.py:131: FutureWarning: The frame.append method is deprecated and will be removed from pandas in a future version. Use pandas.concat instead.\n",
      "  self.articles_df = self.articles_df.append(series, ignore_index=True)\n"
     ]
    },
    {
     "name": "stdout",
     "output_type": "stream",
     "text": [
      "processing record: 这世上有江河湖海，小鲤鱼为什么一定要跳龙门呢？\n"
     ]
    },
    {
     "name": "stderr",
     "output_type": "stream",
     "text": [
      "Sending chatcomplete API requests: 100%|██████████| 1/1 [00:01<00:00,  1.90s/it]\n"
     ]
    },
    {
     "name": "stdout",
     "output_type": "stream",
     "text": [
      "split test into trunks\n",
      "there are 4 text_trunks\n"
     ]
    },
    {
     "name": "stderr",
     "output_type": "stream",
     "text": [
      "Sending chatcomplete API requests: 100%|██████████| 4/4 [03:02<00:00, 45.58s/it]\n",
      "Sending chatcomplete API requests: 100%|██████████| 1/1 [00:14<00:00, 14.86s/it]\n",
      "/opt/shichenh/gpt_translate/src/gpt_translate/articles/JsonArticleManager.py:131: FutureWarning: The frame.append method is deprecated and will be removed from pandas in a future version. Use pandas.concat instead.\n",
      "  self.articles_df = self.articles_df.append(series, ignore_index=True)\n"
     ]
    },
    {
     "name": "stdout",
     "output_type": "stream",
     "text": [
      "processing record: 世上不允许有这么牛B的编剧存在\n"
     ]
    },
    {
     "name": "stderr",
     "output_type": "stream",
     "text": [
      "Sending chatcomplete API requests: 100%|██████████| 1/1 [00:01<00:00,  1.40s/it]\n"
     ]
    },
    {
     "name": "stdout",
     "output_type": "stream",
     "text": [
      "split test into trunks\n",
      "there are 3 text_trunks\n"
     ]
    },
    {
     "name": "stderr",
     "output_type": "stream",
     "text": [
      "Sending chatcomplete API requests: 100%|██████████| 3/3 [02:41<00:00, 53.67s/it]\n",
      "Sending chatcomplete API requests: 100%|██████████| 1/1 [00:11<00:00, 11.67s/it]\n",
      "/opt/shichenh/gpt_translate/src/gpt_translate/articles/JsonArticleManager.py:131: FutureWarning: The frame.append method is deprecated and will be removed from pandas in a future version. Use pandas.concat instead.\n",
      "  self.articles_df = self.articles_df.append(series, ignore_index=True)\n"
     ]
    },
    {
     "name": "stdout",
     "output_type": "stream",
     "text": [
      "processing record: 这是怎么了？不想要女人，不想要成功，甚至不想要活着\n"
     ]
    },
    {
     "name": "stderr",
     "output_type": "stream",
     "text": [
      "Sending chatcomplete API requests: 100%|██████████| 1/1 [00:01<00:00,  1.68s/it]\n"
     ]
    },
    {
     "name": "stdout",
     "output_type": "stream",
     "text": [
      "split test into trunks\n",
      "there are 4 text_trunks\n"
     ]
    },
    {
     "name": "stderr",
     "output_type": "stream",
     "text": [
      "Sending chatcomplete API requests: 100%|██████████| 4/4 [03:41<00:00, 55.40s/it]\n",
      "Sending chatcomplete API requests: 100%|██████████| 1/1 [00:08<00:00,  8.88s/it]\n",
      "/opt/shichenh/gpt_translate/src/gpt_translate/articles/JsonArticleManager.py:131: FutureWarning: The frame.append method is deprecated and will be removed from pandas in a future version. Use pandas.concat instead.\n",
      "  self.articles_df = self.articles_df.append(series, ignore_index=True)\n"
     ]
    },
    {
     "name": "stdout",
     "output_type": "stream",
     "text": [
      "processing record: 年轻人要的，可不只是一份工作\n"
     ]
    },
    {
     "name": "stderr",
     "output_type": "stream",
     "text": [
      "Sending chatcomplete API requests: 100%|██████████| 1/1 [00:00<00:00,  1.07it/s]\n"
     ]
    },
    {
     "name": "stdout",
     "output_type": "stream",
     "text": [
      "split test into trunks\n",
      "there are 4 text_trunks\n"
     ]
    },
    {
     "name": "stderr",
     "output_type": "stream",
     "text": [
      "Sending chatcomplete API requests: 100%|██████████| 4/4 [02:20<00:00, 35.25s/it]\n",
      "Sending chatcomplete API requests: 100%|██████████| 1/1 [00:08<00:00,  8.67s/it]\n",
      "/opt/shichenh/gpt_translate/src/gpt_translate/articles/JsonArticleManager.py:131: FutureWarning: The frame.append method is deprecated and will be removed from pandas in a future version. Use pandas.concat instead.\n",
      "  self.articles_df = self.articles_df.append(series, ignore_index=True)\n"
     ]
    },
    {
     "name": "stdout",
     "output_type": "stream",
     "text": [
      "processing record: 网红举报，新东方停课，家长希望复课，能用供需解释么？\n"
     ]
    },
    {
     "name": "stderr",
     "output_type": "stream",
     "text": [
      "Sending chatcomplete API requests: 100%|██████████| 1/1 [00:02<00:00,  2.45s/it]\n"
     ]
    },
    {
     "name": "stdout",
     "output_type": "stream",
     "text": [
      "split test into trunks\n",
      "there are 3 text_trunks\n"
     ]
    },
    {
     "name": "stderr",
     "output_type": "stream",
     "text": [
      "Sending chatcomplete API requests: 100%|██████████| 3/3 [02:59<00:00, 59.67s/it]\n",
      "Sending chatcomplete API requests: 100%|██████████| 1/1 [00:09<00:00,  9.62s/it]\n",
      "/opt/shichenh/gpt_translate/src/gpt_translate/articles/JsonArticleManager.py:131: FutureWarning: The frame.append method is deprecated and will be removed from pandas in a future version. Use pandas.concat instead.\n",
      "  self.articles_df = self.articles_df.append(series, ignore_index=True)\n"
     ]
    },
    {
     "name": "stdout",
     "output_type": "stream",
     "text": [
      "processing record: 碧桂园无非是个早晚的事儿，早，或者晚\n"
     ]
    },
    {
     "name": "stderr",
     "output_type": "stream",
     "text": [
      "Sending chatcomplete API requests: 100%|██████████| 1/1 [00:01<00:00,  1.63s/it]\n"
     ]
    },
    {
     "name": "stdout",
     "output_type": "stream",
     "text": [
      "split test into trunks\n",
      "there are 3 text_trunks\n"
     ]
    },
    {
     "name": "stderr",
     "output_type": "stream",
     "text": [
      "Sending chatcomplete API requests: 100%|██████████| 3/3 [02:04<00:00, 41.59s/it]\n",
      "Sending chatcomplete API requests: 100%|██████████| 1/1 [00:10<00:00, 10.26s/it]\n",
      "/opt/shichenh/gpt_translate/src/gpt_translate/articles/JsonArticleManager.py:131: FutureWarning: The frame.append method is deprecated and will be removed from pandas in a future version. Use pandas.concat instead.\n",
      "  self.articles_df = self.articles_df.append(series, ignore_index=True)\n"
     ]
    },
    {
     "name": "stdout",
     "output_type": "stream",
     "text": [
      "processing record: 看不懂这一代年轻人不稀奇\n"
     ]
    },
    {
     "name": "stderr",
     "output_type": "stream",
     "text": [
      "Sending chatcomplete API requests: 100%|██████████| 1/1 [00:01<00:00,  1.45s/it]\n"
     ]
    },
    {
     "name": "stdout",
     "output_type": "stream",
     "text": [
      "split test into trunks\n",
      "there are 4 text_trunks\n"
     ]
    },
    {
     "name": "stderr",
     "output_type": "stream",
     "text": [
      "Sending chatcomplete API requests: 100%|██████████| 4/4 [03:01<00:00, 45.38s/it]\n",
      "Sending chatcomplete API requests: 100%|██████████| 1/1 [00:09<00:00,  9.23s/it]\n",
      "/opt/shichenh/gpt_translate/src/gpt_translate/articles/JsonArticleManager.py:131: FutureWarning: The frame.append method is deprecated and will be removed from pandas in a future version. Use pandas.concat instead.\n",
      "  self.articles_df = self.articles_df.append(series, ignore_index=True)\n"
     ]
    },
    {
     "name": "stdout",
     "output_type": "stream",
     "text": [
      "processing record: TFBOYS是谁不重要，甚至他们引爆了西安也不重要\n"
     ]
    },
    {
     "name": "stderr",
     "output_type": "stream",
     "text": [
      "Sending chatcomplete API requests: 100%|██████████| 1/1 [00:02<00:00,  2.81s/it]\n"
     ]
    },
    {
     "name": "stdout",
     "output_type": "stream",
     "text": [
      "split test into trunks\n",
      "there are 3 text_trunks\n"
     ]
    },
    {
     "name": "stderr",
     "output_type": "stream",
     "text": [
      "Sending chatcomplete API requests: 100%|██████████| 3/3 [02:14<00:00, 44.93s/it]\n",
      "Sending chatcomplete API requests: 100%|██████████| 1/1 [00:10<00:00, 10.71s/it]\n",
      "/opt/shichenh/gpt_translate/src/gpt_translate/articles/JsonArticleManager.py:131: FutureWarning: The frame.append method is deprecated and will be removed from pandas in a future version. Use pandas.concat instead.\n",
      "  self.articles_df = self.articles_df.append(series, ignore_index=True)\n"
     ]
    },
    {
     "name": "stdout",
     "output_type": "stream",
     "text": [
      "processing record: 这个世界既不缺钱，也不缺生产力\n"
     ]
    },
    {
     "name": "stderr",
     "output_type": "stream",
     "text": [
      "Sending chatcomplete API requests: 100%|██████████| 1/1 [00:01<00:00,  1.41s/it]\n"
     ]
    },
    {
     "name": "stdout",
     "output_type": "stream",
     "text": [
      "split test into trunks\n",
      "there are 4 text_trunks\n"
     ]
    },
    {
     "name": "stderr",
     "output_type": "stream",
     "text": [
      "Sending chatcomplete API requests: 100%|██████████| 4/4 [04:21<00:00, 65.43s/it]\n",
      "Sending chatcomplete API requests: 100%|██████████| 1/1 [00:16<00:00, 16.46s/it]\n",
      "/opt/shichenh/gpt_translate/src/gpt_translate/articles/JsonArticleManager.py:131: FutureWarning: The frame.append method is deprecated and will be removed from pandas in a future version. Use pandas.concat instead.\n",
      "  self.articles_df = self.articles_df.append(series, ignore_index=True)\n"
     ]
    },
    {
     "name": "stdout",
     "output_type": "stream",
     "text": [
      "processing record: 缅北这么嚣张，为什么不管管？\n"
     ]
    },
    {
     "name": "stderr",
     "output_type": "stream",
     "text": [
      "Sending chatcomplete API requests: 100%|██████████| 1/1 [00:01<00:00,  1.89s/it]\n"
     ]
    },
    {
     "name": "stdout",
     "output_type": "stream",
     "text": [
      "split test into trunks\n",
      "there are 4 text_trunks\n"
     ]
    },
    {
     "name": "stderr",
     "output_type": "stream",
     "text": [
      "Sending chatcomplete API requests: 100%|██████████| 4/4 [02:14<00:00, 33.73s/it]\n",
      "Sending chatcomplete API requests: 100%|██████████| 1/1 [00:15<00:00, 15.07s/it]\n",
      "/opt/shichenh/gpt_translate/src/gpt_translate/articles/JsonArticleManager.py:131: FutureWarning: The frame.append method is deprecated and will be removed from pandas in a future version. Use pandas.concat instead.\n",
      "  self.articles_df = self.articles_df.append(series, ignore_index=True)\n"
     ]
    },
    {
     "name": "stdout",
     "output_type": "stream",
     "text": [
      "processing record: 这场牵涉医疗全行业的行动，对学医的，未必不是一个契机\n"
     ]
    },
    {
     "name": "stderr",
     "output_type": "stream",
     "text": [
      "Sending chatcomplete API requests: 100%|██████████| 1/1 [00:01<00:00,  1.35s/it]\n"
     ]
    },
    {
     "name": "stdout",
     "output_type": "stream",
     "text": [
      "split test into trunks\n",
      "there are 4 text_trunks\n"
     ]
    },
    {
     "name": "stderr",
     "output_type": "stream",
     "text": [
      "Sending chatcomplete API requests: 100%|██████████| 4/4 [03:00<00:00, 45.24s/it]\n",
      "Sending chatcomplete API requests: 100%|██████████| 1/1 [00:13<00:00, 13.91s/it]\n",
      "/opt/shichenh/gpt_translate/src/gpt_translate/articles/JsonArticleManager.py:131: FutureWarning: The frame.append method is deprecated and will be removed from pandas in a future version. Use pandas.concat instead.\n",
      "  self.articles_df = self.articles_df.append(series, ignore_index=True)\n"
     ]
    },
    {
     "name": "stdout",
     "output_type": "stream",
     "text": [
      "processing record: 逛商场都迷糊，你还想做摸金校尉？\n"
     ]
    },
    {
     "name": "stderr",
     "output_type": "stream",
     "text": [
      "Sending chatcomplete API requests: 100%|██████████| 1/1 [00:01<00:00,  1.83s/it]\n"
     ]
    },
    {
     "name": "stdout",
     "output_type": "stream",
     "text": [
      "split test into trunks\n",
      "there are 3 text_trunks\n"
     ]
    },
    {
     "name": "stderr",
     "output_type": "stream",
     "text": [
      "Sending chatcomplete API requests: 100%|██████████| 3/3 [02:17<00:00, 45.68s/it]\n",
      "Sending chatcomplete API requests: 100%|██████████| 1/1 [00:11<00:00, 11.55s/it]\n",
      "/opt/shichenh/gpt_translate/src/gpt_translate/articles/JsonArticleManager.py:131: FutureWarning: The frame.append method is deprecated and will be removed from pandas in a future version. Use pandas.concat instead.\n",
      "  self.articles_df = self.articles_df.append(series, ignore_index=True)\n"
     ]
    },
    {
     "name": "stdout",
     "output_type": "stream",
     "text": [
      "processing record: 你想要钱，还是想不当人？\n"
     ]
    },
    {
     "name": "stderr",
     "output_type": "stream",
     "text": [
      "Sending chatcomplete API requests: 100%|██████████| 1/1 [00:01<00:00,  1.60s/it]\n"
     ]
    },
    {
     "name": "stdout",
     "output_type": "stream",
     "text": [
      "split test into trunks\n",
      "there are 4 text_trunks\n"
     ]
    },
    {
     "name": "stderr",
     "output_type": "stream",
     "text": [
      "Sending chatcomplete API requests: 100%|██████████| 4/4 [02:50<00:00, 42.64s/it]\n",
      "Sending chatcomplete API requests: 100%|██████████| 1/1 [00:12<00:00, 12.55s/it]\n",
      "/opt/shichenh/gpt_translate/src/gpt_translate/articles/JsonArticleManager.py:131: FutureWarning: The frame.append method is deprecated and will be removed from pandas in a future version. Use pandas.concat instead.\n",
      "  self.articles_df = self.articles_df.append(series, ignore_index=True)\n"
     ]
    },
    {
     "name": "stdout",
     "output_type": "stream",
     "text": [
      "processing record: 你说了算，要钱何用？你说了不算，要钱何用？\n"
     ]
    },
    {
     "name": "stderr",
     "output_type": "stream",
     "text": [
      "Sending chatcomplete API requests: 100%|██████████| 1/1 [00:01<00:00,  1.73s/it]\n"
     ]
    },
    {
     "name": "stdout",
     "output_type": "stream",
     "text": [
      "split test into trunks\n",
      "there are 3 text_trunks\n"
     ]
    },
    {
     "name": "stderr",
     "output_type": "stream",
     "text": [
      "Sending chatcomplete API requests: 100%|██████████| 3/3 [02:09<00:00, 43.07s/it]\n",
      "Sending chatcomplete API requests: 100%|██████████| 1/1 [00:14<00:00, 14.32s/it]\n",
      "/opt/shichenh/gpt_translate/src/gpt_translate/articles/JsonArticleManager.py:131: FutureWarning: The frame.append method is deprecated and will be removed from pandas in a future version. Use pandas.concat instead.\n",
      "  self.articles_df = self.articles_df.append(series, ignore_index=True)\n"
     ]
    },
    {
     "name": "stdout",
     "output_type": "stream",
     "text": [
      "processing record: 如果你只看到诈骗，那就白看了\n"
     ]
    },
    {
     "name": "stderr",
     "output_type": "stream",
     "text": [
      "Sending chatcomplete API requests: 100%|██████████| 1/1 [00:02<00:00,  2.12s/it]\n"
     ]
    },
    {
     "name": "stdout",
     "output_type": "stream",
     "text": [
      "split test into trunks\n",
      "there are 4 text_trunks\n"
     ]
    },
    {
     "name": "stderr",
     "output_type": "stream",
     "text": [
      "Sending chatcomplete API requests: 100%|██████████| 4/4 [03:12<00:00, 48.22s/it]\n",
      "Sending chatcomplete API requests: 100%|██████████| 1/1 [00:13<00:00, 13.78s/it]\n",
      "/opt/shichenh/gpt_translate/src/gpt_translate/articles/JsonArticleManager.py:131: FutureWarning: The frame.append method is deprecated and will be removed from pandas in a future version. Use pandas.concat instead.\n",
      "  self.articles_df = self.articles_df.append(series, ignore_index=True)\n"
     ]
    },
    {
     "name": "stdout",
     "output_type": "stream",
     "text": [
      "processing record: 跟一个回民，聊了一路新疆\n"
     ]
    },
    {
     "name": "stderr",
     "output_type": "stream",
     "text": [
      "Sending chatcomplete API requests: 100%|██████████| 1/1 [00:01<00:00,  1.86s/it]\n"
     ]
    },
    {
     "name": "stdout",
     "output_type": "stream",
     "text": [
      "split test into trunks\n",
      "there are 2 text_trunks\n"
     ]
    },
    {
     "name": "stderr",
     "output_type": "stream",
     "text": [
      "Sending chatcomplete API requests: 100%|██████████| 2/2 [02:23<00:00, 71.98s/it]\n",
      "Sending chatcomplete API requests: 100%|██████████| 1/1 [00:11<00:00, 11.67s/it]\n",
      "/opt/shichenh/gpt_translate/src/gpt_translate/articles/JsonArticleManager.py:131: FutureWarning: The frame.append method is deprecated and will be removed from pandas in a future version. Use pandas.concat instead.\n",
      "  self.articles_df = self.articles_df.append(series, ignore_index=True)\n"
     ]
    },
    {
     "name": "stdout",
     "output_type": "stream",
     "text": [
      "processing record: 要让一部分人先花起来\n"
     ]
    },
    {
     "name": "stderr",
     "output_type": "stream",
     "text": [
      "Sending chatcomplete API requests: 100%|██████████| 1/1 [00:02<00:00,  2.20s/it]\n"
     ]
    },
    {
     "name": "stdout",
     "output_type": "stream",
     "text": [
      "split test into trunks\n",
      "there are 4 text_trunks\n"
     ]
    },
    {
     "name": "stderr",
     "output_type": "stream",
     "text": [
      "Sending chatcomplete API requests: 100%|██████████| 4/4 [03:19<00:00, 49.79s/it]\n",
      "Sending chatcomplete API requests: 100%|██████████| 1/1 [00:09<00:00,  9.32s/it]\n",
      "/opt/shichenh/gpt_translate/src/gpt_translate/articles/JsonArticleManager.py:131: FutureWarning: The frame.append method is deprecated and will be removed from pandas in a future version. Use pandas.concat instead.\n",
      "  self.articles_df = self.articles_df.append(series, ignore_index=True)\n"
     ]
    },
    {
     "name": "stdout",
     "output_type": "stream",
     "text": [
      "processing record: 关于私闯罗布泊遇难，我想说点不同意见\n"
     ]
    },
    {
     "name": "stderr",
     "output_type": "stream",
     "text": [
      "Sending chatcomplete API requests: 100%|██████████| 1/1 [00:01<00:00,  1.85s/it]\n"
     ]
    },
    {
     "name": "stdout",
     "output_type": "stream",
     "text": [
      "split test into trunks\n",
      "there are 4 text_trunks\n"
     ]
    },
    {
     "name": "stderr",
     "output_type": "stream",
     "text": [
      "Sending chatcomplete API requests: 100%|██████████| 4/4 [02:06<00:00, 31.62s/it]\n",
      "Sending chatcomplete API requests: 100%|██████████| 1/1 [00:10<00:00, 10.41s/it]\n",
      "/opt/shichenh/gpt_translate/src/gpt_translate/articles/JsonArticleManager.py:131: FutureWarning: The frame.append method is deprecated and will be removed from pandas in a future version. Use pandas.concat instead.\n",
      "  self.articles_df = self.articles_df.append(series, ignore_index=True)\n"
     ]
    },
    {
     "name": "stdout",
     "output_type": "stream",
     "text": [
      "processing record: 说一点新疆的负面言论\n"
     ]
    },
    {
     "name": "stderr",
     "output_type": "stream",
     "text": [
      "Sending chatcomplete API requests: 100%|██████████| 1/1 [00:01<00:00,  1.09s/it]\n"
     ]
    },
    {
     "name": "stdout",
     "output_type": "stream",
     "text": [
      "split test into trunks\n",
      "there are 4 text_trunks\n"
     ]
    },
    {
     "name": "stderr",
     "output_type": "stream",
     "text": [
      "Sending chatcomplete API requests: 100%|██████████| 4/4 [02:32<00:00, 38.07s/it]\n",
      "Sending chatcomplete API requests: 100%|██████████| 1/1 [00:12<00:00, 12.35s/it]\n",
      "/opt/shichenh/gpt_translate/src/gpt_translate/articles/JsonArticleManager.py:131: FutureWarning: The frame.append method is deprecated and will be removed from pandas in a future version. Use pandas.concat instead.\n",
      "  self.articles_df = self.articles_df.append(series, ignore_index=True)\n"
     ]
    },
    {
     "name": "stdout",
     "output_type": "stream",
     "text": [
      "processing record: 马伯庸新作是在讽刺朝廷么？\n"
     ]
    },
    {
     "name": "stderr",
     "output_type": "stream",
     "text": [
      "Sending chatcomplete API requests: 100%|██████████| 1/1 [00:01<00:00,  1.73s/it]\n"
     ]
    },
    {
     "name": "stdout",
     "output_type": "stream",
     "text": [
      "split test into trunks\n",
      "there are 3 text_trunks\n"
     ]
    },
    {
     "name": "stderr",
     "output_type": "stream",
     "text": [
      "Sending chatcomplete API requests: 100%|██████████| 3/3 [02:04<00:00, 41.50s/it]\n",
      "Sending chatcomplete API requests: 100%|██████████| 1/1 [00:10<00:00, 10.35s/it]\n",
      "/opt/shichenh/gpt_translate/src/gpt_translate/articles/JsonArticleManager.py:131: FutureWarning: The frame.append method is deprecated and will be removed from pandas in a future version. Use pandas.concat instead.\n",
      "  self.articles_df = self.articles_df.append(series, ignore_index=True)\n"
     ]
    },
    {
     "name": "stdout",
     "output_type": "stream",
     "text": [
      "processing record: 乔布斯愿意和聪明人工作并不是不需要考虑他们的自尊\n"
     ]
    },
    {
     "name": "stderr",
     "output_type": "stream",
     "text": [
      "Sending chatcomplete API requests: 100%|██████████| 1/1 [00:02<00:00,  2.13s/it]\n"
     ]
    },
    {
     "name": "stdout",
     "output_type": "stream",
     "text": [
      "split test into trunks\n",
      "there are 3 text_trunks\n"
     ]
    },
    {
     "name": "stderr",
     "output_type": "stream",
     "text": [
      "Sending chatcomplete API requests: 100%|██████████| 3/3 [02:03<00:00, 41.08s/it]\n",
      "Sending chatcomplete API requests: 100%|██████████| 1/1 [00:11<00:00, 11.64s/it]\n",
      "/opt/shichenh/gpt_translate/src/gpt_translate/articles/JsonArticleManager.py:131: FutureWarning: The frame.append method is deprecated and will be removed from pandas in a future version. Use pandas.concat instead.\n",
      "  self.articles_df = self.articles_df.append(series, ignore_index=True)\n"
     ]
    },
    {
     "name": "stdout",
     "output_type": "stream",
     "text": [
      "processing record: 超导是真的，是不是就不用卷了？\n"
     ]
    },
    {
     "name": "stderr",
     "output_type": "stream",
     "text": [
      "Sending chatcomplete API requests: 100%|██████████| 1/1 [00:01<00:00,  1.62s/it]\n"
     ]
    },
    {
     "name": "stdout",
     "output_type": "stream",
     "text": [
      "split test into trunks\n",
      "there are 3 text_trunks\n"
     ]
    },
    {
     "name": "stderr",
     "output_type": "stream",
     "text": [
      "Sending chatcomplete API requests: 100%|██████████| 3/3 [02:11<00:00, 43.80s/it]\n",
      "Sending chatcomplete API requests: 100%|██████████| 1/1 [00:10<00:00, 10.41s/it]\n",
      "/opt/shichenh/gpt_translate/src/gpt_translate/articles/JsonArticleManager.py:131: FutureWarning: The frame.append method is deprecated and will be removed from pandas in a future version. Use pandas.concat instead.\n",
      "  self.articles_df = self.articles_df.append(series, ignore_index=True)\n"
     ]
    },
    {
     "name": "stdout",
     "output_type": "stream",
     "text": [
      "processing record: 这个劈腿金融高管获资2000万的瓜\n"
     ]
    },
    {
     "name": "stderr",
     "output_type": "stream",
     "text": [
      "Sending chatcomplete API requests: 100%|██████████| 1/1 [00:02<00:00,  2.35s/it]\n"
     ]
    },
    {
     "name": "stdout",
     "output_type": "stream",
     "text": [
      "split test into trunks\n",
      "there are 3 text_trunks\n"
     ]
    },
    {
     "name": "stderr",
     "output_type": "stream",
     "text": [
      "Sending chatcomplete API requests: 100%|██████████| 3/3 [02:02<00:00, 40.91s/it]\n",
      "Sending chatcomplete API requests: 100%|██████████| 1/1 [00:09<00:00,  9.36s/it]\n",
      "/opt/shichenh/gpt_translate/src/gpt_translate/articles/JsonArticleManager.py:131: FutureWarning: The frame.append method is deprecated and will be removed from pandas in a future version. Use pandas.concat instead.\n",
      "  self.articles_df = self.articles_df.append(series, ignore_index=True)\n"
     ]
    },
    {
     "name": "stdout",
     "output_type": "stream",
     "text": [
      "processing record: 弑父观念是哪儿来的？\n"
     ]
    },
    {
     "name": "stderr",
     "output_type": "stream",
     "text": [
      "Sending chatcomplete API requests: 100%|██████████| 1/1 [00:00<00:00,  1.05it/s]\n"
     ]
    },
    {
     "name": "stdout",
     "output_type": "stream",
     "text": [
      "split test into trunks\n",
      "there are 4 text_trunks\n"
     ]
    },
    {
     "name": "stderr",
     "output_type": "stream",
     "text": [
      "Sending chatcomplete API requests: 100%|██████████| 4/4 [02:48<00:00, 42.13s/it]\n",
      "Sending chatcomplete API requests: 100%|██████████| 1/1 [00:42<00:00, 42.05s/it]\n",
      "/opt/shichenh/gpt_translate/src/gpt_translate/articles/JsonArticleManager.py:131: FutureWarning: The frame.append method is deprecated and will be removed from pandas in a future version. Use pandas.concat instead.\n",
      "  self.articles_df = self.articles_df.append(series, ignore_index=True)\n"
     ]
    },
    {
     "name": "stdout",
     "output_type": "stream",
     "text": [
      "processing record: 这不是故事，这就是真相\n"
     ]
    },
    {
     "name": "stderr",
     "output_type": "stream",
     "text": [
      "Sending chatcomplete API requests: 100%|██████████| 1/1 [00:01<00:00,  1.42s/it]\n"
     ]
    },
    {
     "name": "stdout",
     "output_type": "stream",
     "text": [
      "split test into trunks\n",
      "there are 3 text_trunks\n"
     ]
    },
    {
     "name": "stderr",
     "output_type": "stream",
     "text": [
      "Sending chatcomplete API requests: 100%|██████████| 3/3 [01:59<00:00, 39.76s/it]\n",
      "Sending chatcomplete API requests: 100%|██████████| 1/1 [00:08<00:00,  8.41s/it]\n",
      "/opt/shichenh/gpt_translate/src/gpt_translate/articles/JsonArticleManager.py:131: FutureWarning: The frame.append method is deprecated and will be removed from pandas in a future version. Use pandas.concat instead.\n",
      "  self.articles_df = self.articles_df.append(series, ignore_index=True)\n"
     ]
    },
    {
     "name": "stdout",
     "output_type": "stream",
     "text": [
      "processing record: 超导若真到来，过去数月我们预测的所有模型全都会发生巨变\n"
     ]
    },
    {
     "name": "stderr",
     "output_type": "stream",
     "text": [
      "Sending chatcomplete API requests: 100%|██████████| 1/1 [00:02<00:00,  2.40s/it]\n"
     ]
    },
    {
     "name": "stdout",
     "output_type": "stream",
     "text": [
      "split test into trunks\n",
      "there are 3 text_trunks\n"
     ]
    },
    {
     "name": "stderr",
     "output_type": "stream",
     "text": [
      "Sending chatcomplete API requests: 100%|██████████| 3/3 [01:41<00:00, 33.97s/it]\n",
      "Sending chatcomplete API requests: 100%|██████████| 1/1 [00:13<00:00, 13.64s/it]\n",
      "/opt/shichenh/gpt_translate/src/gpt_translate/articles/JsonArticleManager.py:131: FutureWarning: The frame.append method is deprecated and will be removed from pandas in a future version. Use pandas.concat instead.\n",
      "  self.articles_df = self.articles_df.append(series, ignore_index=True)\n"
     ]
    },
    {
     "name": "stdout",
     "output_type": "stream",
     "text": [
      "processing record: 真实的纣王与真实的武王伐纣\n"
     ]
    },
    {
     "name": "stderr",
     "output_type": "stream",
     "text": [
      "Sending chatcomplete API requests: 100%|██████████| 1/1 [00:02<00:00,  2.52s/it]\n"
     ]
    },
    {
     "name": "stdout",
     "output_type": "stream",
     "text": [
      "split test into trunks\n",
      "there are 2 text_trunks\n"
     ]
    },
    {
     "name": "stderr",
     "output_type": "stream",
     "text": [
      "Sending chatcomplete API requests: 100%|██████████| 2/2 [02:05<00:00, 62.96s/it]\n",
      "Sending chatcomplete API requests: 100%|██████████| 1/1 [00:09<00:00,  9.60s/it]\n",
      "/opt/shichenh/gpt_translate/src/gpt_translate/articles/JsonArticleManager.py:131: FutureWarning: The frame.append method is deprecated and will be removed from pandas in a future version. Use pandas.concat instead.\n",
      "  self.articles_df = self.articles_df.append(series, ignore_index=True)\n"
     ]
    },
    {
     "name": "stdout",
     "output_type": "stream",
     "text": [
      "processing record: 不用像闰土一样喊老爷，就不知道自己斤两了？\n"
     ]
    },
    {
     "name": "stderr",
     "output_type": "stream",
     "text": [
      "Sending chatcomplete API requests: 100%|██████████| 1/1 [00:01<00:00,  1.50s/it]\n"
     ]
    },
    {
     "name": "stdout",
     "output_type": "stream",
     "text": [
      "split test into trunks\n",
      "there are 6 text_trunks\n"
     ]
    },
    {
     "name": "stderr",
     "output_type": "stream",
     "text": [
      "Sending chatcomplete API requests: 100%|██████████| 6/6 [03:29<00:00, 34.95s/it]\n",
      "Sending chatcomplete API requests: 100%|██████████| 1/1 [00:12<00:00, 12.72s/it]\n",
      "/opt/shichenh/gpt_translate/src/gpt_translate/articles/JsonArticleManager.py:131: FutureWarning: The frame.append method is deprecated and will be removed from pandas in a future version. Use pandas.concat instead.\n",
      "  self.articles_df = self.articles_df.append(series, ignore_index=True)\n"
     ]
    },
    {
     "name": "stdout",
     "output_type": "stream",
     "text": [
      "processing record: 我终于明白钱是咋洗的，钱是咋骗的\n"
     ]
    },
    {
     "name": "stderr",
     "output_type": "stream",
     "text": [
      "Sending chatcomplete API requests: 100%|██████████| 1/1 [00:01<00:00,  1.90s/it]\n"
     ]
    },
    {
     "name": "stdout",
     "output_type": "stream",
     "text": [
      "split test into trunks\n",
      "there are 3 text_trunks\n"
     ]
    },
    {
     "name": "stderr",
     "output_type": "stream",
     "text": [
      "Sending chatcomplete API requests: 100%|██████████| 3/3 [01:58<00:00, 39.34s/it]\n",
      "Sending chatcomplete API requests: 100%|██████████| 1/1 [00:24<00:00, 24.74s/it]\n",
      "/opt/shichenh/gpt_translate/src/gpt_translate/articles/JsonArticleManager.py:131: FutureWarning: The frame.append method is deprecated and will be removed from pandas in a future version. Use pandas.concat instead.\n",
      "  self.articles_df = self.articles_df.append(series, ignore_index=True)\n"
     ]
    },
    {
     "name": "stdout",
     "output_type": "stream",
     "text": [
      "processing record: 认房不认贷与定居新疆是不是个新选择？\n"
     ]
    },
    {
     "name": "stderr",
     "output_type": "stream",
     "text": [
      "Sending chatcomplete API requests: 100%|██████████| 1/1 [00:01<00:00,  1.61s/it]\n"
     ]
    },
    {
     "name": "stdout",
     "output_type": "stream",
     "text": [
      "split test into trunks\n",
      "there are 3 text_trunks\n"
     ]
    },
    {
     "name": "stderr",
     "output_type": "stream",
     "text": [
      "Sending chatcomplete API requests: 100%|██████████| 3/3 [01:59<00:00, 39.90s/it]\n",
      "Sending chatcomplete API requests: 100%|██████████| 1/1 [00:11<00:00, 11.88s/it]\n",
      "/opt/shichenh/gpt_translate/src/gpt_translate/articles/JsonArticleManager.py:131: FutureWarning: The frame.append method is deprecated and will be removed from pandas in a future version. Use pandas.concat instead.\n",
      "  self.articles_df = self.articles_df.append(series, ignore_index=True)\n"
     ]
    },
    {
     "name": "stdout",
     "output_type": "stream",
     "text": [
      "processing record: 聊刀郎，不如聊聊刀郎的家乡新疆\n"
     ]
    },
    {
     "name": "stderr",
     "output_type": "stream",
     "text": [
      "Sending chatcomplete API requests: 100%|██████████| 1/1 [00:01<00:00,  1.35s/it]\n"
     ]
    },
    {
     "name": "stdout",
     "output_type": "stream",
     "text": [
      "split test into trunks\n",
      "there are 2 text_trunks\n"
     ]
    },
    {
     "name": "stderr",
     "output_type": "stream",
     "text": [
      "Sending chatcomplete API requests: 100%|██████████| 2/2 [01:32<00:00, 46.16s/it]\n",
      "Sending chatcomplete API requests: 100%|██████████| 1/1 [00:09<00:00,  9.05s/it]\n",
      "/opt/shichenh/gpt_translate/src/gpt_translate/articles/JsonArticleManager.py:131: FutureWarning: The frame.append method is deprecated and will be removed from pandas in a future version. Use pandas.concat instead.\n",
      "  self.articles_df = self.articles_df.append(series, ignore_index=True)\n"
     ]
    },
    {
     "name": "stdout",
     "output_type": "stream",
     "text": [
      "processing record: 纣王到底输在什么地方？\n"
     ]
    },
    {
     "name": "stderr",
     "output_type": "stream",
     "text": [
      "Sending chatcomplete API requests: 100%|██████████| 1/1 [00:00<00:00,  1.16it/s]\n"
     ]
    },
    {
     "name": "stdout",
     "output_type": "stream",
     "text": [
      "split test into trunks\n",
      "there are 4 text_trunks\n"
     ]
    },
    {
     "name": "stderr",
     "output_type": "stream",
     "text": [
      "Sending chatcomplete API requests: 100%|██████████| 4/4 [03:05<00:00, 46.49s/it]\n",
      "Sending chatcomplete API requests: 100%|██████████| 1/1 [00:08<00:00,  8.43s/it]\n",
      "/opt/shichenh/gpt_translate/src/gpt_translate/articles/JsonArticleManager.py:131: FutureWarning: The frame.append method is deprecated and will be removed from pandas in a future version. Use pandas.concat instead.\n",
      "  self.articles_df = self.articles_df.append(series, ignore_index=True)\n"
     ]
    },
    {
     "name": "stdout",
     "output_type": "stream",
     "text": [
      "processing record: 刀郎讽刺的，比你想象中大得多？\n"
     ]
    },
    {
     "name": "stderr",
     "output_type": "stream",
     "text": [
      "Sending chatcomplete API requests: 100%|██████████| 1/1 [00:01<00:00,  1.13s/it]\n"
     ]
    },
    {
     "name": "stdout",
     "output_type": "stream",
     "text": [
      "split test into trunks\n",
      "there are 3 text_trunks\n"
     ]
    },
    {
     "name": "stderr",
     "output_type": "stream",
     "text": [
      "Sending chatcomplete API requests: 100%|██████████| 3/3 [01:54<00:00, 38.03s/it]\n",
      "Sending chatcomplete API requests: 100%|██████████| 1/1 [00:09<00:00,  9.07s/it]\n",
      "/opt/shichenh/gpt_translate/src/gpt_translate/articles/JsonArticleManager.py:131: FutureWarning: The frame.append method is deprecated and will be removed from pandas in a future version. Use pandas.concat instead.\n",
      "  self.articles_df = self.articles_df.append(series, ignore_index=True)\n"
     ]
    },
    {
     "name": "stdout",
     "output_type": "stream",
     "text": [
      "processing record: 这不是庶民的狂欢，这是资本的漏洞\n"
     ]
    },
    {
     "name": "stderr",
     "output_type": "stream",
     "text": [
      "Sending chatcomplete API requests: 100%|██████████| 1/1 [00:02<00:00,  2.08s/it]\n"
     ]
    },
    {
     "name": "stdout",
     "output_type": "stream",
     "text": [
      "split test into trunks\n",
      "there are 4 text_trunks\n"
     ]
    },
    {
     "name": "stderr",
     "output_type": "stream",
     "text": [
      "Sending chatcomplete API requests: 100%|██████████| 4/4 [02:35<00:00, 38.91s/it]\n",
      "Sending chatcomplete API requests: 100%|██████████| 1/1 [00:13<00:00, 13.74s/it]\n",
      "/opt/shichenh/gpt_translate/src/gpt_translate/articles/JsonArticleManager.py:131: FutureWarning: The frame.append method is deprecated and will be removed from pandas in a future version. Use pandas.concat instead.\n",
      "  self.articles_df = self.articles_df.append(series, ignore_index=True)\n"
     ]
    },
    {
     "name": "stdout",
     "output_type": "stream",
     "text": [
      "processing record: 那马户不知道他是一头驴，那又鸟不知道他是一只鸡\n"
     ]
    },
    {
     "name": "stderr",
     "output_type": "stream",
     "text": [
      "Sending chatcomplete API requests: 100%|██████████| 1/1 [00:01<00:00,  1.63s/it]\n"
     ]
    },
    {
     "name": "stdout",
     "output_type": "stream",
     "text": [
      "split test into trunks\n",
      "there are 3 text_trunks\n"
     ]
    },
    {
     "name": "stderr",
     "output_type": "stream",
     "text": [
      "Sending chatcomplete API requests: 100%|██████████| 3/3 [02:45<00:00, 55.26s/it]\n",
      "Sending chatcomplete API requests: 100%|██████████| 1/1 [00:10<00:00, 10.19s/it]\n",
      "/opt/shichenh/gpt_translate/src/gpt_translate/articles/JsonArticleManager.py:131: FutureWarning: The frame.append method is deprecated and will be removed from pandas in a future version. Use pandas.concat instead.\n",
      "  self.articles_df = self.articles_df.append(series, ignore_index=True)\n"
     ]
    },
    {
     "name": "stdout",
     "output_type": "stream",
     "text": [
      "processing record: 年中最重要的大会之后，楼市有什么大变化？\n"
     ]
    },
    {
     "name": "stderr",
     "output_type": "stream",
     "text": [
      "Sending chatcomplete API requests: 100%|██████████| 1/1 [00:01<00:00,  1.53s/it]\n"
     ]
    },
    {
     "name": "stdout",
     "output_type": "stream",
     "text": [
      "split test into trunks\n",
      "there are 2 text_trunks\n"
     ]
    },
    {
     "name": "stderr",
     "output_type": "stream",
     "text": [
      "Sending chatcomplete API requests: 100%|██████████| 2/2 [01:09<00:00, 34.84s/it]\n",
      "Sending chatcomplete API requests: 100%|██████████| 1/1 [00:09<00:00,  9.42s/it]\n",
      "/opt/shichenh/gpt_translate/src/gpt_translate/articles/JsonArticleManager.py:131: FutureWarning: The frame.append method is deprecated and will be removed from pandas in a future version. Use pandas.concat instead.\n",
      "  self.articles_df = self.articles_df.append(series, ignore_index=True)\n"
     ]
    },
    {
     "name": "stdout",
     "output_type": "stream",
     "text": [
      "processing record: 高适并不是小镇青年，痛苦的也不只有高适\n"
     ]
    },
    {
     "name": "stderr",
     "output_type": "stream",
     "text": [
      "Sending chatcomplete API requests: 100%|██████████| 1/1 [00:01<00:00,  1.46s/it]\n"
     ]
    },
    {
     "name": "stdout",
     "output_type": "stream",
     "text": [
      "split test into trunks\n",
      "there are 2 text_trunks\n"
     ]
    },
    {
     "name": "stderr",
     "output_type": "stream",
     "text": [
      "Sending chatcomplete API requests: 100%|██████████| 2/2 [01:39<00:00, 49.68s/it]\n",
      "Sending chatcomplete API requests: 100%|██████████| 1/1 [00:24<00:00, 24.17s/it]\n",
      "/opt/shichenh/gpt_translate/src/gpt_translate/articles/JsonArticleManager.py:131: FutureWarning: The frame.append method is deprecated and will be removed from pandas in a future version. Use pandas.concat instead.\n",
      "  self.articles_df = self.articles_df.append(series, ignore_index=True)\n"
     ]
    },
    {
     "name": "stdout",
     "output_type": "stream",
     "text": [
      "processing record: 你所看到的都是纣王让你看到的，你所相信的都是纣王让你相信的\n"
     ]
    },
    {
     "name": "stderr",
     "output_type": "stream",
     "text": [
      "Sending chatcomplete API requests: 100%|██████████| 1/1 [00:01<00:00,  1.90s/it]\n"
     ]
    },
    {
     "name": "stdout",
     "output_type": "stream",
     "text": [
      "split test into trunks\n",
      "there are 5 text_trunks\n"
     ]
    },
    {
     "name": "stderr",
     "output_type": "stream",
     "text": [
      "Sending chatcomplete API requests: 100%|██████████| 5/5 [02:46<00:00, 33.33s/it]\n",
      "Sending chatcomplete API requests: 100%|██████████| 1/1 [00:12<00:00, 12.44s/it]\n",
      "/opt/shichenh/gpt_translate/src/gpt_translate/articles/JsonArticleManager.py:131: FutureWarning: The frame.append method is deprecated and will be removed from pandas in a future version. Use pandas.concat instead.\n",
      "  self.articles_df = self.articles_df.append(series, ignore_index=True)\n"
     ]
    },
    {
     "name": "stdout",
     "output_type": "stream",
     "text": [
      "processing record: 攻击唐代长安坊市模式的，与文盲无异\n"
     ]
    },
    {
     "name": "stderr",
     "output_type": "stream",
     "text": [
      "Sending chatcomplete API requests: 100%|██████████| 1/1 [00:01<00:00,  1.93s/it]\n"
     ]
    },
    {
     "name": "stdout",
     "output_type": "stream",
     "text": [
      "split test into trunks\n",
      "there are 3 text_trunks\n"
     ]
    },
    {
     "name": "stderr",
     "output_type": "stream",
     "text": [
      "Sending chatcomplete API requests: 100%|██████████| 3/3 [01:54<00:00, 38.28s/it]\n",
      "Sending chatcomplete API requests: 100%|██████████| 1/1 [00:12<00:00, 12.69s/it]\n",
      "/opt/shichenh/gpt_translate/src/gpt_translate/articles/JsonArticleManager.py:131: FutureWarning: The frame.append method is deprecated and will be removed from pandas in a future version. Use pandas.concat instead.\n",
      "  self.articles_df = self.articles_df.append(series, ignore_index=True)\n"
     ]
    },
    {
     "name": "stdout",
     "output_type": "stream",
     "text": [
      "processing record: 人别给自己加太多戏，不然多情却被无情恼\n"
     ]
    },
    {
     "name": "stderr",
     "output_type": "stream",
     "text": [
      "Sending chatcomplete API requests: 100%|██████████| 1/1 [00:01<00:00,  1.66s/it]\n"
     ]
    },
    {
     "name": "stdout",
     "output_type": "stream",
     "text": [
      "split test into trunks\n",
      "there are 3 text_trunks\n"
     ]
    },
    {
     "name": "stderr",
     "output_type": "stream",
     "text": [
      "Sending chatcomplete API requests: 100%|██████████| 3/3 [01:50<00:00, 36.90s/it]\n",
      "Sending chatcomplete API requests: 100%|██████████| 1/1 [00:07<00:00,  7.36s/it]\n",
      "/opt/shichenh/gpt_translate/src/gpt_translate/articles/JsonArticleManager.py:131: FutureWarning: The frame.append method is deprecated and will be removed from pandas in a future version. Use pandas.concat instead.\n",
      "  self.articles_df = self.articles_df.append(series, ignore_index=True)\n"
     ]
    },
    {
     "name": "stdout",
     "output_type": "stream",
     "text": [
      "processing record: 找男人的关键和孩子跟你姓的关键是一回事\n"
     ]
    },
    {
     "name": "stderr",
     "output_type": "stream",
     "text": [
      "Sending chatcomplete API requests: 100%|██████████| 1/1 [00:01<00:00,  1.24s/it]\n"
     ]
    },
    {
     "name": "stdout",
     "output_type": "stream",
     "text": [
      "split test into trunks\n",
      "there are 3 text_trunks\n"
     ]
    },
    {
     "name": "stderr",
     "output_type": "stream",
     "text": [
      "Sending chatcomplete API requests: 100%|██████████| 3/3 [01:46<00:00, 35.48s/it]\n",
      "Sending chatcomplete API requests: 100%|██████████| 1/1 [00:10<00:00, 10.44s/it]\n",
      "/opt/shichenh/gpt_translate/src/gpt_translate/articles/JsonArticleManager.py:131: FutureWarning: The frame.append method is deprecated and will be removed from pandas in a future version. Use pandas.concat instead.\n",
      "  self.articles_df = self.articles_df.append(series, ignore_index=True)\n"
     ]
    },
    {
     "name": "stdout",
     "output_type": "stream",
     "text": [
      "processing record: 房子还能不能买？\n"
     ]
    },
    {
     "name": "stderr",
     "output_type": "stream",
     "text": [
      "Sending chatcomplete API requests: 100%|██████████| 1/1 [00:01<00:00,  1.31s/it]\n"
     ]
    },
    {
     "name": "stdout",
     "output_type": "stream",
     "text": [
      "split test into trunks\n",
      "there are 4 text_trunks\n"
     ]
    },
    {
     "name": "stderr",
     "output_type": "stream",
     "text": [
      "Sending chatcomplete API requests: 100%|██████████| 4/4 [02:52<00:00, 43.02s/it]\n",
      "Sending chatcomplete API requests: 100%|██████████| 1/1 [00:07<00:00,  7.89s/it]\n",
      "/opt/shichenh/gpt_translate/src/gpt_translate/articles/JsonArticleManager.py:131: FutureWarning: The frame.append method is deprecated and will be removed from pandas in a future version. Use pandas.concat instead.\n",
      "  self.articles_df = self.articles_df.append(series, ignore_index=True)\n"
     ]
    },
    {
     "name": "stdout",
     "output_type": "stream",
     "text": [
      "processing record: 俞敏洪鼓励儿子每天工作18个小时熬过来，不是问题的关键\n"
     ]
    },
    {
     "name": "stderr",
     "output_type": "stream",
     "text": [
      "Sending chatcomplete API requests: 100%|██████████| 1/1 [00:02<00:00,  2.22s/it]\n"
     ]
    },
    {
     "name": "stdout",
     "output_type": "stream",
     "text": [
      "split test into trunks\n",
      "there are 3 text_trunks\n"
     ]
    },
    {
     "name": "stderr",
     "output_type": "stream",
     "text": [
      "Sending chatcomplete API requests: 100%|██████████| 3/3 [01:42<00:00, 34.31s/it]\n",
      "Sending chatcomplete API requests: 100%|██████████| 1/1 [00:14<00:00, 14.25s/it]\n",
      "/opt/shichenh/gpt_translate/src/gpt_translate/articles/JsonArticleManager.py:131: FutureWarning: The frame.append method is deprecated and will be removed from pandas in a future version. Use pandas.concat instead.\n",
      "  self.articles_df = self.articles_df.append(series, ignore_index=True)\n"
     ]
    },
    {
     "name": "stdout",
     "output_type": "stream",
     "text": [
      "processing record: 西安的河南回流生争议，到底在争啥？\n"
     ]
    },
    {
     "name": "stderr",
     "output_type": "stream",
     "text": [
      "Sending chatcomplete API requests: 100%|██████████| 1/1 [00:01<00:00,  1.56s/it]\n"
     ]
    },
    {
     "name": "stdout",
     "output_type": "stream",
     "text": [
      "split test into trunks\n",
      "there are 4 text_trunks\n"
     ]
    },
    {
     "name": "stderr",
     "output_type": "stream",
     "text": [
      "Sending chatcomplete API requests: 100%|██████████| 4/4 [02:45<00:00, 41.34s/it]\n",
      "Sending chatcomplete API requests: 100%|██████████| 1/1 [00:14<00:00, 14.92s/it]\n",
      "/opt/shichenh/gpt_translate/src/gpt_translate/articles/JsonArticleManager.py:131: FutureWarning: The frame.append method is deprecated and will be removed from pandas in a future version. Use pandas.concat instead.\n",
      "  self.articles_df = self.articles_df.append(series, ignore_index=True)\n"
     ]
    },
    {
     "name": "stdout",
     "output_type": "stream",
     "text": [
      "processing record: 你看不起的生意很可能就是未来的好生意\n"
     ]
    },
    {
     "name": "stderr",
     "output_type": "stream",
     "text": [
      "Sending chatcomplete API requests: 100%|██████████| 1/1 [00:02<00:00,  2.26s/it]\n"
     ]
    },
    {
     "name": "stdout",
     "output_type": "stream",
     "text": [
      "split test into trunks\n",
      "there are 3 text_trunks\n"
     ]
    },
    {
     "name": "stderr",
     "output_type": "stream",
     "text": [
      "Sending chatcomplete API requests: 100%|██████████| 3/3 [01:47<00:00, 35.80s/it]\n",
      "Sending chatcomplete API requests: 100%|██████████| 1/1 [00:13<00:00, 13.58s/it]\n",
      "/opt/shichenh/gpt_translate/src/gpt_translate/articles/JsonArticleManager.py:131: FutureWarning: The frame.append method is deprecated and will be removed from pandas in a future version. Use pandas.concat instead.\n",
      "  self.articles_df = self.articles_df.append(series, ignore_index=True)\n"
     ]
    },
    {
     "name": "stdout",
     "output_type": "stream",
     "text": [
      "processing record: 你以为你接近了真相，但也许只是“鬼打墙”\n"
     ]
    },
    {
     "name": "stderr",
     "output_type": "stream",
     "text": [
      "Sending chatcomplete API requests: 100%|██████████| 1/1 [00:01<00:00,  1.31s/it]\n"
     ]
    },
    {
     "name": "stdout",
     "output_type": "stream",
     "text": [
      "split test into trunks\n",
      "there are 4 text_trunks\n"
     ]
    },
    {
     "name": "stderr",
     "output_type": "stream",
     "text": [
      "Sending chatcomplete API requests: 100%|██████████| 4/4 [01:54<00:00, 28.57s/it]\n",
      "Sending chatcomplete API requests: 100%|██████████| 1/1 [00:13<00:00, 13.25s/it]\n",
      "/opt/shichenh/gpt_translate/src/gpt_translate/articles/JsonArticleManager.py:131: FutureWarning: The frame.append method is deprecated and will be removed from pandas in a future version. Use pandas.concat instead.\n",
      "  self.articles_df = self.articles_df.append(series, ignore_index=True)\n"
     ]
    },
    {
     "name": "stdout",
     "output_type": "stream",
     "text": [
      "processing record: 昨天深夜看到一篇署名马化腾的文章\n"
     ]
    },
    {
     "name": "stderr",
     "output_type": "stream",
     "text": [
      "Sending chatcomplete API requests: 100%|██████████| 1/1 [00:01<00:00,  1.23s/it]\n"
     ]
    },
    {
     "name": "stdout",
     "output_type": "stream",
     "text": [
      "split test into trunks\n",
      "there are 2 text_trunks\n"
     ]
    },
    {
     "name": "stderr",
     "output_type": "stream",
     "text": [
      "Sending chatcomplete API requests: 100%|██████████| 2/2 [02:23<00:00, 71.71s/it]\n",
      "Sending chatcomplete API requests: 100%|██████████| 1/1 [00:13<00:00, 13.06s/it]\n",
      "/opt/shichenh/gpt_translate/src/gpt_translate/articles/JsonArticleManager.py:131: FutureWarning: The frame.append method is deprecated and will be removed from pandas in a future version. Use pandas.concat instead.\n",
      "  self.articles_df = self.articles_df.append(series, ignore_index=True)\n"
     ]
    },
    {
     "name": "stdout",
     "output_type": "stream",
     "text": [
      "processing record: 最可怕的不是AI，最可怕的是真相\n"
     ]
    },
    {
     "name": "stderr",
     "output_type": "stream",
     "text": [
      "Sending chatcomplete API requests: 100%|██████████| 1/1 [00:01<00:00,  1.62s/it]\n"
     ]
    },
    {
     "name": "stdout",
     "output_type": "stream",
     "text": [
      "split test into trunks\n",
      "there are 3 text_trunks\n"
     ]
    },
    {
     "name": "stderr",
     "output_type": "stream",
     "text": [
      "Sending chatcomplete API requests: 100%|██████████| 3/3 [02:10<00:00, 43.55s/it]\n",
      "Sending chatcomplete API requests: 100%|██████████| 1/1 [00:18<00:00, 18.30s/it]\n",
      "/opt/shichenh/gpt_translate/src/gpt_translate/articles/JsonArticleManager.py:131: FutureWarning: The frame.append method is deprecated and will be removed from pandas in a future version. Use pandas.concat instead.\n",
      "  self.articles_df = self.articles_df.append(series, ignore_index=True)\n"
     ]
    },
    {
     "name": "stdout",
     "output_type": "stream",
     "text": [
      "processing record: 恒大的2.4万亿负债，到底是谁背负了所有？\n"
     ]
    },
    {
     "name": "stderr",
     "output_type": "stream",
     "text": [
      "Sending chatcomplete API requests: 100%|██████████| 1/1 [00:01<00:00,  1.67s/it]\n"
     ]
    },
    {
     "name": "stdout",
     "output_type": "stream",
     "text": [
      "split test into trunks\n",
      "there are 4 text_trunks\n"
     ]
    },
    {
     "name": "stderr",
     "output_type": "stream",
     "text": [
      "Sending chatcomplete API requests: 100%|██████████| 4/4 [02:18<00:00, 34.55s/it]\n",
      "Sending chatcomplete API requests: 100%|██████████| 1/1 [00:12<00:00, 12.08s/it]\n",
      "/opt/shichenh/gpt_translate/src/gpt_translate/articles/JsonArticleManager.py:131: FutureWarning: The frame.append method is deprecated and will be removed from pandas in a future version. Use pandas.concat instead.\n",
      "  self.articles_df = self.articles_df.append(series, ignore_index=True)\n"
     ]
    },
    {
     "name": "stdout",
     "output_type": "stream",
     "text": [
      "processing record: 那个终极的神秘反派Ta，究竟是谁？\n"
     ]
    },
    {
     "name": "stderr",
     "output_type": "stream",
     "text": [
      "Sending chatcomplete API requests: 100%|██████████| 1/1 [00:01<00:00,  1.91s/it]\n"
     ]
    },
    {
     "name": "stdout",
     "output_type": "stream",
     "text": [
      "split test into trunks\n",
      "there are 4 text_trunks\n"
     ]
    },
    {
     "name": "stderr",
     "output_type": "stream",
     "text": [
      "Sending chatcomplete API requests: 100%|██████████| 4/4 [02:22<00:00, 35.68s/it]\n",
      "Sending chatcomplete API requests: 100%|██████████| 1/1 [00:12<00:00, 12.34s/it]\n",
      "/opt/shichenh/gpt_translate/src/gpt_translate/articles/JsonArticleManager.py:131: FutureWarning: The frame.append method is deprecated and will be removed from pandas in a future version. Use pandas.concat instead.\n",
      "  self.articles_df = self.articles_df.append(series, ignore_index=True)\n"
     ]
    },
    {
     "name": "stdout",
     "output_type": "stream",
     "text": [
      "processing record: 烟草三代不得应聘没有你想的那么简单\n"
     ]
    },
    {
     "name": "stderr",
     "output_type": "stream",
     "text": [
      "Sending chatcomplete API requests: 100%|██████████| 1/1 [00:02<00:00,  2.21s/it]\n"
     ]
    },
    {
     "name": "stdout",
     "output_type": "stream",
     "text": [
      "split test into trunks\n",
      "there are 4 text_trunks\n"
     ]
    },
    {
     "name": "stderr",
     "output_type": "stream",
     "text": [
      "Sending chatcomplete API requests: 100%|██████████| 4/4 [03:11<00:00, 47.95s/it]\n",
      "Sending chatcomplete API requests: 100%|██████████| 1/1 [00:11<00:00, 11.92s/it]\n",
      "/opt/shichenh/gpt_translate/src/gpt_translate/articles/JsonArticleManager.py:131: FutureWarning: The frame.append method is deprecated and will be removed from pandas in a future version. Use pandas.concat instead.\n",
      "  self.articles_df = self.articles_df.append(series, ignore_index=True)\n"
     ]
    },
    {
     "name": "stdout",
     "output_type": "stream",
     "text": [
      "processing record: 我们是可以家境普通、学历普通，但人生未必普通\n"
     ]
    },
    {
     "name": "stderr",
     "output_type": "stream",
     "text": [
      "Sending chatcomplete API requests: 100%|██████████| 1/1 [00:01<00:00,  1.72s/it]\n"
     ]
    },
    {
     "name": "stdout",
     "output_type": "stream",
     "text": [
      "split test into trunks\n",
      "there are 5 text_trunks\n"
     ]
    },
    {
     "name": "stderr",
     "output_type": "stream",
     "text": [
      "Sending chatcomplete API requests: 100%|██████████| 5/5 [02:58<00:00, 35.61s/it]\n",
      "Sending chatcomplete API requests: 100%|██████████| 1/1 [00:11<00:00, 11.81s/it]\n",
      "/opt/shichenh/gpt_translate/src/gpt_translate/articles/JsonArticleManager.py:131: FutureWarning: The frame.append method is deprecated and will be removed from pandas in a future version. Use pandas.concat instead.\n",
      "  self.articles_df = self.articles_df.append(series, ignore_index=True)\n"
     ]
    },
    {
     "name": "stdout",
     "output_type": "stream",
     "text": [
      "processing record: 你爬不爬，山就在那里；你捐不捐，功德箱就在那里\n"
     ]
    },
    {
     "name": "stderr",
     "output_type": "stream",
     "text": [
      "Sending chatcomplete API requests: 100%|██████████| 1/1 [00:01<00:00,  1.87s/it]\n"
     ]
    },
    {
     "name": "stdout",
     "output_type": "stream",
     "text": [
      "split test into trunks\n",
      "there are 4 text_trunks\n"
     ]
    },
    {
     "name": "stderr",
     "output_type": "stream",
     "text": [
      "Sending chatcomplete API requests: 100%|██████████| 4/4 [02:10<00:00, 32.57s/it]\n",
      "Sending chatcomplete API requests: 100%|██████████| 1/1 [00:11<00:00, 11.12s/it]\n",
      "/opt/shichenh/gpt_translate/src/gpt_translate/articles/JsonArticleManager.py:131: FutureWarning: The frame.append method is deprecated and will be removed from pandas in a future version. Use pandas.concat instead.\n",
      "  self.articles_df = self.articles_df.append(series, ignore_index=True)\n"
     ]
    },
    {
     "name": "stdout",
     "output_type": "stream",
     "text": [
      "processing record: 刘青云为什么没有办法金盆洗手？\n"
     ]
    },
    {
     "name": "stderr",
     "output_type": "stream",
     "text": [
      "Sending chatcomplete API requests: 100%|██████████| 1/1 [00:01<00:00,  1.22s/it]\n"
     ]
    },
    {
     "name": "stdout",
     "output_type": "stream",
     "text": [
      "split test into trunks\n",
      "there are 4 text_trunks\n"
     ]
    },
    {
     "name": "stderr",
     "output_type": "stream",
     "text": [
      "Sending chatcomplete API requests: 100%|██████████| 4/4 [02:36<00:00, 39.09s/it]\n",
      "Sending chatcomplete API requests: 100%|██████████| 1/1 [00:12<00:00, 12.51s/it]\n",
      "/opt/shichenh/gpt_translate/src/gpt_translate/articles/JsonArticleManager.py:131: FutureWarning: The frame.append method is deprecated and will be removed from pandas in a future version. Use pandas.concat instead.\n",
      "  self.articles_df = self.articles_df.append(series, ignore_index=True)\n"
     ]
    },
    {
     "name": "stdout",
     "output_type": "stream",
     "text": [
      "processing record: 我们有过一阵风，但没有过风投市场\n"
     ]
    },
    {
     "name": "stderr",
     "output_type": "stream",
     "text": [
      "Sending chatcomplete API requests: 100%|██████████| 1/1 [00:01<00:00,  1.07s/it]\n"
     ]
    },
    {
     "name": "stdout",
     "output_type": "stream",
     "text": [
      "split test into trunks\n",
      "there are 3 text_trunks\n"
     ]
    },
    {
     "name": "stderr",
     "output_type": "stream",
     "text": [
      "Sending chatcomplete API requests: 100%|██████████| 3/3 [02:05<00:00, 41.71s/it]\n",
      "Sending chatcomplete API requests: 100%|██████████| 1/1 [00:10<00:00, 10.06s/it]\n",
      "/opt/shichenh/gpt_translate/src/gpt_translate/articles/JsonArticleManager.py:131: FutureWarning: The frame.append method is deprecated and will be removed from pandas in a future version. Use pandas.concat instead.\n",
      "  self.articles_df = self.articles_df.append(series, ignore_index=True)\n"
     ]
    },
    {
     "name": "stdout",
     "output_type": "stream",
     "text": [
      "processing record: 女人的幸福体现在听不到真话，可怜也体现在听不到真话\n"
     ]
    },
    {
     "name": "stderr",
     "output_type": "stream",
     "text": [
      "Sending chatcomplete API requests: 100%|██████████| 1/1 [00:01<00:00,  1.64s/it]\n"
     ]
    },
    {
     "name": "stdout",
     "output_type": "stream",
     "text": [
      "split test into trunks\n",
      "there are 6 text_trunks\n"
     ]
    },
    {
     "name": "stderr",
     "output_type": "stream",
     "text": [
      "Sending chatcomplete API requests: 100%|██████████| 6/6 [03:53<00:00, 39.00s/it]\n",
      "Sending chatcomplete API requests: 100%|██████████| 1/1 [00:10<00:00, 10.63s/it]\n",
      "/opt/shichenh/gpt_translate/src/gpt_translate/articles/JsonArticleManager.py:131: FutureWarning: The frame.append method is deprecated and will be removed from pandas in a future version. Use pandas.concat instead.\n",
      "  self.articles_df = self.articles_df.append(series, ignore_index=True)\n"
     ]
    },
    {
     "name": "stdout",
     "output_type": "stream",
     "text": [
      "processing record: 谁赢跟谁走\n"
     ]
    },
    {
     "name": "stderr",
     "output_type": "stream",
     "text": [
      "Sending chatcomplete API requests: 100%|██████████| 1/1 [00:00<00:00,  1.50it/s]\n"
     ]
    },
    {
     "name": "stdout",
     "output_type": "stream",
     "text": [
      "split test into trunks\n",
      "there are 3 text_trunks\n"
     ]
    },
    {
     "name": "stderr",
     "output_type": "stream",
     "text": [
      "Sending chatcomplete API requests: 100%|██████████| 3/3 [02:17<00:00, 45.76s/it]\n",
      "Sending chatcomplete API requests: 100%|██████████| 1/1 [00:14<00:00, 14.69s/it]\n",
      "/opt/shichenh/gpt_translate/src/gpt_translate/articles/JsonArticleManager.py:131: FutureWarning: The frame.append method is deprecated and will be removed from pandas in a future version. Use pandas.concat instead.\n",
      "  self.articles_df = self.articles_df.append(series, ignore_index=True)\n"
     ]
    },
    {
     "name": "stdout",
     "output_type": "stream",
     "text": [
      "processing record: 经济好不好，蹲在家里是看不到的\n"
     ]
    },
    {
     "name": "stderr",
     "output_type": "stream",
     "text": [
      "Sending chatcomplete API requests: 100%|██████████| 1/1 [00:01<00:00,  1.41s/it]\n"
     ]
    },
    {
     "name": "stdout",
     "output_type": "stream",
     "text": [
      "split test into trunks\n",
      "there are 3 text_trunks\n"
     ]
    },
    {
     "name": "stderr",
     "output_type": "stream",
     "text": [
      "Sending chatcomplete API requests: 100%|██████████| 3/3 [02:09<00:00, 43.30s/it]\n",
      "Sending chatcomplete API requests: 100%|██████████| 1/1 [00:12<00:00, 12.15s/it]\n",
      "/opt/shichenh/gpt_translate/src/gpt_translate/articles/JsonArticleManager.py:131: FutureWarning: The frame.append method is deprecated and will be removed from pandas in a future version. Use pandas.concat instead.\n",
      "  self.articles_df = self.articles_df.append(series, ignore_index=True)\n"
     ]
    },
    {
     "name": "stdout",
     "output_type": "stream",
     "text": [
      "processing record: 三幅画，画尽利益链，画尽众生相\n"
     ]
    },
    {
     "name": "stderr",
     "output_type": "stream",
     "text": [
      "Sending chatcomplete API requests: 100%|██████████| 1/1 [00:01<00:00,  1.81s/it]\n"
     ]
    },
    {
     "name": "stdout",
     "output_type": "stream",
     "text": [
      "split test into trunks\n",
      "there are 1 text_trunks\n"
     ]
    },
    {
     "name": "stderr",
     "output_type": "stream",
     "text": [
      "Sending chatcomplete API requests: 100%|██████████| 1/1 [00:10<00:00, 10.22s/it]\n",
      "Sending chatcomplete API requests: 100%|██████████| 1/1 [00:10<00:00, 10.06s/it]\n",
      "/opt/shichenh/gpt_translate/src/gpt_translate/articles/JsonArticleManager.py:131: FutureWarning: The frame.append method is deprecated and will be removed from pandas in a future version. Use pandas.concat instead.\n",
      "  self.articles_df = self.articles_df.append(series, ignore_index=True)\n"
     ]
    },
    {
     "name": "stdout",
     "output_type": "stream",
     "text": [
      "processing record: 选择蓝领工作，也得考虑越来越极端的天气\n"
     ]
    },
    {
     "name": "stderr",
     "output_type": "stream",
     "text": [
      "Sending chatcomplete API requests: 100%|██████████| 1/1 [00:01<00:00,  1.96s/it]\n"
     ]
    },
    {
     "name": "stdout",
     "output_type": "stream",
     "text": [
      "split test into trunks\n",
      "there are 3 text_trunks\n"
     ]
    },
    {
     "name": "stderr",
     "output_type": "stream",
     "text": [
      "Sending chatcomplete API requests: 100%|██████████| 3/3 [01:39<00:00, 33.29s/it]\n",
      "Sending chatcomplete API requests: 100%|██████████| 1/1 [00:12<00:00, 12.41s/it]\n",
      "/opt/shichenh/gpt_translate/src/gpt_translate/articles/JsonArticleManager.py:131: FutureWarning: The frame.append method is deprecated and will be removed from pandas in a future version. Use pandas.concat instead.\n",
      "  self.articles_df = self.articles_df.append(series, ignore_index=True)\n"
     ]
    },
    {
     "name": "stdout",
     "output_type": "stream",
     "text": [
      "processing record: 很多赌徒都曾经赢过赌场，为什么还是输光光？\n"
     ]
    },
    {
     "name": "stderr",
     "output_type": "stream",
     "text": [
      "Sending chatcomplete API requests: 100%|██████████| 1/1 [00:01<00:00,  1.26s/it]\n"
     ]
    },
    {
     "name": "stdout",
     "output_type": "stream",
     "text": [
      "split test into trunks\n",
      "there are 4 text_trunks\n"
     ]
    },
    {
     "name": "stderr",
     "output_type": "stream",
     "text": [
      "Sending chatcomplete API requests: 100%|██████████| 4/4 [02:52<00:00, 43.05s/it]\n",
      "Sending chatcomplete API requests: 100%|██████████| 1/1 [00:11<00:00, 11.79s/it]\n",
      "/opt/shichenh/gpt_translate/src/gpt_translate/articles/JsonArticleManager.py:131: FutureWarning: The frame.append method is deprecated and will be removed from pandas in a future version. Use pandas.concat instead.\n",
      "  self.articles_df = self.articles_df.append(series, ignore_index=True)\n"
     ]
    },
    {
     "name": "stdout",
     "output_type": "stream",
     "text": [
      "processing record: 经济类话题，你一定要回顾我曾经说过什么\n"
     ]
    },
    {
     "name": "stderr",
     "output_type": "stream",
     "text": [
      "Sending chatcomplete API requests: 100%|██████████| 1/1 [00:01<00:00,  1.30s/it]\n"
     ]
    },
    {
     "name": "stdout",
     "output_type": "stream",
     "text": [
      "split test into trunks\n",
      "there are 3 text_trunks\n"
     ]
    },
    {
     "name": "stderr",
     "output_type": "stream",
     "text": [
      "Sending chatcomplete API requests: 100%|██████████| 3/3 [01:40<00:00, 33.65s/it]\n",
      "Sending chatcomplete API requests: 100%|██████████| 1/1 [00:10<00:00, 10.43s/it]\n",
      "/opt/shichenh/gpt_translate/src/gpt_translate/articles/JsonArticleManager.py:131: FutureWarning: The frame.append method is deprecated and will be removed from pandas in a future version. Use pandas.concat instead.\n",
      "  self.articles_df = self.articles_df.append(series, ignore_index=True)\n"
     ]
    },
    {
     "name": "stdout",
     "output_type": "stream",
     "text": [
      "processing record: 浮桥不是重点，重点是，你想混得好，还是混得背？\n"
     ]
    },
    {
     "name": "stderr",
     "output_type": "stream",
     "text": [
      "Sending chatcomplete API requests: 100%|██████████| 1/1 [00:02<00:00,  2.44s/it]\n"
     ]
    },
    {
     "name": "stdout",
     "output_type": "stream",
     "text": [
      "split test into trunks\n",
      "there are 4 text_trunks\n"
     ]
    },
    {
     "name": "stderr",
     "output_type": "stream",
     "text": [
      "Sending chatcomplete API requests: 100%|██████████| 4/4 [02:54<00:00, 43.74s/it]\n",
      "Sending chatcomplete API requests: 100%|██████████| 1/1 [00:09<00:00,  9.02s/it]\n",
      "/opt/shichenh/gpt_translate/src/gpt_translate/articles/JsonArticleManager.py:131: FutureWarning: The frame.append method is deprecated and will be removed from pandas in a future version. Use pandas.concat instead.\n",
      "  self.articles_df = self.articles_df.append(series, ignore_index=True)\n"
     ]
    },
    {
     "name": "stdout",
     "output_type": "stream",
     "text": [
      "processing record: 上午聊的是修桥被判刑的农村版，下午聊城市版\n"
     ]
    },
    {
     "name": "stderr",
     "output_type": "stream",
     "text": [
      "Sending chatcomplete API requests: 100%|██████████| 1/1 [00:01<00:00,  1.41s/it]\n"
     ]
    },
    {
     "name": "stdout",
     "output_type": "stream",
     "text": [
      "split test into trunks\n",
      "there are 3 text_trunks\n"
     ]
    },
    {
     "name": "stderr",
     "output_type": "stream",
     "text": [
      "Sending chatcomplete API requests: 100%|██████████| 3/3 [02:32<00:00, 50.92s/it]\n",
      "Sending chatcomplete API requests: 100%|██████████| 1/1 [00:08<00:00,  8.30s/it]\n",
      "/opt/shichenh/gpt_translate/src/gpt_translate/articles/JsonArticleManager.py:131: FutureWarning: The frame.append method is deprecated and will be removed from pandas in a future version. Use pandas.concat instead.\n",
      "  self.articles_df = self.articles_df.append(series, ignore_index=True)\n"
     ]
    },
    {
     "name": "stdout",
     "output_type": "stream",
     "text": [
      "processing record: 修桥好事呀，咋还被判刑了？\n"
     ]
    },
    {
     "name": "stderr",
     "output_type": "stream",
     "text": [
      "Sending chatcomplete API requests: 100%|██████████| 1/1 [00:01<00:00,  1.46s/it]\n"
     ]
    },
    {
     "name": "stdout",
     "output_type": "stream",
     "text": [
      "split test into trunks\n",
      "there are 3 text_trunks\n"
     ]
    },
    {
     "name": "stderr",
     "output_type": "stream",
     "text": [
      "Sending chatcomplete API requests: 100%|██████████| 3/3 [02:26<00:00, 48.76s/it]\n",
      "Sending chatcomplete API requests: 100%|██████████| 1/1 [00:10<00:00, 10.19s/it]\n",
      "/opt/shichenh/gpt_translate/src/gpt_translate/articles/JsonArticleManager.py:131: FutureWarning: The frame.append method is deprecated and will be removed from pandas in a future version. Use pandas.concat instead.\n",
      "  self.articles_df = self.articles_df.append(series, ignore_index=True)\n"
     ]
    },
    {
     "name": "stdout",
     "output_type": "stream",
     "text": [
      "processing record: 这世上本来就只有两种人，骗子和被骗的\n"
     ]
    },
    {
     "name": "stderr",
     "output_type": "stream",
     "text": [
      "Sending chatcomplete API requests: 100%|██████████| 1/1 [00:01<00:00,  1.94s/it]\n"
     ]
    },
    {
     "name": "stdout",
     "output_type": "stream",
     "text": [
      "split test into trunks\n",
      "there are 3 text_trunks\n"
     ]
    },
    {
     "name": "stderr",
     "output_type": "stream",
     "text": [
      "Sending chatcomplete API requests: 100%|██████████| 3/3 [02:03<00:00, 41.30s/it]\n",
      "Sending chatcomplete API requests: 100%|██████████| 1/1 [00:10<00:00, 10.99s/it]\n",
      "/opt/shichenh/gpt_translate/src/gpt_translate/articles/JsonArticleManager.py:131: FutureWarning: The frame.append method is deprecated and will be removed from pandas in a future version. Use pandas.concat instead.\n",
      "  self.articles_df = self.articles_df.append(series, ignore_index=True)\n"
     ]
    },
    {
     "name": "stdout",
     "output_type": "stream",
     "text": [
      "processing record: 蚂蚁的天价罚款，人的静态和动态思维方式\n"
     ]
    },
    {
     "name": "stderr",
     "output_type": "stream",
     "text": [
      "Sending chatcomplete API requests: 100%|██████████| 1/1 [00:02<00:00,  2.69s/it]\n"
     ]
    },
    {
     "name": "stdout",
     "output_type": "stream",
     "text": [
      "split test into trunks\n",
      "there are 5 text_trunks\n"
     ]
    },
    {
     "name": "stderr",
     "output_type": "stream",
     "text": [
      "Sending chatcomplete API requests: 100%|██████████| 5/5 [03:06<00:00, 37.39s/it]\n",
      "Sending chatcomplete API requests: 100%|██████████| 1/1 [00:09<00:00,  9.70s/it]\n",
      "/opt/shichenh/gpt_translate/src/gpt_translate/articles/JsonArticleManager.py:131: FutureWarning: The frame.append method is deprecated and will be removed from pandas in a future version. Use pandas.concat instead.\n",
      "  self.articles_df = self.articles_df.append(series, ignore_index=True)\n"
     ]
    },
    {
     "name": "stdout",
     "output_type": "stream",
     "text": [
      "processing record: 除了骗子，没人会哄着你\n"
     ]
    },
    {
     "name": "stderr",
     "output_type": "stream",
     "text": [
      "Sending chatcomplete API requests: 100%|██████████| 1/1 [00:01<00:00,  1.21s/it]\n"
     ]
    },
    {
     "name": "stdout",
     "output_type": "stream",
     "text": [
      "split test into trunks\n",
      "there are 4 text_trunks\n"
     ]
    },
    {
     "name": "stderr",
     "output_type": "stream",
     "text": [
      "Sending chatcomplete API requests: 100%|██████████| 4/4 [02:23<00:00, 35.94s/it]\n",
      "Sending chatcomplete API requests: 100%|██████████| 1/1 [00:12<00:00, 12.50s/it]\n",
      "/opt/shichenh/gpt_translate/src/gpt_translate/articles/JsonArticleManager.py:131: FutureWarning: The frame.append method is deprecated and will be removed from pandas in a future version. Use pandas.concat instead.\n",
      "  self.articles_df = self.articles_df.append(series, ignore_index=True)\n"
     ]
    },
    {
     "name": "stdout",
     "output_type": "stream",
     "text": [
      "processing record: 富人的路越走越窄，穷人的路越走越宽\n"
     ]
    },
    {
     "name": "stderr",
     "output_type": "stream",
     "text": [
      "Sending chatcomplete API requests: 100%|██████████| 1/1 [00:01<00:00,  1.44s/it]\n"
     ]
    },
    {
     "name": "stdout",
     "output_type": "stream",
     "text": [
      "split test into trunks\n",
      "there are 4 text_trunks\n"
     ]
    },
    {
     "name": "stderr",
     "output_type": "stream",
     "text": [
      "Sending chatcomplete API requests: 100%|██████████| 4/4 [03:03<00:00, 45.76s/it]\n",
      "Sending chatcomplete API requests: 100%|██████████| 1/1 [00:11<00:00, 11.61s/it]\n",
      "/opt/shichenh/gpt_translate/src/gpt_translate/articles/JsonArticleManager.py:131: FutureWarning: The frame.append method is deprecated and will be removed from pandas in a future version. Use pandas.concat instead.\n",
      "  self.articles_df = self.articles_df.append(series, ignore_index=True)\n"
     ]
    },
    {
     "name": "stdout",
     "output_type": "stream",
     "text": [
      "processing record: ​李斯想明白了仓鼠理论，我想明白了盗洞理论\n"
     ]
    },
    {
     "name": "stderr",
     "output_type": "stream",
     "text": [
      "Sending chatcomplete API requests: 100%|██████████| 1/1 [00:01<00:00,  1.84s/it]\n"
     ]
    },
    {
     "name": "stdout",
     "output_type": "stream",
     "text": [
      "split test into trunks\n",
      "there are 3 text_trunks\n"
     ]
    },
    {
     "name": "stderr",
     "output_type": "stream",
     "text": [
      "Sending chatcomplete API requests: 100%|██████████| 3/3 [01:59<00:00, 39.94s/it]\n",
      "Sending chatcomplete API requests: 100%|██████████| 1/1 [00:17<00:00, 17.08s/it]\n",
      "/opt/shichenh/gpt_translate/src/gpt_translate/articles/JsonArticleManager.py:131: FutureWarning: The frame.append method is deprecated and will be removed from pandas in a future version. Use pandas.concat instead.\n",
      "  self.articles_df = self.articles_df.append(series, ignore_index=True)\n"
     ]
    },
    {
     "name": "stdout",
     "output_type": "stream",
     "text": [
      "processing record: 你以为只有热衷上香才是迷信？\n"
     ]
    },
    {
     "name": "stderr",
     "output_type": "stream",
     "text": [
      "Sending chatcomplete API requests: 100%|██████████| 1/1 [00:01<00:00,  1.82s/it]\n"
     ]
    },
    {
     "name": "stdout",
     "output_type": "stream",
     "text": [
      "split test into trunks\n",
      "there are 4 text_trunks\n"
     ]
    },
    {
     "name": "stderr",
     "output_type": "stream",
     "text": [
      "Sending chatcomplete API requests: 100%|██████████| 4/4 [03:25<00:00, 51.25s/it]\n",
      "Sending chatcomplete API requests: 100%|██████████| 1/1 [00:13<00:00, 13.69s/it]\n",
      "/opt/shichenh/gpt_translate/src/gpt_translate/articles/JsonArticleManager.py:131: FutureWarning: The frame.append method is deprecated and will be removed from pandas in a future version. Use pandas.concat instead.\n",
      "  self.articles_df = self.articles_df.append(series, ignore_index=True)\n"
     ]
    },
    {
     "name": "stdout",
     "output_type": "stream",
     "text": [
      "processing record: 李玟去世，比抑郁症更重要的，是​醒醒，该搬砖了\n"
     ]
    },
    {
     "name": "stderr",
     "output_type": "stream",
     "text": [
      "Sending chatcomplete API requests: 100%|██████████| 1/1 [00:03<00:00,  3.21s/it]\n"
     ]
    },
    {
     "name": "stdout",
     "output_type": "stream",
     "text": [
      "split test into trunks\n",
      "there are 3 text_trunks\n"
     ]
    },
    {
     "name": "stderr",
     "output_type": "stream",
     "text": [
      "Sending chatcomplete API requests: 100%|██████████| 3/3 [02:39<00:00, 53.07s/it]\n",
      "Sending chatcomplete API requests: 100%|██████████| 1/1 [00:09<00:00,  9.10s/it]\n",
      "/opt/shichenh/gpt_translate/src/gpt_translate/articles/JsonArticleManager.py:131: FutureWarning: The frame.append method is deprecated and will be removed from pandas in a future version. Use pandas.concat instead.\n",
      "  self.articles_df = self.articles_df.append(series, ignore_index=True)\n"
     ]
    },
    {
     "name": "stdout",
     "output_type": "stream",
     "text": [
      "processing record: 消失的她唯一的价值，就是提醒父母怎么教育女儿\n"
     ]
    },
    {
     "name": "stderr",
     "output_type": "stream",
     "text": [
      "Sending chatcomplete API requests: 100%|██████████| 1/1 [00:02<00:00,  2.23s/it]\n"
     ]
    },
    {
     "name": "stdout",
     "output_type": "stream",
     "text": [
      "split test into trunks\n",
      "there are 4 text_trunks\n"
     ]
    },
    {
     "name": "stderr",
     "output_type": "stream",
     "text": [
      "Sending chatcomplete API requests: 100%|██████████| 4/4 [03:04<00:00, 46.08s/it]\n",
      "Sending chatcomplete API requests: 100%|██████████| 1/1 [00:11<00:00, 11.09s/it]\n",
      "/opt/shichenh/gpt_translate/src/gpt_translate/articles/JsonArticleManager.py:131: FutureWarning: The frame.append method is deprecated and will be removed from pandas in a future version. Use pandas.concat instead.\n",
      "  self.articles_df = self.articles_df.append(series, ignore_index=True)\n"
     ]
    },
    {
     "name": "stdout",
     "output_type": "stream",
     "text": [
      "processing record: 凡人修炼多少级，也成不了佛\n"
     ]
    },
    {
     "name": "stderr",
     "output_type": "stream",
     "text": [
      "Sending chatcomplete API requests: 100%|██████████| 1/1 [00:01<00:00,  1.84s/it]\n"
     ]
    },
    {
     "name": "stdout",
     "output_type": "stream",
     "text": [
      "split test into trunks\n",
      "there are 3 text_trunks\n"
     ]
    },
    {
     "name": "stderr",
     "output_type": "stream",
     "text": [
      "Sending chatcomplete API requests: 100%|██████████| 3/3 [02:05<00:00, 41.98s/it]\n",
      "Sending chatcomplete API requests: 100%|██████████| 1/1 [00:08<00:00,  8.61s/it]\n",
      "/opt/shichenh/gpt_translate/src/gpt_translate/articles/JsonArticleManager.py:131: FutureWarning: The frame.append method is deprecated and will be removed from pandas in a future version. Use pandas.concat instead.\n",
      "  self.articles_df = self.articles_df.append(series, ignore_index=True)\n"
     ]
    },
    {
     "name": "stdout",
     "output_type": "stream",
     "text": [
      "processing record: 旅游相关专业好不好？\n"
     ]
    },
    {
     "name": "stderr",
     "output_type": "stream",
     "text": [
      "Sending chatcomplete API requests: 100%|██████████| 1/1 [00:01<00:00,  1.90s/it]\n"
     ]
    },
    {
     "name": "stdout",
     "output_type": "stream",
     "text": [
      "split test into trunks\n",
      "there are 4 text_trunks\n"
     ]
    },
    {
     "name": "stderr",
     "output_type": "stream",
     "text": [
      "Sending chatcomplete API requests: 100%|██████████| 4/4 [02:25<00:00, 36.42s/it]\n",
      "Sending chatcomplete API requests: 100%|██████████| 1/1 [00:10<00:00, 10.26s/it]\n",
      "/opt/shichenh/gpt_translate/src/gpt_translate/articles/JsonArticleManager.py:131: FutureWarning: The frame.append method is deprecated and will be removed from pandas in a future version. Use pandas.concat instead.\n",
      "  self.articles_df = self.articles_df.append(series, ignore_index=True)\n"
     ]
    },
    {
     "name": "stdout",
     "output_type": "stream",
     "text": [
      "processing record: ​你考研到底是为了切换赛道，还是为了提升学历？\n"
     ]
    },
    {
     "name": "stderr",
     "output_type": "stream",
     "text": [
      "Sending chatcomplete API requests: 100%|██████████| 1/1 [00:02<00:00,  2.00s/it]\n"
     ]
    },
    {
     "name": "stdout",
     "output_type": "stream",
     "text": [
      "split test into trunks\n",
      "there are 3 text_trunks\n"
     ]
    },
    {
     "name": "stderr",
     "output_type": "stream",
     "text": [
      "Sending chatcomplete API requests: 100%|██████████| 3/3 [02:06<00:00, 42.23s/it]\n",
      "Sending chatcomplete API requests: 100%|██████████| 1/1 [00:08<00:00,  8.47s/it]\n",
      "/opt/shichenh/gpt_translate/src/gpt_translate/articles/JsonArticleManager.py:131: FutureWarning: The frame.append method is deprecated and will be removed from pandas in a future version. Use pandas.concat instead.\n",
      "  self.articles_df = self.articles_df.append(series, ignore_index=True)\n"
     ]
    },
    {
     "name": "stdout",
     "output_type": "stream",
     "text": [
      "processing record: 如果巴菲特来我们这里买房，他会怎么选？\n"
     ]
    },
    {
     "name": "stderr",
     "output_type": "stream",
     "text": [
      "Sending chatcomplete API requests: 100%|██████████| 1/1 [00:01<00:00,  1.56s/it]\n"
     ]
    },
    {
     "name": "stdout",
     "output_type": "stream",
     "text": [
      "split test into trunks\n",
      "there are 4 text_trunks\n"
     ]
    },
    {
     "name": "stderr",
     "output_type": "stream",
     "text": [
      "Sending chatcomplete API requests: 100%|██████████| 4/4 [02:48<00:00, 42.01s/it]\n",
      "Sending chatcomplete API requests: 100%|██████████| 1/1 [00:11<00:00, 11.86s/it]\n",
      "/opt/shichenh/gpt_translate/src/gpt_translate/articles/JsonArticleManager.py:131: FutureWarning: The frame.append method is deprecated and will be removed from pandas in a future version. Use pandas.concat instead.\n",
      "  self.articles_df = self.articles_df.append(series, ignore_index=True)\n"
     ]
    },
    {
     "name": "stdout",
     "output_type": "stream",
     "text": [
      "processing record: 何所谓长安？又何所谓盛世？\n"
     ]
    },
    {
     "name": "stderr",
     "output_type": "stream",
     "text": [
      "Sending chatcomplete API requests: 100%|██████████| 1/1 [00:01<00:00,  1.17s/it]\n"
     ]
    },
    {
     "name": "stdout",
     "output_type": "stream",
     "text": [
      "split test into trunks\n",
      "there are 4 text_trunks\n"
     ]
    },
    {
     "name": "stderr",
     "output_type": "stream",
     "text": [
      "Sending chatcomplete API requests: 100%|██████████| 4/4 [02:28<00:00, 37.22s/it]\n",
      "Sending chatcomplete API requests: 100%|██████████| 1/1 [00:13<00:00, 13.18s/it]\n",
      "/opt/shichenh/gpt_translate/src/gpt_translate/articles/JsonArticleManager.py:131: FutureWarning: The frame.append method is deprecated and will be removed from pandas in a future version. Use pandas.concat instead.\n",
      "  self.articles_df = self.articles_df.append(series, ignore_index=True)\n"
     ]
    },
    {
     "name": "stdout",
     "output_type": "stream",
     "text": [
      "processing record: 我讲的是一个天大的真相\n"
     ]
    },
    {
     "name": "stderr",
     "output_type": "stream",
     "text": [
      "Sending chatcomplete API requests: 100%|██████████| 1/1 [00:00<00:00,  1.32it/s]\n"
     ]
    },
    {
     "name": "stdout",
     "output_type": "stream",
     "text": [
      "split test into trunks\n",
      "there are 4 text_trunks\n"
     ]
    },
    {
     "name": "stderr",
     "output_type": "stream",
     "text": [
      "Sending chatcomplete API requests: 100%|██████████| 4/4 [02:58<00:00, 44.73s/it]\n",
      "Sending chatcomplete API requests: 100%|██████████| 1/1 [00:10<00:00, 10.44s/it]\n",
      "/opt/shichenh/gpt_translate/src/gpt_translate/articles/JsonArticleManager.py:131: FutureWarning: The frame.append method is deprecated and will be removed from pandas in a future version. Use pandas.concat instead.\n",
      "  self.articles_df = self.articles_df.append(series, ignore_index=True)\n"
     ]
    },
    {
     "name": "stdout",
     "output_type": "stream",
     "text": [
      "processing record: 一切问题归根结底都是赌博问题\n"
     ]
    },
    {
     "name": "stderr",
     "output_type": "stream",
     "text": [
      "Sending chatcomplete API requests: 100%|██████████| 1/1 [00:00<00:00,  1.14it/s]\n"
     ]
    },
    {
     "name": "stdout",
     "output_type": "stream",
     "text": [
      "split test into trunks\n",
      "there are 4 text_trunks\n"
     ]
    },
    {
     "name": "stderr",
     "output_type": "stream",
     "text": [
      "Sending chatcomplete API requests: 100%|██████████| 4/4 [02:55<00:00, 43.76s/it]\n",
      "Sending chatcomplete API requests: 100%|██████████| 1/1 [00:08<00:00,  8.99s/it]\n",
      "/opt/shichenh/gpt_translate/src/gpt_translate/articles/JsonArticleManager.py:131: FutureWarning: The frame.append method is deprecated and will be removed from pandas in a future version. Use pandas.concat instead.\n",
      "  self.articles_df = self.articles_df.append(series, ignore_index=True)\n"
     ]
    },
    {
     "name": "stdout",
     "output_type": "stream",
     "text": [
      "processing record: 这种问题居然会来问我？\n"
     ]
    },
    {
     "name": "stderr",
     "output_type": "stream",
     "text": [
      "Sending chatcomplete API requests: 100%|██████████| 1/1 [00:01<00:00,  1.17s/it]\n"
     ]
    },
    {
     "name": "stdout",
     "output_type": "stream",
     "text": [
      "split test into trunks\n",
      "there are 4 text_trunks\n"
     ]
    },
    {
     "name": "stderr",
     "output_type": "stream",
     "text": [
      "Sending chatcomplete API requests: 100%|██████████| 4/4 [03:00<00:00, 45.05s/it]\n",
      "Sending chatcomplete API requests: 100%|██████████| 1/1 [00:10<00:00, 10.61s/it]\n",
      "/opt/shichenh/gpt_translate/src/gpt_translate/articles/JsonArticleManager.py:131: FutureWarning: The frame.append method is deprecated and will be removed from pandas in a future version. Use pandas.concat instead.\n",
      "  self.articles_df = self.articles_df.append(series, ignore_index=True)\n"
     ]
    },
    {
     "name": "stdout",
     "output_type": "stream",
     "text": [
      "processing record: 为什么连老胡都去炒股？\n"
     ]
    },
    {
     "name": "stderr",
     "output_type": "stream",
     "text": [
      "Sending chatcomplete API requests: 100%|██████████| 1/1 [00:01<00:00,  1.06s/it]\n"
     ]
    },
    {
     "name": "stdout",
     "output_type": "stream",
     "text": [
      "split test into trunks\n",
      "there are 1 text_trunks\n"
     ]
    },
    {
     "name": "stderr",
     "output_type": "stream",
     "text": [
      "Sending chatcomplete API requests: 100%|██████████| 1/1 [00:04<00:00,  4.86s/it]\n",
      "Sending chatcomplete API requests: 100%|██████████| 1/1 [00:08<00:00,  8.79s/it]\n",
      "/opt/shichenh/gpt_translate/src/gpt_translate/articles/JsonArticleManager.py:131: FutureWarning: The frame.append method is deprecated and will be removed from pandas in a future version. Use pandas.concat instead.\n",
      "  self.articles_df = self.articles_df.append(series, ignore_index=True)\n"
     ]
    },
    {
     "name": "stdout",
     "output_type": "stream",
     "text": [
      "processing record: 码农被裁了之后，第一件事是什么？\n"
     ]
    },
    {
     "name": "stderr",
     "output_type": "stream",
     "text": [
      "Sending chatcomplete API requests: 100%|██████████| 1/1 [00:01<00:00,  1.24s/it]\n"
     ]
    },
    {
     "name": "stdout",
     "output_type": "stream",
     "text": [
      "split test into trunks\n",
      "there are 4 text_trunks\n"
     ]
    },
    {
     "name": "stderr",
     "output_type": "stream",
     "text": [
      "Sending chatcomplete API requests: 100%|██████████| 4/4 [02:36<00:00, 39.06s/it]\n",
      "Sending chatcomplete API requests: 100%|██████████| 1/1 [00:09<00:00,  9.59s/it]\n",
      "/opt/shichenh/gpt_translate/src/gpt_translate/articles/JsonArticleManager.py:131: FutureWarning: The frame.append method is deprecated and will be removed from pandas in a future version. Use pandas.concat instead.\n",
      "  self.articles_df = self.articles_df.append(series, ignore_index=True)\n"
     ]
    },
    {
     "name": "stdout",
     "output_type": "stream",
     "text": [
      "processing record: 中国律师的收入，将来有没有可能赶上美国律师？\n"
     ]
    },
    {
     "name": "stderr",
     "output_type": "stream",
     "text": [
      "Sending chatcomplete API requests: 100%|██████████| 1/1 [00:02<00:00,  2.44s/it]\n"
     ]
    },
    {
     "name": "stdout",
     "output_type": "stream",
     "text": [
      "split test into trunks\n",
      "there are 5 text_trunks\n"
     ]
    },
    {
     "name": "stderr",
     "output_type": "stream",
     "text": [
      "Sending chatcomplete API requests: 100%|██████████| 5/5 [03:21<00:00, 40.23s/it]\n",
      "Sending chatcomplete API requests: 100%|██████████| 1/1 [00:10<00:00, 10.63s/it]\n",
      "/opt/shichenh/gpt_translate/src/gpt_translate/articles/JsonArticleManager.py:131: FutureWarning: The frame.append method is deprecated and will be removed from pandas in a future version. Use pandas.concat instead.\n",
      "  self.articles_df = self.articles_df.append(series, ignore_index=True)\n"
     ]
    },
    {
     "name": "stdout",
     "output_type": "stream",
     "text": [
      "processing record: 看看后台都有些什么提问\n"
     ]
    },
    {
     "name": "stderr",
     "output_type": "stream",
     "text": [
      "Sending chatcomplete API requests: 100%|██████████| 1/1 [00:01<00:00,  1.05s/it]\n"
     ]
    },
    {
     "name": "stdout",
     "output_type": "stream",
     "text": [
      "split test into trunks\n",
      "there are 5 text_trunks\n"
     ]
    },
    {
     "name": "stderr",
     "output_type": "stream",
     "text": [
      "Sending chatcomplete API requests: 100%|██████████| 5/5 [03:55<00:00, 47.13s/it]\n",
      "Sending chatcomplete API requests: 100%|██████████| 1/1 [00:10<00:00, 10.33s/it]\n",
      "/opt/shichenh/gpt_translate/src/gpt_translate/articles/JsonArticleManager.py:131: FutureWarning: The frame.append method is deprecated and will be removed from pandas in a future version. Use pandas.concat instead.\n",
      "  self.articles_df = self.articles_df.append(series, ignore_index=True)\n"
     ]
    },
    {
     "name": "stdout",
     "output_type": "stream",
     "text": [
      "processing record: 西部是不是要迎来史诗级的机会？\n"
     ]
    },
    {
     "name": "stderr",
     "output_type": "stream",
     "text": [
      "Sending chatcomplete API requests: 100%|██████████| 1/1 [00:01<00:00,  1.01s/it]\n"
     ]
    },
    {
     "name": "stdout",
     "output_type": "stream",
     "text": [
      "split test into trunks\n",
      "there are 4 text_trunks\n"
     ]
    },
    {
     "name": "stderr",
     "output_type": "stream",
     "text": [
      "Sending chatcomplete API requests: 100%|██████████| 4/4 [02:29<00:00, 37.33s/it]\n",
      "Sending chatcomplete API requests: 100%|██████████| 1/1 [00:10<00:00, 10.39s/it]\n",
      "/opt/shichenh/gpt_translate/src/gpt_translate/articles/JsonArticleManager.py:131: FutureWarning: The frame.append method is deprecated and will be removed from pandas in a future version. Use pandas.concat instead.\n",
      "  self.articles_df = self.articles_df.append(series, ignore_index=True)\n"
     ]
    },
    {
     "name": "stdout",
     "output_type": "stream",
     "text": [
      "processing record: 穷人要追求里子，富人要追求面子\n"
     ]
    },
    {
     "name": "stderr",
     "output_type": "stream",
     "text": [
      "Sending chatcomplete API requests: 100%|██████████| 1/1 [00:01<00:00,  1.07s/it]\n"
     ]
    },
    {
     "name": "stdout",
     "output_type": "stream",
     "text": [
      "split test into trunks\n",
      "there are 2 text_trunks\n"
     ]
    },
    {
     "name": "stderr",
     "output_type": "stream",
     "text": [
      "Sending chatcomplete API requests: 100%|██████████| 2/2 [01:43<00:00, 51.75s/it]\n",
      "Sending chatcomplete API requests: 100%|██████████| 1/1 [00:08<00:00,  8.76s/it]\n",
      "/opt/shichenh/gpt_translate/src/gpt_translate/articles/JsonArticleManager.py:131: FutureWarning: The frame.append method is deprecated and will be removed from pandas in a future version. Use pandas.concat instead.\n",
      "  self.articles_df = self.articles_df.append(series, ignore_index=True)\n"
     ]
    },
    {
     "name": "stdout",
     "output_type": "stream",
     "text": [
      "processing record: 我从来没说过读书无用，我只是让你正视供需\n"
     ]
    },
    {
     "name": "stderr",
     "output_type": "stream",
     "text": [
      "Sending chatcomplete API requests: 100%|██████████| 1/1 [00:01<00:00,  1.65s/it]\n"
     ]
    },
    {
     "name": "stdout",
     "output_type": "stream",
     "text": [
      "split test into trunks\n",
      "there are 3 text_trunks\n"
     ]
    },
    {
     "name": "stderr",
     "output_type": "stream",
     "text": [
      "Sending chatcomplete API requests: 100%|██████████| 3/3 [02:18<00:00, 46.18s/it]\n",
      "Sending chatcomplete API requests: 100%|██████████| 1/1 [00:11<00:00, 11.72s/it]\n",
      "/opt/shichenh/gpt_translate/src/gpt_translate/articles/JsonArticleManager.py:131: FutureWarning: The frame.append method is deprecated and will be removed from pandas in a future version. Use pandas.concat instead.\n",
      "  self.articles_df = self.articles_df.append(series, ignore_index=True)\n"
     ]
    },
    {
     "name": "stdout",
     "output_type": "stream",
     "text": [
      "processing record: 我学不会你的朴实，你也学不了我的鸡贼\n"
     ]
    },
    {
     "name": "stderr",
     "output_type": "stream",
     "text": [
      "Sending chatcomplete API requests: 100%|██████████| 1/1 [00:01<00:00,  1.30s/it]\n"
     ]
    },
    {
     "name": "stdout",
     "output_type": "stream",
     "text": [
      "split test into trunks\n",
      "there are 3 text_trunks\n"
     ]
    },
    {
     "name": "stderr",
     "output_type": "stream",
     "text": [
      "Sending chatcomplete API requests: 100%|██████████| 3/3 [02:28<00:00, 49.61s/it]\n",
      "Sending chatcomplete API requests: 100%|██████████| 1/1 [00:10<00:00, 10.86s/it]\n",
      "/opt/shichenh/gpt_translate/src/gpt_translate/articles/JsonArticleManager.py:131: FutureWarning: The frame.append method is deprecated and will be removed from pandas in a future version. Use pandas.concat instead.\n",
      "  self.articles_df = self.articles_df.append(series, ignore_index=True)\n"
     ]
    },
    {
     "name": "stdout",
     "output_type": "stream",
     "text": [
      "processing record: 高考考砸了？\n"
     ]
    },
    {
     "name": "stderr",
     "output_type": "stream",
     "text": [
      "Sending chatcomplete API requests: 100%|██████████| 1/1 [00:01<00:00,  1.51s/it]\n"
     ]
    },
    {
     "name": "stdout",
     "output_type": "stream",
     "text": [
      "split test into trunks\n",
      "there are 3 text_trunks\n"
     ]
    },
    {
     "name": "stderr",
     "output_type": "stream",
     "text": [
      "Sending chatcomplete API requests: 100%|██████████| 3/3 [02:45<00:00, 55.30s/it]\n",
      "Sending chatcomplete API requests: 100%|██████████| 1/1 [00:09<00:00,  9.42s/it]\n",
      "/opt/shichenh/gpt_translate/src/gpt_translate/articles/JsonArticleManager.py:131: FutureWarning: The frame.append method is deprecated and will be removed from pandas in a future version. Use pandas.concat instead.\n",
      "  self.articles_df = self.articles_df.append(series, ignore_index=True)\n"
     ]
    },
    {
     "name": "stdout",
     "output_type": "stream",
     "text": [
      "processing record: 人一定要学会区分感情与出路\n"
     ]
    },
    {
     "name": "stderr",
     "output_type": "stream",
     "text": [
      "Sending chatcomplete API requests: 100%|██████████| 1/1 [00:01<00:00,  1.12s/it]\n"
     ]
    },
    {
     "name": "stdout",
     "output_type": "stream",
     "text": [
      "split test into trunks\n",
      "there are 3 text_trunks\n"
     ]
    },
    {
     "name": "stderr",
     "output_type": "stream",
     "text": [
      "Sending chatcomplete API requests: 100%|██████████| 3/3 [02:06<00:00, 42.04s/it]\n",
      "Sending chatcomplete API requests: 100%|██████████| 1/1 [00:08<00:00,  8.93s/it]\n",
      "/opt/shichenh/gpt_translate/src/gpt_translate/articles/JsonArticleManager.py:131: FutureWarning: The frame.append method is deprecated and will be removed from pandas in a future version. Use pandas.concat instead.\n",
      "  self.articles_df = self.articles_df.append(series, ignore_index=True)\n"
     ]
    },
    {
     "name": "stdout",
     "output_type": "stream",
     "text": [
      "processing record: 有心回炉再念书很好，但不要自我感动\n"
     ]
    },
    {
     "name": "stderr",
     "output_type": "stream",
     "text": [
      "Sending chatcomplete API requests: 100%|██████████| 1/1 [00:02<00:00,  2.92s/it]\n"
     ]
    },
    {
     "name": "stdout",
     "output_type": "stream",
     "text": [
      "split test into trunks\n",
      "there are 4 text_trunks\n"
     ]
    },
    {
     "name": "stderr",
     "output_type": "stream",
     "text": [
      "Sending chatcomplete API requests: 100%|██████████| 4/4 [02:45<00:00, 41.49s/it]\n",
      "Sending chatcomplete API requests: 100%|██████████| 1/1 [00:12<00:00, 12.97s/it]\n",
      "/opt/shichenh/gpt_translate/src/gpt_translate/articles/JsonArticleManager.py:131: FutureWarning: The frame.append method is deprecated and will be removed from pandas in a future version. Use pandas.concat instead.\n",
      "  self.articles_df = self.articles_df.append(series, ignore_index=True)\n"
     ]
    },
    {
     "name": "stdout",
     "output_type": "stream",
     "text": [
      "processing record: 八角笼中，并不是另一本我不是药神\n"
     ]
    },
    {
     "name": "stderr",
     "output_type": "stream",
     "text": [
      "Sending chatcomplete API requests: 100%|██████████| 1/1 [00:03<00:00,  3.31s/it]\n"
     ]
    },
    {
     "name": "stdout",
     "output_type": "stream",
     "text": [
      "split test into trunks\n",
      "there are 3 text_trunks\n"
     ]
    },
    {
     "name": "stderr",
     "output_type": "stream",
     "text": [
      "Sending chatcomplete API requests: 100%|██████████| 3/3 [02:06<00:00, 42.05s/it]\n",
      "Sending chatcomplete API requests: 100%|██████████| 1/1 [00:12<00:00, 12.68s/it]\n",
      "/opt/shichenh/gpt_translate/src/gpt_translate/articles/JsonArticleManager.py:131: FutureWarning: The frame.append method is deprecated and will be removed from pandas in a future version. Use pandas.concat instead.\n",
      "  self.articles_df = self.articles_df.append(series, ignore_index=True)\n"
     ]
    },
    {
     "name": "stdout",
     "output_type": "stream",
     "text": [
      "processing record: 你愿意放弃什么？\n"
     ]
    },
    {
     "name": "stderr",
     "output_type": "stream",
     "text": [
      "Sending chatcomplete API requests: 100%|██████████| 1/1 [00:01<00:00,  1.31s/it]\n"
     ]
    },
    {
     "name": "stdout",
     "output_type": "stream",
     "text": [
      "split test into trunks\n",
      "there are 3 text_trunks\n"
     ]
    },
    {
     "name": "stderr",
     "output_type": "stream",
     "text": [
      "Sending chatcomplete API requests: 100%|██████████| 3/3 [03:01<00:00, 60.42s/it]\n",
      "Sending chatcomplete API requests: 100%|██████████| 1/1 [00:08<00:00,  8.82s/it]\n",
      "/opt/shichenh/gpt_translate/src/gpt_translate/articles/JsonArticleManager.py:131: FutureWarning: The frame.append method is deprecated and will be removed from pandas in a future version. Use pandas.concat instead.\n",
      "  self.articles_df = self.articles_df.append(series, ignore_index=True)\n"
     ]
    },
    {
     "name": "stdout",
     "output_type": "stream",
     "text": [
      "processing record: 俄罗斯雇佣军“清君侧”？“安史之乱”？“陈桥兵变”？\n"
     ]
    },
    {
     "name": "stderr",
     "output_type": "stream",
     "text": [
      "Sending chatcomplete API requests: 100%|██████████| 1/1 [00:02<00:00,  2.27s/it]\n"
     ]
    },
    {
     "name": "stdout",
     "output_type": "stream",
     "text": [
      "split test into trunks\n",
      "there are 3 text_trunks\n"
     ]
    },
    {
     "name": "stderr",
     "output_type": "stream",
     "text": [
      "Sending chatcomplete API requests: 100%|██████████| 3/3 [02:19<00:00, 46.60s/it]\n",
      "Sending chatcomplete API requests: 100%|██████████| 1/1 [00:16<00:00, 16.39s/it]\n",
      "/opt/shichenh/gpt_translate/src/gpt_translate/articles/JsonArticleManager.py:131: FutureWarning: The frame.append method is deprecated and will be removed from pandas in a future version. Use pandas.concat instead.\n",
      "  self.articles_df = self.articles_df.append(series, ignore_index=True)\n"
     ]
    },
    {
     "name": "stdout",
     "output_type": "stream",
     "text": [
      "processing record: 要不要复读？\n"
     ]
    },
    {
     "name": "stderr",
     "output_type": "stream",
     "text": [
      "Sending chatcomplete API requests: 100%|██████████| 1/1 [00:00<00:00,  1.12it/s]\n"
     ]
    },
    {
     "name": "stdout",
     "output_type": "stream",
     "text": [
      "split test into trunks\n",
      "there are 4 text_trunks\n"
     ]
    },
    {
     "name": "stderr",
     "output_type": "stream",
     "text": [
      "Sending chatcomplete API requests: 100%|██████████| 4/4 [02:59<00:00, 44.86s/it]\n",
      "Sending chatcomplete API requests: 100%|██████████| 1/1 [00:10<00:00, 10.80s/it]\n",
      "/opt/shichenh/gpt_translate/src/gpt_translate/articles/JsonArticleManager.py:131: FutureWarning: The frame.append method is deprecated and will be removed from pandas in a future version. Use pandas.concat instead.\n",
      "  self.articles_df = self.articles_df.append(series, ignore_index=True)\n"
     ]
    },
    {
     "name": "stdout",
     "output_type": "stream",
     "text": [
      "processing record: 人这辈子，最难受的就是对不起\n"
     ]
    },
    {
     "name": "stderr",
     "output_type": "stream",
     "text": [
      "Sending chatcomplete API requests: 100%|██████████| 1/1 [00:02<00:00,  2.25s/it]\n"
     ]
    },
    {
     "name": "stdout",
     "output_type": "stream",
     "text": [
      "split test into trunks\n",
      "there are 3 text_trunks\n"
     ]
    },
    {
     "name": "stderr",
     "output_type": "stream",
     "text": [
      "Sending chatcomplete API requests: 100%|██████████| 3/3 [02:33<00:00, 51.13s/it]\n",
      "Sending chatcomplete API requests: 100%|██████████| 1/1 [00:13<00:00, 13.68s/it]\n",
      "/opt/shichenh/gpt_translate/src/gpt_translate/articles/JsonArticleManager.py:131: FutureWarning: The frame.append method is deprecated and will be removed from pandas in a future version. Use pandas.concat instead.\n",
      "  self.articles_df = self.articles_df.append(series, ignore_index=True)\n"
     ]
    },
    {
     "name": "stdout",
     "output_type": "stream",
     "text": [
      "processing record: 如果你十年读书就破了别人三代努力，那谁还努力？\n"
     ]
    },
    {
     "name": "stderr",
     "output_type": "stream",
     "text": [
      "Sending chatcomplete API requests: 100%|██████████| 1/1 [00:02<00:00,  2.48s/it]\n"
     ]
    },
    {
     "name": "stdout",
     "output_type": "stream",
     "text": [
      "split test into trunks\n",
      "there are 4 text_trunks\n"
     ]
    },
    {
     "name": "stderr",
     "output_type": "stream",
     "text": [
      "Sending chatcomplete API requests: 100%|██████████| 4/4 [03:31<00:00, 52.93s/it]\n",
      "Sending chatcomplete API requests: 100%|██████████| 1/1 [00:10<00:00, 10.37s/it]\n",
      "/opt/shichenh/gpt_translate/src/gpt_translate/articles/JsonArticleManager.py:131: FutureWarning: The frame.append method is deprecated and will be removed from pandas in a future version. Use pandas.concat instead.\n",
      "  self.articles_df = self.articles_df.append(series, ignore_index=True)\n"
     ]
    },
    {
     "name": "stdout",
     "output_type": "stream",
     "text": [
      "processing record: 为什么看起来聪明的孩子并不聪明？\n"
     ]
    },
    {
     "name": "stderr",
     "output_type": "stream",
     "text": [
      "Sending chatcomplete API requests: 100%|██████████| 1/1 [00:01<00:00,  1.83s/it]\n"
     ]
    },
    {
     "name": "stdout",
     "output_type": "stream",
     "text": [
      "split test into trunks\n",
      "there are 3 text_trunks\n"
     ]
    },
    {
     "name": "stderr",
     "output_type": "stream",
     "text": [
      "Sending chatcomplete API requests: 100%|██████████| 3/3 [02:17<00:00, 45.74s/it]\n",
      "Sending chatcomplete API requests: 100%|██████████| 1/1 [00:13<00:00, 13.27s/it]\n",
      "/opt/shichenh/gpt_translate/src/gpt_translate/articles/JsonArticleManager.py:131: FutureWarning: The frame.append method is deprecated and will be removed from pandas in a future version. Use pandas.concat instead.\n",
      "  self.articles_df = self.articles_df.append(series, ignore_index=True)\n"
     ]
    },
    {
     "name": "stdout",
     "output_type": "stream",
     "text": [
      "processing record: 写给来年高考的考生家长\n"
     ]
    },
    {
     "name": "stderr",
     "output_type": "stream",
     "text": [
      "Sending chatcomplete API requests: 100%|██████████| 1/1 [00:01<00:00,  1.50s/it]\n"
     ]
    },
    {
     "name": "stdout",
     "output_type": "stream",
     "text": [
      "split test into trunks\n",
      "there are 4 text_trunks\n"
     ]
    },
    {
     "name": "stderr",
     "output_type": "stream",
     "text": [
      "Sending chatcomplete API requests: 100%|██████████| 4/4 [03:19<00:00, 49.94s/it]\n",
      "Sending chatcomplete API requests: 100%|██████████| 1/1 [00:13<00:00, 13.04s/it]\n",
      "/opt/shichenh/gpt_translate/src/gpt_translate/articles/JsonArticleManager.py:131: FutureWarning: The frame.append method is deprecated and will be removed from pandas in a future version. Use pandas.concat instead.\n",
      "  self.articles_df = self.articles_df.append(series, ignore_index=True)\n"
     ]
    },
    {
     "name": "stdout",
     "output_type": "stream",
     "text": [
      "processing record: 阿里换帅，张勇请马老师喝咖啡\n"
     ]
    },
    {
     "name": "stderr",
     "output_type": "stream",
     "text": [
      "Sending chatcomplete API requests: 100%|██████████| 1/1 [00:01<00:00,  1.44s/it]\n"
     ]
    },
    {
     "name": "stdout",
     "output_type": "stream",
     "text": [
      "split test into trunks\n",
      "there are 3 text_trunks\n"
     ]
    },
    {
     "name": "stderr",
     "output_type": "stream",
     "text": [
      "Sending chatcomplete API requests: 100%|██████████| 3/3 [02:38<00:00, 52.72s/it]\n",
      "Sending chatcomplete API requests: 100%|██████████| 1/1 [00:15<00:00, 15.38s/it]\n",
      "/opt/shichenh/gpt_translate/src/gpt_translate/articles/JsonArticleManager.py:131: FutureWarning: The frame.append method is deprecated and will be removed from pandas in a future version. Use pandas.concat instead.\n",
      "  self.articles_df = self.articles_df.append(series, ignore_index=True)\n"
     ]
    },
    {
     "name": "stdout",
     "output_type": "stream",
     "text": [
      "processing record: 小升初，选私立？还是选公立？\n"
     ]
    },
    {
     "name": "stderr",
     "output_type": "stream",
     "text": [
      "Sending chatcomplete API requests: 100%|██████████| 1/1 [00:01<00:00,  1.01s/it]\n"
     ]
    },
    {
     "name": "stdout",
     "output_type": "stream",
     "text": [
      "split test into trunks\n",
      "there are 2 text_trunks\n"
     ]
    },
    {
     "name": "stderr",
     "output_type": "stream",
     "text": [
      "Sending chatcomplete API requests: 100%|██████████| 2/2 [01:52<00:00, 56.42s/it]\n",
      "Sending chatcomplete API requests: 100%|██████████| 1/1 [00:12<00:00, 12.30s/it]\n",
      "/opt/shichenh/gpt_translate/src/gpt_translate/articles/JsonArticleManager.py:131: FutureWarning: The frame.append method is deprecated and will be removed from pandas in a future version. Use pandas.concat instead.\n",
      "  self.articles_df = self.articles_df.append(series, ignore_index=True)\n"
     ]
    },
    {
     "name": "stdout",
     "output_type": "stream",
     "text": [
      "processing record: 和珅有没有可能投靠嘉庆？\n"
     ]
    },
    {
     "name": "stderr",
     "output_type": "stream",
     "text": [
      "Sending chatcomplete API requests: 100%|██████████| 1/1 [00:01<00:00,  1.12s/it]\n"
     ]
    },
    {
     "name": "stdout",
     "output_type": "stream",
     "text": [
      "split test into trunks\n",
      "there are 2 text_trunks\n"
     ]
    },
    {
     "name": "stderr",
     "output_type": "stream",
     "text": [
      "Sending chatcomplete API requests: 100%|██████████| 2/2 [01:50<00:00, 55.29s/it]\n",
      "Sending chatcomplete API requests: 100%|██████████| 1/1 [00:15<00:00, 15.44s/it]\n",
      "/opt/shichenh/gpt_translate/src/gpt_translate/articles/JsonArticleManager.py:131: FutureWarning: The frame.append method is deprecated and will be removed from pandas in a future version. Use pandas.concat instead.\n",
      "  self.articles_df = self.articles_df.append(series, ignore_index=True)\n"
     ]
    },
    {
     "name": "stdout",
     "output_type": "stream",
     "text": [
      "processing record: 我这张旧船票，还能否登上你的新船？\n"
     ]
    },
    {
     "name": "stderr",
     "output_type": "stream",
     "text": [
      "Sending chatcomplete API requests: 100%|██████████| 1/1 [00:01<00:00,  1.15s/it]\n"
     ]
    },
    {
     "name": "stdout",
     "output_type": "stream",
     "text": [
      "split test into trunks\n",
      "there are 4 text_trunks\n"
     ]
    },
    {
     "name": "stderr",
     "output_type": "stream",
     "text": [
      "Sending chatcomplete API requests: 100%|██████████| 4/4 [02:42<00:00, 40.65s/it]\n",
      "Sending chatcomplete API requests: 100%|██████████| 1/1 [00:11<00:00, 11.97s/it]\n",
      "/opt/shichenh/gpt_translate/src/gpt_translate/articles/JsonArticleManager.py:131: FutureWarning: The frame.append method is deprecated and will be removed from pandas in a future version. Use pandas.concat instead.\n",
      "  self.articles_df = self.articles_df.append(series, ignore_index=True)\n"
     ]
    },
    {
     "name": "stdout",
     "output_type": "stream",
     "text": [
      "processing record: 太刺激了，我指的不只是经济刺激\n"
     ]
    },
    {
     "name": "stderr",
     "output_type": "stream",
     "text": [
      "Sending chatcomplete API requests: 100%|██████████| 1/1 [00:01<00:00,  1.44s/it]\n"
     ]
    },
    {
     "name": "stdout",
     "output_type": "stream",
     "text": [
      "split test into trunks\n",
      "there are 1 text_trunks\n"
     ]
    },
    {
     "name": "stderr",
     "output_type": "stream",
     "text": [
      "Sending chatcomplete API requests: 100%|██████████| 1/1 [00:17<00:00, 17.75s/it]\n",
      "Sending chatcomplete API requests: 100%|██████████| 1/1 [00:08<00:00,  8.51s/it]\n",
      "/opt/shichenh/gpt_translate/src/gpt_translate/articles/JsonArticleManager.py:131: FutureWarning: The frame.append method is deprecated and will be removed from pandas in a future version. Use pandas.concat instead.\n",
      "  self.articles_df = self.articles_df.append(series, ignore_index=True)\n"
     ]
    },
    {
     "name": "stdout",
     "output_type": "stream",
     "text": [
      "processing record: 绝大多数失败，都源自没眼色\n"
     ]
    },
    {
     "name": "stderr",
     "output_type": "stream",
     "text": [
      "Sending chatcomplete API requests: 100%|██████████| 1/1 [00:01<00:00,  1.01s/it]\n"
     ]
    },
    {
     "name": "stdout",
     "output_type": "stream",
     "text": [
      "split test into trunks\n",
      "there are 3 text_trunks\n"
     ]
    },
    {
     "name": "stderr",
     "output_type": "stream",
     "text": [
      "Sending chatcomplete API requests: 100%|██████████| 3/3 [02:07<00:00, 42.45s/it]\n",
      "Sending chatcomplete API requests: 100%|██████████| 1/1 [00:13<00:00, 13.08s/it]\n",
      "/opt/shichenh/gpt_translate/src/gpt_translate/articles/JsonArticleManager.py:131: FutureWarning: The frame.append method is deprecated and will be removed from pandas in a future version. Use pandas.concat instead.\n",
      "  self.articles_df = self.articles_df.append(series, ignore_index=True)\n"
     ]
    },
    {
     "name": "stdout",
     "output_type": "stream",
     "text": [
      "processing record: 孩子要报新闻专业，到底该不该把他打晕？\n"
     ]
    },
    {
     "name": "stderr",
     "output_type": "stream",
     "text": [
      "Sending chatcomplete API requests: 100%|██████████| 1/1 [00:01<00:00,  1.07s/it]\n"
     ]
    },
    {
     "name": "stdout",
     "output_type": "stream",
     "text": [
      "split test into trunks\n",
      "there are 4 text_trunks\n"
     ]
    },
    {
     "name": "stderr",
     "output_type": "stream",
     "text": [
      "Sending chatcomplete API requests: 100%|██████████| 4/4 [02:38<00:00, 39.55s/it]\n",
      "Sending chatcomplete API requests: 100%|██████████| 1/1 [00:19<00:00, 19.01s/it]\n",
      "/opt/shichenh/gpt_translate/src/gpt_translate/articles/JsonArticleManager.py:131: FutureWarning: The frame.append method is deprecated and will be removed from pandas in a future version. Use pandas.concat instead.\n",
      "  self.articles_df = self.articles_df.append(series, ignore_index=True)\n"
     ]
    },
    {
     "name": "stdout",
     "output_type": "stream",
     "text": [
      "processing record: 人最难摆脱的，就是阶层的束缚\n"
     ]
    },
    {
     "name": "stderr",
     "output_type": "stream",
     "text": [
      "Sending chatcomplete API requests: 100%|██████████| 1/1 [00:01<00:00,  1.92s/it]\n"
     ]
    },
    {
     "name": "stdout",
     "output_type": "stream",
     "text": [
      "split test into trunks\n",
      "there are 3 text_trunks\n"
     ]
    },
    {
     "name": "stderr",
     "output_type": "stream",
     "text": [
      "Sending chatcomplete API requests: 100%|██████████| 3/3 [02:56<00:00, 58.96s/it]\n",
      "Sending chatcomplete API requests: 100%|██████████| 1/1 [00:14<00:00, 14.57s/it]\n",
      "/opt/shichenh/gpt_translate/src/gpt_translate/articles/JsonArticleManager.py:131: FutureWarning: The frame.append method is deprecated and will be removed from pandas in a future version. Use pandas.concat instead.\n",
      "  self.articles_df = self.articles_df.append(series, ignore_index=True)\n"
     ]
    },
    {
     "name": "stdout",
     "output_type": "stream",
     "text": [
      "processing record: 如果要聊鼠头鸭脖，我们就得来点重磅的\n"
     ]
    },
    {
     "name": "stderr",
     "output_type": "stream",
     "text": [
      "Sending chatcomplete API requests: 100%|██████████| 1/1 [00:01<00:00,  1.52s/it]\n"
     ]
    },
    {
     "name": "stdout",
     "output_type": "stream",
     "text": [
      "split test into trunks\n",
      "there are 3 text_trunks\n"
     ]
    },
    {
     "name": "stderr",
     "output_type": "stream",
     "text": [
      "Sending chatcomplete API requests: 100%|██████████| 3/3 [02:29<00:00, 49.92s/it]\n",
      "Sending chatcomplete API requests: 100%|██████████| 1/1 [00:19<00:00, 19.46s/it]\n",
      "/opt/shichenh/gpt_translate/src/gpt_translate/articles/JsonArticleManager.py:131: FutureWarning: The frame.append method is deprecated and will be removed from pandas in a future version. Use pandas.concat instead.\n",
      "  self.articles_df = self.articles_df.append(series, ignore_index=True)\n"
     ]
    },
    {
     "name": "stdout",
     "output_type": "stream",
     "text": [
      "processing record: 拥抱梅西与跳桥救人，到底值多少钱？\n"
     ]
    },
    {
     "name": "stderr",
     "output_type": "stream",
     "text": [
      "Sending chatcomplete API requests: 100%|██████████| 1/1 [00:01<00:00,  1.65s/it]\n"
     ]
    },
    {
     "name": "stdout",
     "output_type": "stream",
     "text": [
      "split test into trunks\n",
      "there are 2 text_trunks\n"
     ]
    },
    {
     "name": "stderr",
     "output_type": "stream",
     "text": [
      "Sending chatcomplete API requests: 100%|██████████| 2/2 [02:17<00:00, 68.50s/it]\n",
      "Sending chatcomplete API requests: 100%|██████████| 1/1 [00:08<00:00,  8.86s/it]\n",
      "/opt/shichenh/gpt_translate/src/gpt_translate/articles/JsonArticleManager.py:131: FutureWarning: The frame.append method is deprecated and will be removed from pandas in a future version. Use pandas.concat instead.\n",
      "  self.articles_df = self.articles_df.append(series, ignore_index=True)\n"
     ]
    },
    {
     "name": "stdout",
     "output_type": "stream",
     "text": [
      "processing record: 啥叫个见人下菜碟\n"
     ]
    },
    {
     "name": "stderr",
     "output_type": "stream",
     "text": [
      "Sending chatcomplete API requests: 100%|██████████| 1/1 [00:02<00:00,  2.12s/it]\n"
     ]
    },
    {
     "name": "stdout",
     "output_type": "stream",
     "text": [
      "split test into trunks\n",
      "there are 3 text_trunks\n"
     ]
    },
    {
     "name": "stderr",
     "output_type": "stream",
     "text": [
      "Sending chatcomplete API requests: 100%|██████████| 3/3 [02:30<00:00, 50.25s/it]\n",
      "Sending chatcomplete API requests: 100%|██████████| 1/1 [00:09<00:00,  9.74s/it]\n",
      "/opt/shichenh/gpt_translate/src/gpt_translate/articles/JsonArticleManager.py:131: FutureWarning: The frame.append method is deprecated and will be removed from pandas in a future version. Use pandas.concat instead.\n",
      "  self.articles_df = self.articles_df.append(series, ignore_index=True)\n"
     ]
    },
    {
     "name": "stdout",
     "output_type": "stream",
     "text": [
      "processing record: 是偷拍么？不，是怨气\n"
     ]
    },
    {
     "name": "stderr",
     "output_type": "stream",
     "text": [
      "Sending chatcomplete API requests: 100%|██████████| 1/1 [00:01<00:00,  1.30s/it]\n"
     ]
    },
    {
     "name": "stdout",
     "output_type": "stream",
     "text": [
      "split test into trunks\n",
      "there are 3 text_trunks\n"
     ]
    },
    {
     "name": "stderr",
     "output_type": "stream",
     "text": [
      "Sending chatcomplete API requests: 100%|██████████| 3/3 [02:35<00:00, 51.95s/it]\n",
      "Sending chatcomplete API requests: 100%|██████████| 1/1 [00:18<00:00, 18.54s/it]\n",
      "/opt/shichenh/gpt_translate/src/gpt_translate/articles/JsonArticleManager.py:131: FutureWarning: The frame.append method is deprecated and will be removed from pandas in a future version. Use pandas.concat instead.\n",
      "  self.articles_df = self.articles_df.append(series, ignore_index=True)\n"
     ]
    },
    {
     "name": "stdout",
     "output_type": "stream",
     "text": [
      "processing record: 脱离最终目的去填报志愿，就叫方向不对，努力白费\n"
     ]
    },
    {
     "name": "stderr",
     "output_type": "stream",
     "text": [
      "Sending chatcomplete API requests: 100%|██████████| 1/1 [00:02<00:00,  2.23s/it]\n"
     ]
    },
    {
     "name": "stdout",
     "output_type": "stream",
     "text": [
      "split test into trunks\n",
      "there are 4 text_trunks\n"
     ]
    },
    {
     "name": "stderr",
     "output_type": "stream",
     "text": [
      "Sending chatcomplete API requests: 100%|██████████| 4/4 [03:41<00:00, 55.39s/it]\n",
      "Sending chatcomplete API requests: 100%|██████████| 1/1 [00:13<00:00, 13.14s/it]\n",
      "/opt/shichenh/gpt_translate/src/gpt_translate/articles/JsonArticleManager.py:131: FutureWarning: The frame.append method is deprecated and will be removed from pandas in a future version. Use pandas.concat instead.\n",
      "  self.articles_df = self.articles_df.append(series, ignore_index=True)\n"
     ]
    },
    {
     "name": "stdout",
     "output_type": "stream",
     "text": [
      "processing record: 让我们揭开某些生意暴利的秘密\n"
     ]
    },
    {
     "name": "stderr",
     "output_type": "stream",
     "text": [
      "Sending chatcomplete API requests: 100%|██████████| 1/1 [00:01<00:00,  1.68s/it]\n"
     ]
    },
    {
     "name": "stdout",
     "output_type": "stream",
     "text": [
      "split test into trunks\n",
      "there are 3 text_trunks\n"
     ]
    },
    {
     "name": "stderr",
     "output_type": "stream",
     "text": [
      "Sending chatcomplete API requests: 100%|██████████| 3/3 [03:21<00:00, 67.16s/it]\n",
      "Sending chatcomplete API requests: 100%|██████████| 1/1 [00:10<00:00, 10.28s/it]\n",
      "/opt/shichenh/gpt_translate/src/gpt_translate/articles/JsonArticleManager.py:131: FutureWarning: The frame.append method is deprecated and will be removed from pandas in a future version. Use pandas.concat instead.\n",
      "  self.articles_df = self.articles_df.append(series, ignore_index=True)\n"
     ]
    },
    {
     "name": "stdout",
     "output_type": "stream",
     "text": [
      "processing record: 一亿和清华北大选哪个？\n"
     ]
    },
    {
     "name": "stderr",
     "output_type": "stream",
     "text": [
      "Sending chatcomplete API requests: 100%|██████████| 1/1 [00:01<00:00,  1.62s/it]\n"
     ]
    },
    {
     "name": "stdout",
     "output_type": "stream",
     "text": [
      "split test into trunks\n",
      "there are 5 text_trunks\n"
     ]
    },
    {
     "name": "stderr",
     "output_type": "stream",
     "text": [
      "Sending chatcomplete API requests: 100%|██████████| 5/5 [04:42<00:00, 56.47s/it]\n",
      "Sending chatcomplete API requests: 100%|██████████| 1/1 [00:27<00:00, 27.33s/it]\n",
      "/opt/shichenh/gpt_translate/src/gpt_translate/articles/JsonArticleManager.py:131: FutureWarning: The frame.append method is deprecated and will be removed from pandas in a future version. Use pandas.concat instead.\n",
      "  self.articles_df = self.articles_df.append(series, ignore_index=True)\n"
     ]
    },
    {
     "name": "stdout",
     "output_type": "stream",
     "text": [
      "processing record: 要不要担心中考分流，高考落榜？\n"
     ]
    },
    {
     "name": "stderr",
     "output_type": "stream",
     "text": [
      "Sending chatcomplete API requests: 100%|██████████| 1/1 [00:02<00:00,  2.68s/it]\n"
     ]
    },
    {
     "name": "stdout",
     "output_type": "stream",
     "text": [
      "split test into trunks\n",
      "there are 4 text_trunks\n"
     ]
    },
    {
     "name": "stderr",
     "output_type": "stream",
     "text": [
      "Sending chatcomplete API requests: 100%|██████████| 4/4 [03:44<00:00, 56.05s/it]\n",
      "Sending chatcomplete API requests: 100%|██████████| 1/1 [00:12<00:00, 12.29s/it]\n",
      "/opt/shichenh/gpt_translate/src/gpt_translate/articles/JsonArticleManager.py:131: FutureWarning: The frame.append method is deprecated and will be removed from pandas in a future version. Use pandas.concat instead.\n",
      "  self.articles_df = self.articles_df.append(series, ignore_index=True)\n"
     ]
    },
    {
     "name": "stdout",
     "output_type": "stream",
     "text": [
      "processing record: 聪明，和自以为聪明，完全是两码事\n"
     ]
    },
    {
     "name": "stderr",
     "output_type": "stream",
     "text": [
      "Sending chatcomplete API requests: 100%|██████████| 1/1 [00:02<00:00,  2.16s/it]\n"
     ]
    },
    {
     "name": "stdout",
     "output_type": "stream",
     "text": [
      "split test into trunks\n",
      "there are 3 text_trunks\n"
     ]
    },
    {
     "name": "stderr",
     "output_type": "stream",
     "text": [
      "Sending chatcomplete API requests: 100%|██████████| 3/3 [02:43<00:00, 54.46s/it]\n",
      "Sending chatcomplete API requests: 100%|██████████| 1/1 [00:12<00:00, 12.70s/it]\n",
      "/opt/shichenh/gpt_translate/src/gpt_translate/articles/JsonArticleManager.py:131: FutureWarning: The frame.append method is deprecated and will be removed from pandas in a future version. Use pandas.concat instead.\n",
      "  self.articles_df = self.articles_df.append(series, ignore_index=True)\n"
     ]
    },
    {
     "name": "stdout",
     "output_type": "stream",
     "text": [
      "processing record: 医生，老师，电力系统，稳定？\n"
     ]
    },
    {
     "name": "stderr",
     "output_type": "stream",
     "text": [
      "Sending chatcomplete API requests: 100%|██████████| 1/1 [00:01<00:00,  1.08s/it]\n"
     ]
    },
    {
     "name": "stdout",
     "output_type": "stream",
     "text": [
      "split test into trunks\n",
      "there are 2 text_trunks\n"
     ]
    },
    {
     "name": "stderr",
     "output_type": "stream",
     "text": [
      "Sending chatcomplete API requests: 100%|██████████| 2/2 [02:10<00:00, 65.40s/it]\n",
      "Sending chatcomplete API requests: 100%|██████████| 1/1 [00:15<00:00, 15.72s/it]\n",
      "/opt/shichenh/gpt_translate/src/gpt_translate/articles/JsonArticleManager.py:131: FutureWarning: The frame.append method is deprecated and will be removed from pandas in a future version. Use pandas.concat instead.\n",
      "  self.articles_df = self.articles_df.append(series, ignore_index=True)\n"
     ]
    },
    {
     "name": "stdout",
     "output_type": "stream",
     "text": [
      "processing record: 出国之前，到底要读国际学校还是技校？\n"
     ]
    },
    {
     "name": "stderr",
     "output_type": "stream",
     "text": [
      "Sending chatcomplete API requests: 100%|██████████| 1/1 [00:01<00:00,  1.50s/it]\n"
     ]
    },
    {
     "name": "stdout",
     "output_type": "stream",
     "text": [
      "split test into trunks\n",
      "there are 4 text_trunks\n"
     ]
    },
    {
     "name": "stderr",
     "output_type": "stream",
     "text": [
      "Sending chatcomplete API requests: 100%|██████████| 4/4 [04:25<00:00, 66.26s/it]\n",
      "Sending chatcomplete API requests: 100%|██████████| 1/1 [00:11<00:00, 11.81s/it]\n",
      "/opt/shichenh/gpt_translate/src/gpt_translate/articles/JsonArticleManager.py:131: FutureWarning: The frame.append method is deprecated and will be removed from pandas in a future version. Use pandas.concat instead.\n",
      "  self.articles_df = self.articles_df.append(series, ignore_index=True)\n"
     ]
    },
    {
     "name": "stdout",
     "output_type": "stream",
     "text": [
      "processing record: 回答一位河南的考生家长，填志愿\n"
     ]
    },
    {
     "name": "stderr",
     "output_type": "stream",
     "text": [
      "Sending chatcomplete API requests: 100%|██████████| 1/1 [00:01<00:00,  1.85s/it]\n"
     ]
    },
    {
     "name": "stdout",
     "output_type": "stream",
     "text": [
      "split test into trunks\n",
      "there are 3 text_trunks\n"
     ]
    },
    {
     "name": "stderr",
     "output_type": "stream",
     "text": [
      "Sending chatcomplete API requests: 100%|██████████| 3/3 [02:41<00:00, 53.92s/it]\n",
      "Sending chatcomplete API requests: 100%|██████████| 1/1 [00:21<00:00, 21.65s/it]\n",
      "/opt/shichenh/gpt_translate/src/gpt_translate/articles/JsonArticleManager.py:131: FutureWarning: The frame.append method is deprecated and will be removed from pandas in a future version. Use pandas.concat instead.\n",
      "  self.articles_df = self.articles_df.append(series, ignore_index=True)\n"
     ]
    },
    {
     "name": "stdout",
     "output_type": "stream",
     "text": [
      "processing record: 零分作文不是重点，重点是你要学会表里不一\n"
     ]
    },
    {
     "name": "stderr",
     "output_type": "stream",
     "text": [
      "Sending chatcomplete API requests: 100%|██████████| 1/1 [00:01<00:00,  1.78s/it]\n"
     ]
    },
    {
     "name": "stdout",
     "output_type": "stream",
     "text": [
      "split test into trunks\n",
      "there are 4 text_trunks\n"
     ]
    },
    {
     "name": "stderr",
     "output_type": "stream",
     "text": [
      "Sending chatcomplete API requests: 100%|██████████| 4/4 [03:07<00:00, 46.76s/it]\n",
      "Sending chatcomplete API requests: 100%|██████████| 1/1 [00:17<00:00, 17.40s/it]\n",
      "/opt/shichenh/gpt_translate/src/gpt_translate/articles/JsonArticleManager.py:131: FutureWarning: The frame.append method is deprecated and will be removed from pandas in a future version. Use pandas.concat instead.\n",
      "  self.articles_df = self.articles_df.append(series, ignore_index=True)\n"
     ]
    },
    {
     "name": "stdout",
     "output_type": "stream",
     "text": [
      "processing record: 高考填专业，最重要的不是兴趣，是家境\n"
     ]
    },
    {
     "name": "stderr",
     "output_type": "stream",
     "text": [
      "Sending chatcomplete API requests: 100%|██████████| 1/1 [00:02<00:00,  2.55s/it]\n"
     ]
    },
    {
     "name": "stdout",
     "output_type": "stream",
     "text": [
      "split test into trunks\n",
      "there are 3 text_trunks\n"
     ]
    },
    {
     "name": "stderr",
     "output_type": "stream",
     "text": [
      "Sending chatcomplete API requests: 100%|██████████| 3/3 [02:35<00:00, 51.67s/it]\n",
      "Sending chatcomplete API requests: 100%|██████████| 1/1 [00:12<00:00, 12.01s/it]\n",
      "/opt/shichenh/gpt_translate/src/gpt_translate/articles/JsonArticleManager.py:131: FutureWarning: The frame.append method is deprecated and will be removed from pandas in a future version. Use pandas.concat instead.\n",
      "  self.articles_df = self.articles_df.append(series, ignore_index=True)\n"
     ]
    },
    {
     "name": "stdout",
     "output_type": "stream",
     "text": [
      "processing record: 罗永浩只是搞笑，并不是傻\n"
     ]
    },
    {
     "name": "stderr",
     "output_type": "stream",
     "text": [
      "Sending chatcomplete API requests: 100%|██████████| 1/1 [00:01<00:00,  1.90s/it]\n"
     ]
    },
    {
     "name": "stdout",
     "output_type": "stream",
     "text": [
      "split test into trunks\n",
      "there are 4 text_trunks\n"
     ]
    },
    {
     "name": "stderr",
     "output_type": "stream",
     "text": [
      "Sending chatcomplete API requests: 100%|██████████| 4/4 [03:59<00:00, 59.89s/it]\n",
      "Sending chatcomplete API requests: 100%|██████████| 1/1 [00:13<00:00, 13.62s/it]\n",
      "/opt/shichenh/gpt_translate/src/gpt_translate/articles/JsonArticleManager.py:131: FutureWarning: The frame.append method is deprecated and will be removed from pandas in a future version. Use pandas.concat instead.\n",
      "  self.articles_df = self.articles_df.append(series, ignore_index=True)\n"
     ]
    },
    {
     "name": "stdout",
     "output_type": "stream",
     "text": [
      "processing record: 我年轻时遇到的那些职场“后门女”\n"
     ]
    },
    {
     "name": "stderr",
     "output_type": "stream",
     "text": [
      "Sending chatcomplete API requests: 100%|██████████| 1/1 [00:02<00:00,  2.81s/it]\n"
     ]
    },
    {
     "name": "stdout",
     "output_type": "stream",
     "text": [
      "split test into trunks\n",
      "there are 2 text_trunks\n"
     ]
    },
    {
     "name": "stderr",
     "output_type": "stream",
     "text": [
      "Sending chatcomplete API requests: 100%|██████████| 2/2 [02:03<00:00, 61.85s/it]\n",
      "Sending chatcomplete API requests: 100%|██████████| 1/1 [00:12<00:00, 12.66s/it]\n",
      "/opt/shichenh/gpt_translate/src/gpt_translate/articles/JsonArticleManager.py:131: FutureWarning: The frame.append method is deprecated and will be removed from pandas in a future version. Use pandas.concat instead.\n",
      "  self.articles_df = self.articles_df.append(series, ignore_index=True)\n"
     ]
    },
    {
     "name": "stdout",
     "output_type": "stream",
     "text": [
      "processing record: 喜欢把精力浪费在董小三身上，却不喜欢计算数学期望\n"
     ]
    },
    {
     "name": "stderr",
     "output_type": "stream",
     "text": [
      "Sending chatcomplete API requests: 100%|██████████| 1/1 [00:02<00:00,  2.11s/it]\n"
     ]
    },
    {
     "name": "stdout",
     "output_type": "stream",
     "text": [
      "split test into trunks\n",
      "there are 4 text_trunks\n"
     ]
    },
    {
     "name": "stderr",
     "output_type": "stream",
     "text": [
      "Sending chatcomplete API requests: 100%|██████████| 4/4 [04:15<00:00, 63.87s/it]\n",
      "Sending chatcomplete API requests: 100%|██████████| 1/1 [00:14<00:00, 14.13s/it]\n",
      "/opt/shichenh/gpt_translate/src/gpt_translate/articles/JsonArticleManager.py:131: FutureWarning: The frame.append method is deprecated and will be removed from pandas in a future version. Use pandas.concat instead.\n",
      "  self.articles_df = self.articles_df.append(series, ignore_index=True)\n"
     ]
    },
    {
     "name": "stdout",
     "output_type": "stream",
     "text": [
      "processing record: 敲开董事长家大门的，从来不是学历\n"
     ]
    },
    {
     "name": "stderr",
     "output_type": "stream",
     "text": [
      "Sending chatcomplete API requests: 100%|██████████| 1/1 [00:02<00:00,  2.62s/it]\n"
     ]
    },
    {
     "name": "stdout",
     "output_type": "stream",
     "text": [
      "split test into trunks\n",
      "there are 3 text_trunks\n"
     ]
    },
    {
     "name": "stderr",
     "output_type": "stream",
     "text": [
      "Sending chatcomplete API requests: 100%|██████████| 3/3 [03:41<00:00, 73.91s/it]\n",
      "Sending chatcomplete API requests: 100%|██████████| 1/1 [00:14<00:00, 14.33s/it]\n",
      "/opt/shichenh/gpt_translate/src/gpt_translate/articles/JsonArticleManager.py:131: FutureWarning: The frame.append method is deprecated and will be removed from pandas in a future version. Use pandas.concat instead.\n",
      "  self.articles_df = self.articles_df.append(series, ignore_index=True)\n"
     ]
    },
    {
     "name": "stdout",
     "output_type": "stream",
     "text": [
      "processing record: 学历最大的价值在于年轻的那十年，质疑你的人会很少\n"
     ]
    },
    {
     "name": "stderr",
     "output_type": "stream",
     "text": [
      "Sending chatcomplete API requests: 100%|██████████| 1/1 [00:02<00:00,  2.84s/it]\n"
     ]
    },
    {
     "name": "stdout",
     "output_type": "stream",
     "text": [
      "split test into trunks\n",
      "there are 3 text_trunks\n"
     ]
    },
    {
     "name": "stderr",
     "output_type": "stream",
     "text": [
      "Sending chatcomplete API requests: 100%|██████████| 3/3 [02:56<00:00, 58.75s/it]\n",
      "Sending chatcomplete API requests: 100%|██████████| 1/1 [00:12<00:00, 12.45s/it]\n",
      "/opt/shichenh/gpt_translate/src/gpt_translate/articles/JsonArticleManager.py:131: FutureWarning: The frame.append method is deprecated and will be removed from pandas in a future version. Use pandas.concat instead.\n",
      "  self.articles_df = self.articles_df.append(series, ignore_index=True)\n"
     ]
    },
    {
     "name": "stdout",
     "output_type": "stream",
     "text": [
      "processing record: 通过寰球工程项目领导与美女的瓜，聊聊职业选择\n"
     ]
    },
    {
     "name": "stderr",
     "output_type": "stream",
     "text": [
      "Sending chatcomplete API requests: 100%|██████████| 1/1 [00:02<00:00,  2.13s/it]\n"
     ]
    },
    {
     "name": "stdout",
     "output_type": "stream",
     "text": [
      "split test into trunks\n",
      "there are 4 text_trunks\n"
     ]
    },
    {
     "name": "stderr",
     "output_type": "stream",
     "text": [
      "Sending chatcomplete API requests: 100%|██████████| 4/4 [03:22<00:00, 50.54s/it]\n",
      "Sending chatcomplete API requests: 100%|██████████| 1/1 [00:10<00:00, 10.55s/it]\n",
      "/opt/shichenh/gpt_translate/src/gpt_translate/articles/JsonArticleManager.py:131: FutureWarning: The frame.append method is deprecated and will be removed from pandas in a future version. Use pandas.concat instead.\n",
      "  self.articles_df = self.articles_df.append(series, ignore_index=True)\n"
     ]
    },
    {
     "name": "stdout",
     "output_type": "stream",
     "text": [
      "processing record: AI能写高考满分作文，而我只能写零分作文\n"
     ]
    },
    {
     "name": "stderr",
     "output_type": "stream",
     "text": [
      "Sending chatcomplete API requests: 100%|██████████| 1/1 [00:02<00:00,  2.14s/it]\n"
     ]
    },
    {
     "name": "stdout",
     "output_type": "stream",
     "text": [
      "split test into trunks\n",
      "there are 4 text_trunks\n"
     ]
    },
    {
     "name": "stderr",
     "output_type": "stream",
     "text": [
      "Sending chatcomplete API requests: 100%|██████████| 4/4 [03:36<00:00, 54.17s/it]\n",
      "Sending chatcomplete API requests: 100%|██████████| 1/1 [00:12<00:00, 12.93s/it]\n",
      "/opt/shichenh/gpt_translate/src/gpt_translate/articles/JsonArticleManager.py:131: FutureWarning: The frame.append method is deprecated and will be removed from pandas in a future version. Use pandas.concat instead.\n",
      "  self.articles_df = self.articles_df.append(series, ignore_index=True)\n"
     ]
    },
    {
     "name": "stdout",
     "output_type": "stream",
     "text": [
      "processing record: 00后赚钱不是靠省，而是靠玩\n"
     ]
    },
    {
     "name": "stderr",
     "output_type": "stream",
     "text": [
      "Sending chatcomplete API requests: 100%|██████████| 1/1 [00:01<00:00,  1.75s/it]\n"
     ]
    },
    {
     "name": "stdout",
     "output_type": "stream",
     "text": [
      "split test into trunks\n",
      "there are 3 text_trunks\n"
     ]
    },
    {
     "name": "stderr",
     "output_type": "stream",
     "text": [
      "Sending chatcomplete API requests: 100%|██████████| 3/3 [02:46<00:00, 55.45s/it]\n",
      "Sending chatcomplete API requests: 100%|██████████| 1/1 [00:13<00:00, 13.67s/it]\n",
      "/opt/shichenh/gpt_translate/src/gpt_translate/articles/JsonArticleManager.py:131: FutureWarning: The frame.append method is deprecated and will be removed from pandas in a future version. Use pandas.concat instead.\n",
      "  self.articles_df = self.articles_df.append(series, ignore_index=True)\n"
     ]
    },
    {
     "name": "stdout",
     "output_type": "stream",
     "text": [
      "processing record: 你想买的并不是房，你想买的是个门槛\n"
     ]
    },
    {
     "name": "stderr",
     "output_type": "stream",
     "text": [
      "Sending chatcomplete API requests: 100%|██████████| 1/1 [00:02<00:00,  2.30s/it]\n"
     ]
    },
    {
     "name": "stdout",
     "output_type": "stream",
     "text": [
      "split test into trunks\n",
      "there are 4 text_trunks\n"
     ]
    },
    {
     "name": "stderr",
     "output_type": "stream",
     "text": [
      "Sending chatcomplete API requests: 100%|██████████| 4/4 [03:46<00:00, 56.69s/it]\n",
      "Sending chatcomplete API requests: 100%|██████████| 1/1 [00:11<00:00, 11.35s/it]\n",
      "/opt/shichenh/gpt_translate/src/gpt_translate/articles/JsonArticleManager.py:131: FutureWarning: The frame.append method is deprecated and will be removed from pandas in a future version. Use pandas.concat instead.\n",
      "  self.articles_df = self.articles_df.append(series, ignore_index=True)\n"
     ]
    },
    {
     "name": "stdout",
     "output_type": "stream",
     "text": [
      "processing record: 学术界妲己与纣王是个什么故事？\n"
     ]
    },
    {
     "name": "stderr",
     "output_type": "stream",
     "text": [
      "Sending chatcomplete API requests: 100%|██████████| 1/1 [00:01<00:00,  1.55s/it]\n"
     ]
    },
    {
     "name": "stdout",
     "output_type": "stream",
     "text": [
      "split test into trunks\n",
      "there are 3 text_trunks\n"
     ]
    },
    {
     "name": "stderr",
     "output_type": "stream",
     "text": [
      "Sending chatcomplete API requests: 100%|██████████| 3/3 [02:26<00:00, 48.93s/it]\n",
      "Sending chatcomplete API requests: 100%|██████████| 1/1 [00:12<00:00, 12.36s/it]\n",
      "/opt/shichenh/gpt_translate/src/gpt_translate/articles/JsonArticleManager.py:131: FutureWarning: The frame.append method is deprecated and will be removed from pandas in a future version. Use pandas.concat instead.\n",
      "  self.articles_df = self.articles_df.append(series, ignore_index=True)\n"
     ]
    },
    {
     "name": "stdout",
     "output_type": "stream",
     "text": [
      "processing record: 聊深圳打包租房这件事，必然会挨骂\n"
     ]
    },
    {
     "name": "stderr",
     "output_type": "stream",
     "text": [
      "Sending chatcomplete API requests: 100%|██████████| 1/1 [00:02<00:00,  2.02s/it]\n"
     ]
    },
    {
     "name": "stdout",
     "output_type": "stream",
     "text": [
      "split test into trunks\n",
      "there are 3 text_trunks\n"
     ]
    },
    {
     "name": "stderr",
     "output_type": "stream",
     "text": [
      "Sending chatcomplete API requests: 100%|██████████| 3/3 [03:16<00:00, 65.45s/it]\n",
      "Sending chatcomplete API requests: 100%|██████████| 1/1 [00:11<00:00, 11.97s/it]\n",
      "/opt/shichenh/gpt_translate/src/gpt_translate/articles/JsonArticleManager.py:131: FutureWarning: The frame.append method is deprecated and will be removed from pandas in a future version. Use pandas.concat instead.\n",
      "  self.articles_df = self.articles_df.append(series, ignore_index=True)\n"
     ]
    },
    {
     "name": "stdout",
     "output_type": "stream",
     "text": [
      "processing record: 喷子故事的后续\n"
     ]
    },
    {
     "name": "stderr",
     "output_type": "stream",
     "text": [
      "Sending chatcomplete API requests: 100%|██████████| 1/1 [00:01<00:00,  1.00s/it]\n"
     ]
    },
    {
     "name": "stdout",
     "output_type": "stream",
     "text": [
      "split test into trunks\n",
      "there are 6 text_trunks\n"
     ]
    },
    {
     "name": "stderr",
     "output_type": "stream",
     "text": [
      "Sending chatcomplete API requests: 100%|██████████| 6/6 [03:47<00:00, 37.86s/it]\n",
      "Sending chatcomplete API requests: 100%|██████████| 1/1 [00:11<00:00, 11.21s/it]\n",
      "/opt/shichenh/gpt_translate/src/gpt_translate/articles/JsonArticleManager.py:131: FutureWarning: The frame.append method is deprecated and will be removed from pandas in a future version. Use pandas.concat instead.\n",
      "  self.articles_df = self.articles_df.append(series, ignore_index=True)\n"
     ]
    },
    {
     "name": "stdout",
     "output_type": "stream",
     "text": [
      "processing record: 孩子车祸后选择坠亡的母亲，我们不妨来听听喷子在想什么\n"
     ]
    },
    {
     "name": "stderr",
     "output_type": "stream",
     "text": [
      "Sending chatcomplete API requests: 100%|██████████| 1/1 [00:02<00:00,  2.45s/it]\n"
     ]
    },
    {
     "name": "stdout",
     "output_type": "stream",
     "text": [
      "split test into trunks\n",
      "there are 6 text_trunks\n"
     ]
    },
    {
     "name": "stderr",
     "output_type": "stream",
     "text": [
      "Sending chatcomplete API requests: 100%|██████████| 6/6 [04:51<00:00, 48.56s/it]\n",
      "Sending chatcomplete API requests: 100%|██████████| 1/1 [00:12<00:00, 12.80s/it]\n",
      "/opt/shichenh/gpt_translate/src/gpt_translate/articles/JsonArticleManager.py:131: FutureWarning: The frame.append method is deprecated and will be removed from pandas in a future version. Use pandas.concat instead.\n",
      "  self.articles_df = self.articles_df.append(series, ignore_index=True)\n"
     ]
    },
    {
     "name": "stdout",
     "output_type": "stream",
     "text": [
      "processing record: 我们有房东读者，说房价跌得他睡不着觉\n"
     ]
    },
    {
     "name": "stderr",
     "output_type": "stream",
     "text": [
      "Sending chatcomplete API requests: 100%|██████████| 1/1 [00:02<00:00,  2.14s/it]\n"
     ]
    },
    {
     "name": "stdout",
     "output_type": "stream",
     "text": [
      "split test into trunks\n",
      "there are 3 text_trunks\n"
     ]
    },
    {
     "name": "stderr",
     "output_type": "stream",
     "text": [
      "Sending chatcomplete API requests: 100%|██████████| 3/3 [02:59<00:00, 59.78s/it]\n",
      "Sending chatcomplete API requests: 100%|██████████| 1/1 [00:13<00:00, 13.35s/it]\n",
      "/opt/shichenh/gpt_translate/src/gpt_translate/articles/JsonArticleManager.py:131: FutureWarning: The frame.append method is deprecated and will be removed from pandas in a future version. Use pandas.concat instead.\n",
      "  self.articles_df = self.articles_df.append(series, ignore_index=True)\n"
     ]
    },
    {
     "name": "stdout",
     "output_type": "stream",
     "text": [
      "processing record: 当下的游戏已经不是尊重人性，尊重利益这个阶段了\n"
     ]
    },
    {
     "name": "stderr",
     "output_type": "stream",
     "text": [
      "Sending chatcomplete API requests: 100%|██████████| 1/1 [00:02<00:00,  2.34s/it]\n"
     ]
    },
    {
     "name": "stdout",
     "output_type": "stream",
     "text": [
      "split test into trunks\n",
      "there are 3 text_trunks\n"
     ]
    },
    {
     "name": "stderr",
     "output_type": "stream",
     "text": [
      "Sending chatcomplete API requests: 100%|██████████| 3/3 [02:47<00:00, 55.79s/it]\n",
      "Sending chatcomplete API requests: 100%|██████████| 1/1 [00:12<00:00, 12.12s/it]\n",
      "/opt/shichenh/gpt_translate/src/gpt_translate/articles/JsonArticleManager.py:131: FutureWarning: The frame.append method is deprecated and will be removed from pandas in a future version. Use pandas.concat instead.\n",
      "  self.articles_df = self.articles_df.append(series, ignore_index=True)\n"
     ]
    },
    {
     "name": "stdout",
     "output_type": "stream",
     "text": [
      "processing record: 担忧阶层滑落有无必要？\n"
     ]
    },
    {
     "name": "stderr",
     "output_type": "stream",
     "text": [
      "Sending chatcomplete API requests: 100%|██████████| 1/1 [00:02<00:00,  2.44s/it]\n"
     ]
    },
    {
     "name": "stdout",
     "output_type": "stream",
     "text": [
      "split test into trunks\n",
      "there are 4 text_trunks\n"
     ]
    },
    {
     "name": "stderr",
     "output_type": "stream",
     "text": [
      "Sending chatcomplete API requests: 100%|██████████| 4/4 [03:47<00:00, 56.89s/it]\n",
      "Sending chatcomplete API requests: 100%|██████████| 1/1 [00:10<00:00, 10.58s/it]\n",
      "/opt/shichenh/gpt_translate/src/gpt_translate/articles/JsonArticleManager.py:131: FutureWarning: The frame.append method is deprecated and will be removed from pandas in a future version. Use pandas.concat instead.\n",
      "  self.articles_df = self.articles_df.append(series, ignore_index=True)\n"
     ]
    },
    {
     "name": "stdout",
     "output_type": "stream",
     "text": [
      "processing record: 何以解忧？唯有暴富\n"
     ]
    },
    {
     "name": "stderr",
     "output_type": "stream",
     "text": [
      "Sending chatcomplete API requests: 100%|██████████| 1/1 [00:01<00:00,  1.10s/it]\n"
     ]
    },
    {
     "name": "stdout",
     "output_type": "stream",
     "text": [
      "split test into trunks\n",
      "there are 7 text_trunks\n"
     ]
    },
    {
     "name": "stderr",
     "output_type": "stream",
     "text": [
      "Sending chatcomplete API requests: 100%|██████████| 7/7 [06:14<00:00, 53.54s/it]\n",
      "Sending chatcomplete API requests: 100%|██████████| 1/1 [00:13<00:00, 13.15s/it]\n",
      "/opt/shichenh/gpt_translate/src/gpt_translate/articles/JsonArticleManager.py:131: FutureWarning: The frame.append method is deprecated and will be removed from pandas in a future version. Use pandas.concat instead.\n",
      "  self.articles_df = self.articles_df.append(series, ignore_index=True)\n"
     ]
    },
    {
     "name": "stdout",
     "output_type": "stream",
     "text": [
      "processing record: 硕博士送外卖，是不是樊登说的他们人数太多了？\n"
     ]
    },
    {
     "name": "stderr",
     "output_type": "stream",
     "text": [
      "Sending chatcomplete API requests: 100%|██████████| 1/1 [00:01<00:00,  1.73s/it]\n"
     ]
    },
    {
     "name": "stdout",
     "output_type": "stream",
     "text": [
      "split test into trunks\n",
      "there are 4 text_trunks\n"
     ]
    },
    {
     "name": "stderr",
     "output_type": "stream",
     "text": [
      "Sending chatcomplete API requests: 100%|██████████| 4/4 [02:43<00:00, 40.86s/it]\n",
      "Sending chatcomplete API requests: 100%|██████████| 1/1 [00:13<00:00, 13.17s/it]\n",
      "/opt/shichenh/gpt_translate/src/gpt_translate/articles/JsonArticleManager.py:131: FutureWarning: The frame.append method is deprecated and will be removed from pandas in a future version. Use pandas.concat instead.\n",
      "  self.articles_df = self.articles_df.append(series, ignore_index=True)\n"
     ]
    },
    {
     "name": "stdout",
     "output_type": "stream",
     "text": [
      "processing record: 吴晓波关于楼市与内需的言论\n"
     ]
    },
    {
     "name": "stderr",
     "output_type": "stream",
     "text": [
      "Sending chatcomplete API requests: 100%|██████████| 1/1 [00:01<00:00,  1.64s/it]\n"
     ]
    },
    {
     "name": "stdout",
     "output_type": "stream",
     "text": [
      "split test into trunks\n",
      "there are 4 text_trunks\n"
     ]
    },
    {
     "name": "stderr",
     "output_type": "stream",
     "text": [
      "Sending chatcomplete API requests: 100%|██████████| 4/4 [03:37<00:00, 54.27s/it]\n",
      "Sending chatcomplete API requests: 100%|██████████| 1/1 [00:19<00:00, 19.85s/it]\n",
      "/opt/shichenh/gpt_translate/src/gpt_translate/articles/JsonArticleManager.py:131: FutureWarning: The frame.append method is deprecated and will be removed from pandas in a future version. Use pandas.concat instead.\n",
      "  self.articles_df = self.articles_df.append(series, ignore_index=True)\n"
     ]
    },
    {
     "name": "stdout",
     "output_type": "stream",
     "text": [
      "processing record: 绝大多数人是不适合做投资的\n"
     ]
    },
    {
     "name": "stderr",
     "output_type": "stream",
     "text": [
      "Sending chatcomplete API requests: 100%|██████████| 1/1 [00:01<00:00,  1.25s/it]\n"
     ]
    },
    {
     "name": "stdout",
     "output_type": "stream",
     "text": [
      "split test into trunks\n",
      "there are 5 text_trunks\n"
     ]
    },
    {
     "name": "stderr",
     "output_type": "stream",
     "text": [
      "Sending chatcomplete API requests: 100%|██████████| 5/5 [03:38<00:00, 43.68s/it]\n",
      "Sending chatcomplete API requests: 100%|██████████| 1/1 [00:17<00:00, 17.35s/it]\n",
      "/opt/shichenh/gpt_translate/src/gpt_translate/articles/JsonArticleManager.py:131: FutureWarning: The frame.append method is deprecated and will be removed from pandas in a future version. Use pandas.concat instead.\n",
      "  self.articles_df = self.articles_df.append(series, ignore_index=True)\n"
     ]
    },
    {
     "name": "stdout",
     "output_type": "stream",
     "text": [
      "processing record: 背着高额房贷的码农，该怎么办？\n"
     ]
    },
    {
     "name": "stderr",
     "output_type": "stream",
     "text": [
      "Sending chatcomplete API requests: 100%|██████████| 1/1 [00:01<00:00,  1.39s/it]\n"
     ]
    },
    {
     "name": "stdout",
     "output_type": "stream",
     "text": [
      "split test into trunks\n",
      "there are 4 text_trunks\n"
     ]
    },
    {
     "name": "stderr",
     "output_type": "stream",
     "text": [
      "Sending chatcomplete API requests: 100%|██████████| 4/4 [04:24<00:00, 66.22s/it]\n",
      "Sending chatcomplete API requests: 100%|██████████| 1/1 [00:13<00:00, 13.21s/it]\n",
      "/opt/shichenh/gpt_translate/src/gpt_translate/articles/JsonArticleManager.py:131: FutureWarning: The frame.append method is deprecated and will be removed from pandas in a future version. Use pandas.concat instead.\n",
      "  self.articles_df = self.articles_df.append(series, ignore_index=True)\n"
     ]
    },
    {
     "name": "stdout",
     "output_type": "stream",
     "text": [
      "processing record: 自己造的大飞机首航，会不会让朋友变少，压力变大？\n"
     ]
    },
    {
     "name": "stderr",
     "output_type": "stream",
     "text": [
      "Sending chatcomplete API requests: 100%|██████████| 1/1 [00:02<00:00,  2.10s/it]\n"
     ]
    },
    {
     "name": "stdout",
     "output_type": "stream",
     "text": [
      "split test into trunks\n",
      "there are 3 text_trunks\n"
     ]
    },
    {
     "name": "stderr",
     "output_type": "stream",
     "text": [
      "Sending chatcomplete API requests: 100%|██████████| 3/3 [02:42<00:00, 54.16s/it]\n",
      "Sending chatcomplete API requests: 100%|██████████| 1/1 [00:16<00:00, 16.84s/it]\n",
      "/opt/shichenh/gpt_translate/src/gpt_translate/articles/JsonArticleManager.py:131: FutureWarning: The frame.append method is deprecated and will be removed from pandas in a future version. Use pandas.concat instead.\n",
      "  self.articles_df = self.articles_df.append(series, ignore_index=True)\n"
     ]
    },
    {
     "name": "stdout",
     "output_type": "stream",
     "text": [
      "processing record: 去了二线城市，会不会影响下一代的眼界与格局？\n"
     ]
    },
    {
     "name": "stderr",
     "output_type": "stream",
     "text": [
      "Sending chatcomplete API requests: 100%|██████████| 1/1 [00:02<00:00,  2.37s/it]\n"
     ]
    },
    {
     "name": "stdout",
     "output_type": "stream",
     "text": [
      "split test into trunks\n",
      "there are 3 text_trunks\n"
     ]
    },
    {
     "name": "stderr",
     "output_type": "stream",
     "text": [
      "Sending chatcomplete API requests: 100%|██████████| 3/3 [03:25<00:00, 68.39s/it]\n",
      "Sending chatcomplete API requests: 100%|██████████| 1/1 [00:12<00:00, 12.12s/it]\n",
      "/opt/shichenh/gpt_translate/src/gpt_translate/articles/JsonArticleManager.py:131: FutureWarning: The frame.append method is deprecated and will be removed from pandas in a future version. Use pandas.concat instead.\n",
      "  self.articles_df = self.articles_df.append(series, ignore_index=True)\n"
     ]
    },
    {
     "name": "stdout",
     "output_type": "stream",
     "text": [
      "processing record: 你买房不应该盯着投资客\n"
     ]
    },
    {
     "name": "stderr",
     "output_type": "stream",
     "text": [
      "Sending chatcomplete API requests: 100%|██████████| 1/1 [00:01<00:00,  1.92s/it]\n"
     ]
    },
    {
     "name": "stdout",
     "output_type": "stream",
     "text": [
      "split test into trunks\n",
      "there are 4 text_trunks\n"
     ]
    },
    {
     "name": "stderr",
     "output_type": "stream",
     "text": [
      "Sending chatcomplete API requests: 100%|██████████| 4/4 [03:45<00:00, 56.26s/it]\n",
      "Sending chatcomplete API requests: 100%|██████████| 1/1 [00:13<00:00, 13.60s/it]\n",
      "/opt/shichenh/gpt_translate/src/gpt_translate/articles/JsonArticleManager.py:131: FutureWarning: The frame.append method is deprecated and will be removed from pandas in a future version. Use pandas.concat instead.\n",
      "  self.articles_df = self.articles_df.append(series, ignore_index=True)\n"
     ]
    },
    {
     "name": "stdout",
     "output_type": "stream",
     "text": [
      "processing record: 房地产的风险在哪里？\n"
     ]
    },
    {
     "name": "stderr",
     "output_type": "stream",
     "text": [
      "Sending chatcomplete API requests: 100%|██████████| 1/1 [00:01<00:00,  1.15s/it]\n"
     ]
    },
    {
     "name": "stdout",
     "output_type": "stream",
     "text": [
      "split test into trunks\n",
      "there are 4 text_trunks\n"
     ]
    },
    {
     "name": "stderr",
     "output_type": "stream",
     "text": [
      "Sending chatcomplete API requests: 100%|██████████| 4/4 [03:39<00:00, 54.77s/it]\n",
      "Sending chatcomplete API requests: 100%|██████████| 1/1 [00:09<00:00,  9.44s/it]\n",
      "/opt/shichenh/gpt_translate/src/gpt_translate/articles/JsonArticleManager.py:131: FutureWarning: The frame.append method is deprecated and will be removed from pandas in a future version. Use pandas.concat instead.\n",
      "  self.articles_df = self.articles_df.append(series, ignore_index=True)\n"
     ]
    },
    {
     "name": "stdout",
     "output_type": "stream",
     "text": [
      "processing record: 这对刚买房又担心裁员的大厂码农夫妻\n"
     ]
    },
    {
     "name": "stderr",
     "output_type": "stream",
     "text": [
      "Sending chatcomplete API requests: 100%|██████████| 1/1 [00:02<00:00,  2.38s/it]\n"
     ]
    },
    {
     "name": "stdout",
     "output_type": "stream",
     "text": [
      "split test into trunks\n",
      "there are 4 text_trunks\n"
     ]
    },
    {
     "name": "stderr",
     "output_type": "stream",
     "text": [
      "Sending chatcomplete API requests: 100%|██████████| 4/4 [03:57<00:00, 59.32s/it]\n",
      "Sending chatcomplete API requests: 100%|██████████| 1/1 [00:11<00:00, 11.22s/it]\n",
      "/opt/shichenh/gpt_translate/src/gpt_translate/articles/JsonArticleManager.py:131: FutureWarning: The frame.append method is deprecated and will be removed from pandas in a future version. Use pandas.concat instead.\n",
      "  self.articles_df = self.articles_df.append(series, ignore_index=True)\n"
     ]
    },
    {
     "name": "stdout",
     "output_type": "stream",
     "text": [
      "processing record: 许三多的老爹，去世了\n"
     ]
    },
    {
     "name": "stderr",
     "output_type": "stream",
     "text": [
      "Sending chatcomplete API requests: 100%|██████████| 1/1 [00:01<00:00,  1.92s/it]\n"
     ]
    },
    {
     "name": "stdout",
     "output_type": "stream",
     "text": [
      "split test into trunks\n",
      "there are 3 text_trunks\n"
     ]
    },
    {
     "name": "stderr",
     "output_type": "stream",
     "text": [
      "Sending chatcomplete API requests: 100%|██████████| 3/3 [02:32<00:00, 50.96s/it]\n",
      "Sending chatcomplete API requests: 100%|██████████| 1/1 [00:17<00:00, 17.89s/it]\n",
      "/opt/shichenh/gpt_translate/src/gpt_translate/articles/JsonArticleManager.py:131: FutureWarning: The frame.append method is deprecated and will be removed from pandas in a future version. Use pandas.concat instead.\n",
      "  self.articles_df = self.articles_df.append(series, ignore_index=True)\n"
     ]
    },
    {
     "name": "stdout",
     "output_type": "stream",
     "text": [
      "processing record: 国泰航空的空姐，值得挖掘的地方很多\n"
     ]
    },
    {
     "name": "stderr",
     "output_type": "stream",
     "text": [
      "Sending chatcomplete API requests: 100%|██████████| 1/1 [00:01<00:00,  1.72s/it]\n"
     ]
    },
    {
     "name": "stdout",
     "output_type": "stream",
     "text": [
      "split test into trunks\n",
      "there are 5 text_trunks\n"
     ]
    },
    {
     "name": "stderr",
     "output_type": "stream",
     "text": [
      "Sending chatcomplete API requests: 100%|██████████| 5/5 [03:25<00:00, 41.10s/it]\n",
      "Sending chatcomplete API requests: 100%|██████████| 1/1 [00:20<00:00, 20.74s/it]\n",
      "/opt/shichenh/gpt_translate/src/gpt_translate/articles/JsonArticleManager.py:131: FutureWarning: The frame.append method is deprecated and will be removed from pandas in a future version. Use pandas.concat instead.\n",
      "  self.articles_df = self.articles_df.append(series, ignore_index=True)\n"
     ]
    },
    {
     "name": "stdout",
     "output_type": "stream",
     "text": [
      "processing record: 何赛飞当众发飙，痛斥的到底是什么？\n"
     ]
    },
    {
     "name": "stderr",
     "output_type": "stream",
     "text": [
      "Sending chatcomplete API requests: 100%|██████████| 1/1 [00:01<00:00,  1.33s/it]\n"
     ]
    },
    {
     "name": "stdout",
     "output_type": "stream",
     "text": [
      "split test into trunks\n",
      "there are 4 text_trunks\n"
     ]
    },
    {
     "name": "stderr",
     "output_type": "stream",
     "text": [
      "Sending chatcomplete API requests: 100%|██████████| 4/4 [03:31<00:00, 52.75s/it]\n",
      "Sending chatcomplete API requests: 100%|██████████| 1/1 [00:28<00:00, 28.90s/it]\n",
      "/opt/shichenh/gpt_translate/src/gpt_translate/articles/JsonArticleManager.py:131: FutureWarning: The frame.append method is deprecated and will be removed from pandas in a future version. Use pandas.concat instead.\n",
      "  self.articles_df = self.articles_df.append(series, ignore_index=True)\n"
     ]
    },
    {
     "name": "stdout",
     "output_type": "stream",
     "text": [
      "processing record: 比图里琛更聪明的人多得是，比如佟国维\n"
     ]
    },
    {
     "name": "stderr",
     "output_type": "stream",
     "text": [
      "Sending chatcomplete API requests: 100%|██████████| 1/1 [00:01<00:00,  1.62s/it]\n"
     ]
    },
    {
     "name": "stdout",
     "output_type": "stream",
     "text": [
      "split test into trunks\n",
      "there are 3 text_trunks\n"
     ]
    },
    {
     "name": "stderr",
     "output_type": "stream",
     "text": [
      "Sending chatcomplete API requests: 100%|██████████| 3/3 [02:28<00:00, 49.58s/it]\n",
      "Sending chatcomplete API requests: 100%|██████████| 1/1 [00:13<00:00, 13.12s/it]\n",
      "/opt/shichenh/gpt_translate/src/gpt_translate/articles/JsonArticleManager.py:131: FutureWarning: The frame.append method is deprecated and will be removed from pandas in a future version. Use pandas.concat instead.\n",
      "  self.articles_df = self.articles_df.append(series, ignore_index=True)\n"
     ]
    },
    {
     "name": "stdout",
     "output_type": "stream",
     "text": [
      "processing record: 你觉得和有钱人待在一起安全，还是反过来呢？\n"
     ]
    },
    {
     "name": "stderr",
     "output_type": "stream",
     "text": [
      "Sending chatcomplete API requests: 100%|██████████| 1/1 [00:02<00:00,  2.56s/it]\n"
     ]
    },
    {
     "name": "stdout",
     "output_type": "stream",
     "text": [
      "split test into trunks\n",
      "there are 4 text_trunks\n"
     ]
    },
    {
     "name": "stderr",
     "output_type": "stream",
     "text": [
      "Sending chatcomplete API requests: 100%|██████████| 4/4 [03:07<00:00, 46.98s/it]\n",
      "Sending chatcomplete API requests: 100%|██████████| 1/1 [00:20<00:00, 20.14s/it]\n",
      "/opt/shichenh/gpt_translate/src/gpt_translate/articles/JsonArticleManager.py:131: FutureWarning: The frame.append method is deprecated and will be removed from pandas in a future version. Use pandas.concat instead.\n",
      "  self.articles_df = self.articles_df.append(series, ignore_index=True)\n"
     ]
    },
    {
     "name": "stdout",
     "output_type": "stream",
     "text": [
      "processing record: 过去是进京发财，现在是发财了进京\n"
     ]
    },
    {
     "name": "stderr",
     "output_type": "stream",
     "text": [
      "Sending chatcomplete API requests: 100%|██████████| 1/1 [00:03<00:00,  3.10s/it]\n"
     ]
    },
    {
     "name": "stdout",
     "output_type": "stream",
     "text": [
      "split test into trunks\n",
      "there are 5 text_trunks\n"
     ]
    },
    {
     "name": "stderr",
     "output_type": "stream",
     "text": [
      "Sending chatcomplete API requests: 100%|██████████| 5/5 [03:52<00:00, 46.41s/it]\n",
      "Sending chatcomplete API requests: 100%|██████████| 1/1 [00:17<00:00, 17.69s/it]\n",
      "/opt/shichenh/gpt_translate/src/gpt_translate/articles/JsonArticleManager.py:131: FutureWarning: The frame.append method is deprecated and will be removed from pandas in a future version. Use pandas.concat instead.\n",
      "  self.articles_df = self.articles_df.append(series, ignore_index=True)\n"
     ]
    },
    {
     "name": "stdout",
     "output_type": "stream",
     "text": [
      "processing record: 学说话三年，学闭嘴一生\n"
     ]
    },
    {
     "name": "stderr",
     "output_type": "stream",
     "text": [
      "Sending chatcomplete API requests: 100%|██████████| 1/1 [00:02<00:00,  2.17s/it]\n"
     ]
    },
    {
     "name": "stdout",
     "output_type": "stream",
     "text": [
      "split test into trunks\n",
      "there are 2 text_trunks\n"
     ]
    },
    {
     "name": "stderr",
     "output_type": "stream",
     "text": [
      "Sending chatcomplete API requests: 100%|██████████| 2/2 [01:45<00:00, 52.55s/it]\n",
      "Sending chatcomplete API requests: 100%|██████████| 1/1 [00:14<00:00, 14.58s/it]\n",
      "/opt/shichenh/gpt_translate/src/gpt_translate/articles/JsonArticleManager.py:131: FutureWarning: The frame.append method is deprecated and will be removed from pandas in a future version. Use pandas.concat instead.\n",
      "  self.articles_df = self.articles_df.append(series, ignore_index=True)\n"
     ]
    },
    {
     "name": "stdout",
     "output_type": "stream",
     "text": [
      "processing record: 什么才是深圳人？\n"
     ]
    },
    {
     "name": "stderr",
     "output_type": "stream",
     "text": [
      "Sending chatcomplete API requests: 100%|██████████| 1/1 [00:01<00:00,  1.94s/it]\n"
     ]
    },
    {
     "name": "stdout",
     "output_type": "stream",
     "text": [
      "split test into trunks\n",
      "there are 4 text_trunks\n"
     ]
    },
    {
     "name": "stderr",
     "output_type": "stream",
     "text": [
      "Sending chatcomplete API requests: 100%|██████████| 4/4 [03:37<00:00, 54.39s/it]\n",
      "Sending chatcomplete API requests: 100%|██████████| 1/1 [00:13<00:00, 13.77s/it]\n",
      "/opt/shichenh/gpt_translate/src/gpt_translate/articles/JsonArticleManager.py:131: FutureWarning: The frame.append method is deprecated and will be removed from pandas in a future version. Use pandas.concat instead.\n",
      "  self.articles_df = self.articles_df.append(series, ignore_index=True)\n"
     ]
    },
    {
     "name": "stdout",
     "output_type": "stream",
     "text": [
      "processing record: 上海能不能复制淄博烧烤的奇迹？\n"
     ]
    },
    {
     "name": "stderr",
     "output_type": "stream",
     "text": [
      "Sending chatcomplete API requests: 100%|██████████| 1/1 [00:01<00:00,  1.59s/it]\n"
     ]
    },
    {
     "name": "stdout",
     "output_type": "stream",
     "text": [
      "split test into trunks\n",
      "there are 3 text_trunks\n"
     ]
    },
    {
     "name": "stderr",
     "output_type": "stream",
     "text": [
      "Sending chatcomplete API requests: 100%|██████████| 3/3 [02:30<00:00, 50.07s/it]\n",
      "Sending chatcomplete API requests: 100%|██████████| 1/1 [00:10<00:00, 10.02s/it]\n",
      "/opt/shichenh/gpt_translate/src/gpt_translate/articles/JsonArticleManager.py:131: FutureWarning: The frame.append method is deprecated and will be removed from pandas in a future version. Use pandas.concat instead.\n",
      "  self.articles_df = self.articles_df.append(series, ignore_index=True)\n"
     ]
    },
    {
     "name": "stdout",
     "output_type": "stream",
     "text": [
      "processing record: 取消限价能否阻止上海的富人躺赚这2000万呢？\n"
     ]
    },
    {
     "name": "stderr",
     "output_type": "stream",
     "text": [
      "Sending chatcomplete API requests: 100%|██████████| 1/1 [00:02<00:00,  2.21s/it]\n"
     ]
    },
    {
     "name": "stdout",
     "output_type": "stream",
     "text": [
      "split test into trunks\n",
      "there are 3 text_trunks\n"
     ]
    },
    {
     "name": "stderr",
     "output_type": "stream",
     "text": [
      "Sending chatcomplete API requests: 100%|██████████| 3/3 [03:13<00:00, 64.41s/it]\n",
      "Sending chatcomplete API requests: 100%|██████████| 1/1 [00:13<00:00, 13.54s/it]\n",
      "/opt/shichenh/gpt_translate/src/gpt_translate/articles/JsonArticleManager.py:131: FutureWarning: The frame.append method is deprecated and will be removed from pandas in a future version. Use pandas.concat instead.\n",
      "  self.articles_df = self.articles_df.append(series, ignore_index=True)\n"
     ]
    },
    {
     "name": "stdout",
     "output_type": "stream",
     "text": [
      "processing record: 怎么看历史上首次北上广深人口集体减少\n"
     ]
    },
    {
     "name": "stderr",
     "output_type": "stream",
     "text": [
      "Sending chatcomplete API requests: 100%|██████████| 1/1 [00:02<00:00,  2.46s/it]\n"
     ]
    },
    {
     "name": "stdout",
     "output_type": "stream",
     "text": [
      "split test into trunks\n",
      "there are 4 text_trunks\n"
     ]
    },
    {
     "name": "stderr",
     "output_type": "stream",
     "text": [
      "Sending chatcomplete API requests: 100%|██████████| 4/4 [04:28<00:00, 67.18s/it]\n",
      "Sending chatcomplete API requests: 100%|██████████| 1/1 [00:10<00:00, 10.46s/it]\n",
      "/opt/shichenh/gpt_translate/src/gpt_translate/articles/JsonArticleManager.py:131: FutureWarning: The frame.append method is deprecated and will be removed from pandas in a future version. Use pandas.concat instead.\n",
      "  self.articles_df = self.articles_df.append(series, ignore_index=True)\n"
     ]
    },
    {
     "name": "stdout",
     "output_type": "stream",
     "text": [
      "processing record: 放弃你身上的学生气\n"
     ]
    },
    {
     "name": "stderr",
     "output_type": "stream",
     "text": [
      "Sending chatcomplete API requests: 100%|██████████| 1/1 [00:01<00:00,  1.94s/it]\n"
     ]
    },
    {
     "name": "stdout",
     "output_type": "stream",
     "text": [
      "split test into trunks\n",
      "there are 3 text_trunks\n"
     ]
    },
    {
     "name": "stderr",
     "output_type": "stream",
     "text": [
      "Sending chatcomplete API requests: 100%|██████████| 3/3 [02:45<00:00, 55.03s/it]\n",
      "Sending chatcomplete API requests: 100%|██████████| 1/1 [00:21<00:00, 21.44s/it]\n",
      "/opt/shichenh/gpt_translate/src/gpt_translate/articles/JsonArticleManager.py:131: FutureWarning: The frame.append method is deprecated and will be removed from pandas in a future version. Use pandas.concat instead.\n",
      "  self.articles_df = self.articles_df.append(series, ignore_index=True)\n"
     ]
    },
    {
     "name": "stdout",
     "output_type": "stream",
     "text": [
      "processing record: 把钱给够，就是最好的尊重\n"
     ]
    },
    {
     "name": "stderr",
     "output_type": "stream",
     "text": [
      "Sending chatcomplete API requests: 100%|██████████| 1/1 [00:01<00:00,  1.49s/it]\n"
     ]
    },
    {
     "name": "stdout",
     "output_type": "stream",
     "text": [
      "split test into trunks\n",
      "there are 5 text_trunks\n"
     ]
    },
    {
     "name": "stderr",
     "output_type": "stream",
     "text": [
      "Sending chatcomplete API requests: 100%|██████████| 5/5 [04:41<00:00, 56.34s/it]\n",
      "Sending chatcomplete API requests: 100%|██████████| 1/1 [00:13<00:00, 13.65s/it]\n",
      "/opt/shichenh/gpt_translate/src/gpt_translate/articles/JsonArticleManager.py:131: FutureWarning: The frame.append method is deprecated and will be removed from pandas in a future version. Use pandas.concat instead.\n",
      "  self.articles_df = self.articles_df.append(series, ignore_index=True)\n"
     ]
    },
    {
     "name": "stdout",
     "output_type": "stream",
     "text": [
      "processing record: 巴厘岛情侣案的关键并不在于印尼方的调查结果\n"
     ]
    },
    {
     "name": "stderr",
     "output_type": "stream",
     "text": [
      "Sending chatcomplete API requests: 100%|██████████| 1/1 [00:01<00:00,  1.72s/it]\n"
     ]
    },
    {
     "name": "stdout",
     "output_type": "stream",
     "text": [
      "split test into trunks\n",
      "there are 3 text_trunks\n"
     ]
    },
    {
     "name": "stderr",
     "output_type": "stream",
     "text": [
      "Sending chatcomplete API requests: 100%|██████████| 3/3 [02:10<00:00, 43.45s/it]\n",
      "Sending chatcomplete API requests: 100%|██████████| 1/1 [00:15<00:00, 15.19s/it]\n",
      "/opt/shichenh/gpt_translate/src/gpt_translate/articles/JsonArticleManager.py:131: FutureWarning: The frame.append method is deprecated and will be removed from pandas in a future version. Use pandas.concat instead.\n",
      "  self.articles_df = self.articles_df.append(series, ignore_index=True)\n"
     ]
    },
    {
     "name": "stdout",
     "output_type": "stream",
     "text": [
      "processing record: 孟羽童与格力的矛盾，就像北漂夫妻放弃5万月薪回乡种地\n"
     ]
    },
    {
     "name": "stderr",
     "output_type": "stream",
     "text": [
      "Sending chatcomplete API requests: 100%|██████████| 1/1 [00:03<00:00,  3.42s/it]\n"
     ]
    },
    {
     "name": "stdout",
     "output_type": "stream",
     "text": [
      "split test into trunks\n",
      "there are 3 text_trunks\n"
     ]
    },
    {
     "name": "stderr",
     "output_type": "stream",
     "text": [
      "Sending chatcomplete API requests: 100%|██████████| 3/3 [03:14<00:00, 64.72s/it]\n",
      "Sending chatcomplete API requests: 100%|██████████| 1/1 [00:20<00:00, 20.59s/it]\n",
      "/opt/shichenh/gpt_translate/src/gpt_translate/articles/JsonArticleManager.py:131: FutureWarning: The frame.append method is deprecated and will be removed from pandas in a future version. Use pandas.concat instead.\n",
      "  self.articles_df = self.articles_df.append(series, ignore_index=True)\n"
     ]
    },
    {
     "name": "stdout",
     "output_type": "stream",
     "text": [
      "processing record: 鹤岗之后，鹤壁的房子也火了\n"
     ]
    },
    {
     "name": "stderr",
     "output_type": "stream",
     "text": [
      "Sending chatcomplete API requests: 100%|██████████| 1/1 [00:01<00:00,  1.02s/it]\n"
     ]
    },
    {
     "name": "stdout",
     "output_type": "stream",
     "text": [
      "split test into trunks\n",
      "there are 2 text_trunks\n"
     ]
    },
    {
     "name": "stderr",
     "output_type": "stream",
     "text": [
      "Sending chatcomplete API requests: 100%|██████████| 2/2 [02:03<00:00, 61.85s/it]\n",
      "Sending chatcomplete API requests: 100%|██████████| 1/1 [00:11<00:00, 11.85s/it]\n",
      "/opt/shichenh/gpt_translate/src/gpt_translate/articles/JsonArticleManager.py:131: FutureWarning: The frame.append method is deprecated and will be removed from pandas in a future version. Use pandas.concat instead.\n",
      "  self.articles_df = self.articles_df.append(series, ignore_index=True)\n"
     ]
    },
    {
     "name": "stdout",
     "output_type": "stream",
     "text": [
      "processing record: 房产的价格是共识决定的，不是土地\n"
     ]
    },
    {
     "name": "stderr",
     "output_type": "stream",
     "text": [
      "Sending chatcomplete API requests: 100%|██████████| 1/1 [00:01<00:00,  1.84s/it]\n"
     ]
    },
    {
     "name": "stdout",
     "output_type": "stream",
     "text": [
      "split test into trunks\n",
      "there are 4 text_trunks\n"
     ]
    },
    {
     "name": "stderr",
     "output_type": "stream",
     "text": [
      "Sending chatcomplete API requests: 100%|██████████| 4/4 [03:46<00:00, 56.64s/it]\n",
      "Sending chatcomplete API requests: 100%|██████████| 1/1 [00:08<00:00,  8.92s/it]\n",
      "/opt/shichenh/gpt_translate/src/gpt_translate/articles/JsonArticleManager.py:131: FutureWarning: The frame.append method is deprecated and will be removed from pandas in a future version. Use pandas.concat instead.\n",
      "  self.articles_df = self.articles_df.append(series, ignore_index=True)\n"
     ]
    },
    {
     "name": "stdout",
     "output_type": "stream",
     "text": [
      "processing record: 即便是老司机，人生的路也不熟\n"
     ]
    },
    {
     "name": "stderr",
     "output_type": "stream",
     "text": [
      "Sending chatcomplete API requests: 100%|██████████| 1/1 [00:01<00:00,  1.73s/it]\n"
     ]
    },
    {
     "name": "stdout",
     "output_type": "stream",
     "text": [
      "split test into trunks\n",
      "there are 2 text_trunks\n"
     ]
    },
    {
     "name": "stderr",
     "output_type": "stream",
     "text": [
      "Sending chatcomplete API requests: 100%|██████████| 2/2 [02:20<00:00, 70.45s/it]\n",
      "Sending chatcomplete API requests: 100%|██████████| 1/1 [00:13<00:00, 13.84s/it]\n",
      "/opt/shichenh/gpt_translate/src/gpt_translate/articles/JsonArticleManager.py:131: FutureWarning: The frame.append method is deprecated and will be removed from pandas in a future version. Use pandas.concat instead.\n",
      "  self.articles_df = self.articles_df.append(series, ignore_index=True)\n"
     ]
    },
    {
     "name": "stdout",
     "output_type": "stream",
     "text": [
      "processing record: 每一代年轻人都觉得自己和上一代不一样\n"
     ]
    },
    {
     "name": "stderr",
     "output_type": "stream",
     "text": [
      "Sending chatcomplete API requests: 100%|██████████| 1/1 [00:02<00:00,  2.14s/it]\n"
     ]
    },
    {
     "name": "stdout",
     "output_type": "stream",
     "text": [
      "split test into trunks\n",
      "there are 3 text_trunks\n"
     ]
    },
    {
     "name": "stderr",
     "output_type": "stream",
     "text": [
      "Sending chatcomplete API requests: 100%|██████████| 3/3 [02:29<00:00, 49.73s/it]\n",
      "Sending chatcomplete API requests: 100%|██████████| 1/1 [00:11<00:00, 11.48s/it]\n",
      "/opt/shichenh/gpt_translate/src/gpt_translate/articles/JsonArticleManager.py:131: FutureWarning: The frame.append method is deprecated and will be removed from pandas in a future version. Use pandas.concat instead.\n",
      "  self.articles_df = self.articles_df.append(series, ignore_index=True)\n"
     ]
    },
    {
     "name": "stdout",
     "output_type": "stream",
     "text": [
      "processing record: 90天亿万富翁谷底翻身白手起家的关键是什么？\n"
     ]
    },
    {
     "name": "stderr",
     "output_type": "stream",
     "text": [
      "Sending chatcomplete API requests: 100%|██████████| 1/1 [00:01<00:00,  1.81s/it]\n"
     ]
    },
    {
     "name": "stdout",
     "output_type": "stream",
     "text": [
      "split test into trunks\n",
      "there are 3 text_trunks\n"
     ]
    },
    {
     "name": "stderr",
     "output_type": "stream",
     "text": [
      "Sending chatcomplete API requests: 100%|██████████| 3/3 [02:56<00:00, 58.98s/it]\n",
      "Sending chatcomplete API requests: 100%|██████████| 1/1 [00:17<00:00, 17.66s/it]\n",
      "/opt/shichenh/gpt_translate/src/gpt_translate/articles/JsonArticleManager.py:131: FutureWarning: The frame.append method is deprecated and will be removed from pandas in a future version. Use pandas.concat instead.\n",
      "  self.articles_df = self.articles_df.append(series, ignore_index=True)\n"
     ]
    },
    {
     "name": "stdout",
     "output_type": "stream",
     "text": [
      "processing record: 许三多的爸爸是谁？\n"
     ]
    },
    {
     "name": "stderr",
     "output_type": "stream",
     "text": [
      "Sending chatcomplete API requests: 100%|██████████| 1/1 [00:01<00:00,  1.37s/it]\n"
     ]
    },
    {
     "name": "stdout",
     "output_type": "stream",
     "text": [
      "split test into trunks\n",
      "there are 5 text_trunks\n"
     ]
    },
    {
     "name": "stderr",
     "output_type": "stream",
     "text": [
      "Sending chatcomplete API requests: 100%|██████████| 5/5 [04:26<00:00, 53.29s/it]\n",
      "Sending chatcomplete API requests: 100%|██████████| 1/1 [00:12<00:00, 12.18s/it]\n",
      "/opt/shichenh/gpt_translate/src/gpt_translate/articles/JsonArticleManager.py:131: FutureWarning: The frame.append method is deprecated and will be removed from pandas in a future version. Use pandas.concat instead.\n",
      "  self.articles_df = self.articles_df.append(series, ignore_index=True)\n"
     ]
    },
    {
     "name": "stdout",
     "output_type": "stream",
     "text": [
      "processing record: 不要把矛头都对准OPPO芯片部门3千人的就地解散\n"
     ]
    },
    {
     "name": "stderr",
     "output_type": "stream",
     "text": [
      "Sending chatcomplete API requests: 100%|██████████| 1/1 [00:03<00:00,  3.60s/it]\n"
     ]
    },
    {
     "name": "stdout",
     "output_type": "stream",
     "text": [
      "split test into trunks\n",
      "there are 5 text_trunks\n"
     ]
    },
    {
     "name": "stderr",
     "output_type": "stream",
     "text": [
      "Sending chatcomplete API requests: 100%|██████████| 5/5 [04:19<00:00, 51.90s/it]\n",
      "Sending chatcomplete API requests: 100%|██████████| 1/1 [00:13<00:00, 13.76s/it]\n",
      "/opt/shichenh/gpt_translate/src/gpt_translate/articles/JsonArticleManager.py:131: FutureWarning: The frame.append method is deprecated and will be removed from pandas in a future version. Use pandas.concat instead.\n",
      "  self.articles_df = self.articles_df.append(series, ignore_index=True)\n"
     ]
    },
    {
     "name": "stdout",
     "output_type": "stream",
     "text": [
      "processing record: 为什么出口数据这么好，你却觉得赚钱难？\n"
     ]
    },
    {
     "name": "stderr",
     "output_type": "stream",
     "text": [
      "Sending chatcomplete API requests: 100%|██████████| 1/1 [00:02<00:00,  2.51s/it]\n"
     ]
    },
    {
     "name": "stdout",
     "output_type": "stream",
     "text": [
      "split test into trunks\n",
      "there are 4 text_trunks\n"
     ]
    },
    {
     "name": "stderr",
     "output_type": "stream",
     "text": [
      "Sending chatcomplete API requests: 100%|██████████| 4/4 [03:08<00:00, 47.21s/it]\n",
      "Sending chatcomplete API requests: 100%|██████████| 1/1 [00:13<00:00, 13.06s/it]\n",
      "/opt/shichenh/gpt_translate/src/gpt_translate/articles/JsonArticleManager.py:131: FutureWarning: The frame.append method is deprecated and will be removed from pandas in a future version. Use pandas.concat instead.\n",
      "  self.articles_df = self.articles_df.append(series, ignore_index=True)\n"
     ]
    },
    {
     "name": "stdout",
     "output_type": "stream",
     "text": [
      "processing record: 好人坏人不是关键，赛道才是关键\n"
     ]
    },
    {
     "name": "stderr",
     "output_type": "stream",
     "text": [
      "Sending chatcomplete API requests: 100%|██████████| 1/1 [00:02<00:00,  2.08s/it]\n"
     ]
    },
    {
     "name": "stdout",
     "output_type": "stream",
     "text": [
      "split test into trunks\n",
      "there are 4 text_trunks\n"
     ]
    },
    {
     "name": "stderr",
     "output_type": "stream",
     "text": [
      "Sending chatcomplete API requests: 100%|██████████| 4/4 [03:39<00:00, 54.99s/it]\n",
      "Sending chatcomplete API requests: 100%|██████████| 1/1 [00:12<00:00, 12.69s/it]\n",
      "/opt/shichenh/gpt_translate/src/gpt_translate/articles/JsonArticleManager.py:131: FutureWarning: The frame.append method is deprecated and will be removed from pandas in a future version. Use pandas.concat instead.\n",
      "  self.articles_df = self.articles_df.append(series, ignore_index=True)\n"
     ]
    },
    {
     "name": "stdout",
     "output_type": "stream",
     "text": [
      "processing record: 淄博烧烤究竟成功在哪里？\n"
     ]
    },
    {
     "name": "stderr",
     "output_type": "stream",
     "text": [
      "Sending chatcomplete API requests: 100%|██████████| 1/1 [00:01<00:00,  1.21s/it]\n"
     ]
    },
    {
     "name": "stdout",
     "output_type": "stream",
     "text": [
      "split test into trunks\n",
      "there are 4 text_trunks\n"
     ]
    },
    {
     "name": "stderr",
     "output_type": "stream",
     "text": [
      "Sending chatcomplete API requests: 100%|██████████| 4/4 [03:26<00:00, 51.65s/it]\n",
      "Sending chatcomplete API requests: 100%|██████████| 1/1 [00:17<00:00, 17.50s/it]\n",
      "/opt/shichenh/gpt_translate/src/gpt_translate/articles/JsonArticleManager.py:131: FutureWarning: The frame.append method is deprecated and will be removed from pandas in a future version. Use pandas.concat instead.\n",
      "  self.articles_df = self.articles_df.append(series, ignore_index=True)\n"
     ]
    },
    {
     "name": "stdout",
     "output_type": "stream",
     "text": [
      "processing record: 这不是一个东北下岗的故事\n"
     ]
    },
    {
     "name": "stderr",
     "output_type": "stream",
     "text": [
      "Sending chatcomplete API requests: 100%|██████████| 1/1 [00:01<00:00,  1.84s/it]\n"
     ]
    },
    {
     "name": "stdout",
     "output_type": "stream",
     "text": [
      "split test into trunks\n",
      "there are 4 text_trunks\n"
     ]
    },
    {
     "name": "stderr",
     "output_type": "stream",
     "text": [
      "Sending chatcomplete API requests: 100%|██████████| 4/4 [03:18<00:00, 49.51s/it]\n",
      "Sending chatcomplete API requests: 100%|██████████| 1/1 [00:11<00:00, 11.66s/it]\n",
      "/opt/shichenh/gpt_translate/src/gpt_translate/articles/JsonArticleManager.py:131: FutureWarning: The frame.append method is deprecated and will be removed from pandas in a future version. Use pandas.concat instead.\n",
      "  self.articles_df = self.articles_df.append(series, ignore_index=True)\n"
     ]
    },
    {
     "name": "stdout",
     "output_type": "stream",
     "text": [
      "processing record: 打仗是不是普通人的出路？\n"
     ]
    },
    {
     "name": "stderr",
     "output_type": "stream",
     "text": [
      "Sending chatcomplete API requests: 100%|██████████| 1/1 [00:00<00:00,  1.03it/s]\n"
     ]
    },
    {
     "name": "stdout",
     "output_type": "stream",
     "text": [
      "split test into trunks\n",
      "there are 4 text_trunks\n"
     ]
    },
    {
     "name": "stderr",
     "output_type": "stream",
     "text": [
      "Sending chatcomplete API requests: 100%|██████████| 4/4 [03:13<00:00, 48.37s/it]\n",
      "Sending chatcomplete API requests: 100%|██████████| 1/1 [00:14<00:00, 14.74s/it]\n",
      "/opt/shichenh/gpt_translate/src/gpt_translate/articles/JsonArticleManager.py:131: FutureWarning: The frame.append method is deprecated and will be removed from pandas in a future version. Use pandas.concat instead.\n",
      "  self.articles_df = self.articles_df.append(series, ignore_index=True)\n"
     ]
    },
    {
     "name": "stdout",
     "output_type": "stream",
     "text": [
      "processing record: 为啥你忽悠不了富老头？\n"
     ]
    },
    {
     "name": "stderr",
     "output_type": "stream",
     "text": [
      "Sending chatcomplete API requests: 100%|██████████| 1/1 [00:01<00:00,  1.30s/it]\n"
     ]
    },
    {
     "name": "stdout",
     "output_type": "stream",
     "text": [
      "split test into trunks\n",
      "there are 4 text_trunks\n"
     ]
    },
    {
     "name": "stderr",
     "output_type": "stream",
     "text": [
      "Sending chatcomplete API requests: 100%|██████████| 4/4 [03:12<00:00, 48.18s/it]\n",
      "Sending chatcomplete API requests: 100%|██████████| 1/1 [00:12<00:00, 12.82s/it]\n",
      "/opt/shichenh/gpt_translate/src/gpt_translate/articles/JsonArticleManager.py:131: FutureWarning: The frame.append method is deprecated and will be removed from pandas in a future version. Use pandas.concat instead.\n",
      "  self.articles_df = self.articles_df.append(series, ignore_index=True)\n"
     ]
    },
    {
     "name": "stdout",
     "output_type": "stream",
     "text": [
      "processing record: 赚钱与打仗，哪个更牛B？\n"
     ]
    },
    {
     "name": "stderr",
     "output_type": "stream",
     "text": [
      "Sending chatcomplete API requests: 100%|██████████| 1/1 [00:03<00:00,  3.37s/it]\n"
     ]
    },
    {
     "name": "stdout",
     "output_type": "stream",
     "text": [
      "split test into trunks\n",
      "there are 4 text_trunks\n"
     ]
    },
    {
     "name": "stderr",
     "output_type": "stream",
     "text": [
      "Sending chatcomplete API requests: 100%|██████████| 4/4 [03:27<00:00, 51.88s/it]\n",
      "Sending chatcomplete API requests: 100%|██████████| 1/1 [00:15<00:00, 15.71s/it]\n",
      "/opt/shichenh/gpt_translate/src/gpt_translate/articles/JsonArticleManager.py:131: FutureWarning: The frame.append method is deprecated and will be removed from pandas in a future version. Use pandas.concat instead.\n",
      "  self.articles_df = self.articles_df.append(series, ignore_index=True)\n"
     ]
    },
    {
     "name": "stdout",
     "output_type": "stream",
     "text": [
      "processing record: 我高中时还想追周慧敏呢，是怎么放弃的？\n"
     ]
    },
    {
     "name": "stderr",
     "output_type": "stream",
     "text": [
      "Sending chatcomplete API requests: 100%|██████████| 1/1 [00:01<00:00,  1.39s/it]\n"
     ]
    },
    {
     "name": "stdout",
     "output_type": "stream",
     "text": [
      "split test into trunks\n",
      "there are 5 text_trunks\n"
     ]
    },
    {
     "name": "stderr",
     "output_type": "stream",
     "text": [
      "Sending chatcomplete API requests: 100%|██████████| 5/5 [04:31<00:00, 54.33s/it]\n",
      "Sending chatcomplete API requests: 100%|██████████| 1/1 [00:11<00:00, 11.82s/it]\n",
      "/opt/shichenh/gpt_translate/src/gpt_translate/articles/JsonArticleManager.py:131: FutureWarning: The frame.append method is deprecated and will be removed from pandas in a future version. Use pandas.concat instead.\n",
      "  self.articles_df = self.articles_df.append(series, ignore_index=True)\n"
     ]
    },
    {
     "name": "stdout",
     "output_type": "stream",
     "text": [
      "processing record: 普通人怎么赚到一千万？\n"
     ]
    },
    {
     "name": "stderr",
     "output_type": "stream",
     "text": [
      "Sending chatcomplete API requests: 100%|██████████| 1/1 [00:01<00:00,  1.53s/it]\n"
     ]
    },
    {
     "name": "stdout",
     "output_type": "stream",
     "text": [
      "split test into trunks\n",
      "there are 3 text_trunks\n"
     ]
    },
    {
     "name": "stderr",
     "output_type": "stream",
     "text": [
      "Sending chatcomplete API requests: 100%|██████████| 3/3 [02:50<00:00, 56.78s/it]\n",
      "Sending chatcomplete API requests: 100%|██████████| 1/1 [00:12<00:00, 12.28s/it]\n",
      "/opt/shichenh/gpt_translate/src/gpt_translate/articles/JsonArticleManager.py:131: FutureWarning: The frame.append method is deprecated and will be removed from pandas in a future version. Use pandas.concat instead.\n",
      "  self.articles_df = self.articles_df.append(series, ignore_index=True)\n"
     ]
    },
    {
     "name": "stdout",
     "output_type": "stream",
     "text": [
      "processing record: 今人买房子不等于古人买田\n"
     ]
    },
    {
     "name": "stderr",
     "output_type": "stream",
     "text": [
      "Sending chatcomplete API requests: 100%|██████████| 1/1 [00:01<00:00,  1.87s/it]\n"
     ]
    },
    {
     "name": "stdout",
     "output_type": "stream",
     "text": [
      "split test into trunks\n",
      "there are 5 text_trunks\n"
     ]
    },
    {
     "name": "stderr",
     "output_type": "stream",
     "text": [
      "Sending chatcomplete API requests: 100%|██████████| 5/5 [03:33<00:00, 42.74s/it]\n",
      "Sending chatcomplete API requests: 100%|██████████| 1/1 [00:14<00:00, 14.28s/it]\n",
      "/opt/shichenh/gpt_translate/src/gpt_translate/articles/JsonArticleManager.py:131: FutureWarning: The frame.append method is deprecated and will be removed from pandas in a future version. Use pandas.concat instead.\n",
      "  self.articles_df = self.articles_df.append(series, ignore_index=True)\n"
     ]
    },
    {
     "name": "stdout",
     "output_type": "stream",
     "text": [
      "processing record: 有读者问我怎么看，就业稳中有升\n"
     ]
    },
    {
     "name": "stderr",
     "output_type": "stream",
     "text": [
      "Sending chatcomplete API requests: 100%|██████████| 1/1 [00:01<00:00,  1.34s/it]\n"
     ]
    },
    {
     "name": "stdout",
     "output_type": "stream",
     "text": [
      "split test into trunks\n",
      "there are 4 text_trunks\n"
     ]
    },
    {
     "name": "stderr",
     "output_type": "stream",
     "text": [
      "Sending chatcomplete API requests: 100%|██████████| 4/4 [03:26<00:00, 51.67s/it]\n",
      "Sending chatcomplete API requests: 100%|██████████| 1/1 [00:08<00:00,  8.67s/it]\n",
      "/opt/shichenh/gpt_translate/src/gpt_translate/articles/JsonArticleManager.py:131: FutureWarning: The frame.append method is deprecated and will be removed from pandas in a future version. Use pandas.concat instead.\n",
      "  self.articles_df = self.articles_df.append(series, ignore_index=True)\n"
     ]
    },
    {
     "name": "stdout",
     "output_type": "stream",
     "text": [
      "processing record: 我们来揭秘下，文章的创作过程\n"
     ]
    },
    {
     "name": "stderr",
     "output_type": "stream",
     "text": [
      "Sending chatcomplete API requests: 100%|██████████| 1/1 [00:01<00:00,  1.28s/it]\n"
     ]
    },
    {
     "name": "stdout",
     "output_type": "stream",
     "text": [
      "split test into trunks\n",
      "there are 4 text_trunks\n"
     ]
    },
    {
     "name": "stderr",
     "output_type": "stream",
     "text": [
      "Sending chatcomplete API requests: 100%|██████████| 4/4 [03:19<00:00, 49.81s/it]\n",
      "Sending chatcomplete API requests: 100%|██████████| 1/1 [00:11<00:00, 12.00s/it]\n",
      "/opt/shichenh/gpt_translate/src/gpt_translate/articles/JsonArticleManager.py:131: FutureWarning: The frame.append method is deprecated and will be removed from pandas in a future version. Use pandas.concat instead.\n",
      "  self.articles_df = self.articles_df.append(series, ignore_index=True)\n"
     ]
    },
    {
     "name": "stdout",
     "output_type": "stream",
     "text": [
      "processing record: 跳出是非看《满江红》与大V之间的这场官司\n"
     ]
    },
    {
     "name": "stderr",
     "output_type": "stream",
     "text": [
      "Sending chatcomplete API requests: 100%|██████████| 1/1 [00:01<00:00,  1.92s/it]\n"
     ]
    },
    {
     "name": "stdout",
     "output_type": "stream",
     "text": [
      "split test into trunks\n",
      "there are 3 text_trunks\n"
     ]
    },
    {
     "name": "stderr",
     "output_type": "stream",
     "text": [
      "Sending chatcomplete API requests: 100%|██████████| 3/3 [01:57<00:00, 39.30s/it]\n",
      "Sending chatcomplete API requests: 100%|██████████| 1/1 [00:12<00:00, 12.35s/it]\n",
      "/opt/shichenh/gpt_translate/src/gpt_translate/articles/JsonArticleManager.py:131: FutureWarning: The frame.append method is deprecated and will be removed from pandas in a future version. Use pandas.concat instead.\n",
      "  self.articles_df = self.articles_df.append(series, ignore_index=True)\n"
     ]
    },
    {
     "name": "stdout",
     "output_type": "stream",
     "text": [
      "processing record: 怎么治好新冠留下的焦虑后遗症\n"
     ]
    },
    {
     "name": "stderr",
     "output_type": "stream",
     "text": [
      "Sending chatcomplete API requests: 100%|██████████| 1/1 [00:01<00:00,  1.83s/it]\n"
     ]
    },
    {
     "name": "stdout",
     "output_type": "stream",
     "text": [
      "split test into trunks\n",
      "there are 4 text_trunks\n"
     ]
    },
    {
     "name": "stderr",
     "output_type": "stream",
     "text": [
      "Sending chatcomplete API requests: 100%|██████████| 4/4 [02:53<00:00, 43.42s/it]\n",
      "Sending chatcomplete API requests: 100%|██████████| 1/1 [00:10<00:00, 10.92s/it]\n",
      "/opt/shichenh/gpt_translate/src/gpt_translate/articles/JsonArticleManager.py:131: FutureWarning: The frame.append method is deprecated and will be removed from pandas in a future version. Use pandas.concat instead.\n",
      "  self.articles_df = self.articles_df.append(series, ignore_index=True)\n"
     ]
    },
    {
     "name": "stdout",
     "output_type": "stream",
     "text": [
      "processing record: 国外的数据告诉你，奥密克戎的肺炎比例\n"
     ]
    },
    {
     "name": "stderr",
     "output_type": "stream",
     "text": [
      "Sending chatcomplete API requests: 100%|██████████| 1/1 [00:02<00:00,  2.12s/it]\n"
     ]
    },
    {
     "name": "stdout",
     "output_type": "stream",
     "text": [
      "split test into trunks\n",
      "there are 3 text_trunks\n"
     ]
    },
    {
     "name": "stderr",
     "output_type": "stream",
     "text": [
      "Sending chatcomplete API requests: 100%|██████████| 3/3 [02:58<00:00, 59.53s/it]\n",
      "Sending chatcomplete API requests: 100%|██████████| 1/1 [00:17<00:00, 17.44s/it]\n",
      "/opt/shichenh/gpt_translate/src/gpt_translate/articles/JsonArticleManager.py:131: FutureWarning: The frame.append method is deprecated and will be removed from pandas in a future version. Use pandas.concat instead.\n",
      "  self.articles_df = self.articles_df.append(series, ignore_index=True)\n"
     ]
    },
    {
     "name": "stdout",
     "output_type": "stream",
     "text": [
      "processing record: 赚钱的秘密\n"
     ]
    },
    {
     "name": "stderr",
     "output_type": "stream",
     "text": [
      "Sending chatcomplete API requests: 100%|██████████| 1/1 [00:01<00:00,  1.66s/it]\n"
     ]
    },
    {
     "name": "stdout",
     "output_type": "stream",
     "text": [
      "split test into trunks\n",
      "there are 1 text_trunks\n"
     ]
    },
    {
     "name": "stderr",
     "output_type": "stream",
     "text": [
      "Sending chatcomplete API requests: 100%|██████████| 1/1 [00:02<00:00,  2.60s/it]\n",
      "Sending chatcomplete API requests: 100%|██████████| 1/1 [00:11<00:00, 11.19s/it]\n",
      "/opt/shichenh/gpt_translate/src/gpt_translate/articles/JsonArticleManager.py:131: FutureWarning: The frame.append method is deprecated and will be removed from pandas in a future version. Use pandas.concat instead.\n",
      "  self.articles_df = self.articles_df.append(series, ignore_index=True)\n"
     ]
    },
    {
     "name": "stdout",
     "output_type": "stream",
     "text": [
      "processing record: 没什么机会大过人事变动\n"
     ]
    },
    {
     "name": "stderr",
     "output_type": "stream",
     "text": [
      "Sending chatcomplete API requests: 100%|██████████| 1/1 [00:01<00:00,  1.12s/it]\n"
     ]
    },
    {
     "name": "stdout",
     "output_type": "stream",
     "text": [
      "split test into trunks\n",
      "there are 1 text_trunks\n"
     ]
    },
    {
     "name": "stderr",
     "output_type": "stream",
     "text": [
      "Sending chatcomplete API requests: 100%|██████████| 1/1 [00:02<00:00,  2.51s/it]\n",
      "Sending chatcomplete API requests: 100%|██████████| 1/1 [00:09<00:00,  9.48s/it]\n",
      "/opt/shichenh/gpt_translate/src/gpt_translate/articles/JsonArticleManager.py:131: FutureWarning: The frame.append method is deprecated and will be removed from pandas in a future version. Use pandas.concat instead.\n",
      "  self.articles_df = self.articles_df.append(series, ignore_index=True)\n"
     ]
    },
    {
     "name": "stdout",
     "output_type": "stream",
     "text": [
      "processing record: 韦神的师兄告诉你，庙里也是个江湖\n"
     ]
    },
    {
     "name": "stderr",
     "output_type": "stream",
     "text": [
      "Sending chatcomplete API requests: 100%|██████████| 1/1 [00:01<00:00,  1.85s/it]\n"
     ]
    },
    {
     "name": "stdout",
     "output_type": "stream",
     "text": [
      "split test into trunks\n",
      "there are 2 text_trunks\n"
     ]
    },
    {
     "name": "stderr",
     "output_type": "stream",
     "text": [
      "Sending chatcomplete API requests: 100%|██████████| 2/2 [01:57<00:00, 58.84s/it]\n",
      "Sending chatcomplete API requests: 100%|██████████| 1/1 [00:13<00:00, 13.33s/it]\n",
      "/opt/shichenh/gpt_translate/src/gpt_translate/articles/JsonArticleManager.py:131: FutureWarning: The frame.append method is deprecated and will be removed from pandas in a future version. Use pandas.concat instead.\n",
      "  self.articles_df = self.articles_df.append(series, ignore_index=True)\n"
     ]
    },
    {
     "name": "stdout",
     "output_type": "stream",
     "text": [
      "processing record: 就算“司机”是山中鹿之介，又如何？\n"
     ]
    },
    {
     "name": "stderr",
     "output_type": "stream",
     "text": [
      "Sending chatcomplete API requests: 100%|██████████| 1/1 [00:01<00:00,  1.64s/it]\n"
     ]
    },
    {
     "name": "stdout",
     "output_type": "stream",
     "text": [
      "split test into trunks\n",
      "there are 3 text_trunks\n"
     ]
    },
    {
     "name": "stderr",
     "output_type": "stream",
     "text": [
      "Sending chatcomplete API requests: 100%|██████████| 3/3 [02:41<00:00, 53.97s/it]\n",
      "Sending chatcomplete API requests: 100%|██████████| 1/1 [00:15<00:00, 15.15s/it]\n",
      "/opt/shichenh/gpt_translate/src/gpt_translate/articles/JsonArticleManager.py:131: FutureWarning: The frame.append method is deprecated and will be removed from pandas in a future version. Use pandas.concat instead.\n",
      "  self.articles_df = self.articles_df.append(series, ignore_index=True)\n"
     ]
    },
    {
     "name": "stdout",
     "output_type": "stream",
     "text": [
      "processing record: 从这个月薪八万炫富停职的90后来看工资保密制度\n"
     ]
    },
    {
     "name": "stderr",
     "output_type": "stream",
     "text": [
      "Sending chatcomplete API requests: 100%|██████████| 1/1 [00:02<00:00,  2.98s/it]\n"
     ]
    },
    {
     "name": "stdout",
     "output_type": "stream",
     "text": [
      "split test into trunks\n",
      "there are 4 text_trunks\n"
     ]
    },
    {
     "name": "stderr",
     "output_type": "stream",
     "text": [
      "Sending chatcomplete API requests: 100%|██████████| 4/4 [03:17<00:00, 49.38s/it]\n",
      "Sending chatcomplete API requests: 100%|██████████| 1/1 [00:12<00:00, 12.76s/it]\n",
      "/opt/shichenh/gpt_translate/src/gpt_translate/articles/JsonArticleManager.py:131: FutureWarning: The frame.append method is deprecated and will be removed from pandas in a future version. Use pandas.concat instead.\n",
      "  self.articles_df = self.articles_df.append(series, ignore_index=True)\n"
     ]
    }
   ],
   "source": [
    "for record in records[1:]:\n",
    "    try:\n",
    "        if record['text']:\n",
    "            print(f\"processing record: {record['title']}\")\n",
    "            record['text'] = record['text'].replace(\"\\n\\n\",\"\\n\")\n",
    "            new_record = article_manager.complete_article(record, completion_config)\n",
    "            article_manager.add_complete_article(new_record)\n",
    "        else:\n",
    "            continue\n",
    "    except Exception as e:\n",
    "        print(f\"error processing record {record['title']}\")\n",
    "        print(e)"
   ]
  },
  {
   "cell_type": "code",
   "execution_count": 69,
   "metadata": {},
   "outputs": [
    {
     "data": {
      "text/plain": [
       "(1580, 17)"
      ]
     },
     "execution_count": 69,
     "metadata": {},
     "output_type": "execute_result"
    }
   ],
   "source": [
    "article_manager.articles_df.shape"
   ]
  },
  {
   "cell_type": "code",
   "execution_count": 72,
   "metadata": {},
   "outputs": [],
   "source": [
    "from gpt_translate.crawl.util import normalize_date\n",
    "article_manager.articles_df['date'] = article_manager.articles_df['date'].apply(normalize_date)"
   ]
  },
  {
   "cell_type": "code",
   "execution_count": 75,
   "metadata": {},
   "outputs": [],
   "source": [
    "article_manager.articles_df.to_json(article_manager.article_json_path, orient='records')"
   ]
  }
 ],
 "metadata": {
  "kernelspec": {
   "display_name": "gpt-translate",
   "language": "python",
   "name": "python3"
  },
  "language_info": {
   "codemirror_mode": {
    "name": "ipython",
    "version": 3
   },
   "file_extension": ".py",
   "mimetype": "text/x-python",
   "name": "python",
   "nbconvert_exporter": "python",
   "pygments_lexer": "ipython3",
   "version": "3.11.7"
  },
  "orig_nbformat": 4
 },
 "nbformat": 4,
 "nbformat_minor": 2
}
