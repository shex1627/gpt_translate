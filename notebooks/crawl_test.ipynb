{
 "cells": [
  {
   "cell_type": "code",
   "execution_count": 1,
   "metadata": {},
   "outputs": [],
   "source": [
    "%load_ext autoreload\n",
    "%autoreload 2"
   ]
  },
  {
   "cell_type": "code",
   "execution_count": 2,
   "metadata": {},
   "outputs": [],
   "source": [
    "from bs4 import BeautifulSoup\n",
    "from selenium import webdriver\n",
    "from selenium.webdriver.chrome.options import Options\n",
    "import json"
   ]
  },
  {
   "cell_type": "code",
   "execution_count": 3,
   "metadata": {},
   "outputs": [],
   "source": [
    "from gpt_translate.articles.JsonArticleManager import JsonArticleManager"
   ]
  },
  {
   "cell_type": "code",
   "execution_count": 4,
   "metadata": {},
   "outputs": [],
   "source": [
    "ARTICLE_JSON_PATH = \"/home/bookworm/code/gpt_translate/data/articles_embedding.json\"\n",
    "article_manager = JsonArticleManager(ARTICLE_JSON_PATH)"
   ]
  },
  {
   "cell_type": "code",
   "execution_count": null,
   "metadata": {},
   "outputs": [
    {
     "ename": "ModuleNotFoundError",
     "evalue": "No module named 'webdriver_manager'",
     "output_type": "error",
     "traceback": [
      "\u001b[0;31m---------------------------------------------------------------------------\u001b[0m",
      "\u001b[0;31mModuleNotFoundError\u001b[0m                       Traceback (most recent call last)",
      "Cell \u001b[0;32mIn[5], line 3\u001b[0m\n\u001b[1;32m      1\u001b[0m \u001b[38;5;28;01mfrom\u001b[39;00m\u001b[38;5;250m \u001b[39m\u001b[38;5;21;01mselenium\u001b[39;00m\u001b[38;5;250m \u001b[39m\u001b[38;5;28;01mimport\u001b[39;00m webdriver\n\u001b[1;32m      2\u001b[0m \u001b[38;5;28;01mfrom\u001b[39;00m\u001b[38;5;250m \u001b[39m\u001b[38;5;21;01mselenium\u001b[39;00m\u001b[38;5;21;01m.\u001b[39;00m\u001b[38;5;21;01mwebdriver\u001b[39;00m\u001b[38;5;21;01m.\u001b[39;00m\u001b[38;5;21;01mchrome\u001b[39;00m\u001b[38;5;21;01m.\u001b[39;00m\u001b[38;5;21;01mservice\u001b[39;00m\u001b[38;5;250m \u001b[39m\u001b[38;5;28;01mimport\u001b[39;00m Service\n\u001b[0;32m----> 3\u001b[0m \u001b[38;5;28;01mfrom\u001b[39;00m\u001b[38;5;250m \u001b[39m\u001b[38;5;21;01mwebdriver_manager\u001b[39;00m\u001b[38;5;21;01m.\u001b[39;00m\u001b[38;5;21;01mchrome\u001b[39;00m\u001b[38;5;250m \u001b[39m\u001b[38;5;28;01mimport\u001b[39;00m ChromeDriverManager\n\u001b[1;32m      5\u001b[0m driver \u001b[38;5;241m=\u001b[39m webdriver\u001b[38;5;241m.\u001b[39mChrome(service\u001b[38;5;241m=\u001b[39mService(ChromeDriverManager()\u001b[38;5;241m.\u001b[39minstall()))\n",
      "\u001b[0;31mModuleNotFoundError\u001b[0m: No module named 'webdriver_manager'"
     ]
    }
   ],
   "source": [
    "from selenium import webdriver\n",
    "from selenium.webdriver.chrome.service import Service\n",
    "from webdriver_manager.chrome import ChromeDriverManager\n",
    "\n",
    "#driver = webdriver.Chrome(service=Service(ChromeDriverManager().install()))"
   ]
  },
  {
   "cell_type": "code",
   "execution_count": 6,
   "metadata": {},
   "outputs": [],
   "source": [
    "#num_articles = ...  # Set the desired number of articles\n",
    "url = \"https://www.163.com/dy/media/T1658526449605.html\"\n",
    "url = \"https://c.m.163.com/news/sub/T1658526449605.html\"\n",
    "\n",
    "# Set up headless browser\n",
    "options = Options()\n",
    "options.add_argument('--headless')\n",
    "#options.headless = True\n",
    "driver = webdriver.Chrome(options=options)\n",
    "\n",
    "# Load webpage and extract data\n",
    "driver.get(url)"
   ]
  },
  {
   "cell_type": "code",
   "execution_count": 7,
   "metadata": {},
   "outputs": [
    {
     "data": {
      "text/plain": [
       "40"
      ]
     },
     "execution_count": 7,
     "metadata": {},
     "output_type": "execute_result"
    }
   ],
   "source": [
    "# Parse the page source with BeautifulSoup\n",
    "soup = BeautifulSoup(driver.page_source, \"html.parser\")\n",
    "\n",
    "# Find all elements with the specified class\n",
    "elements = soup.find_all(\"li\", class_=\"single-picture-news js-click-news\")\n",
    "len(elements)"
   ]
  },
  {
   "cell_type": "code",
   "execution_count": 8,
   "metadata": {},
   "outputs": [],
   "source": [
    "from gpt_translate.crawl.util import extract_info, scroll_one_step\n",
    "import pandas as pd"
   ]
  },
  {
   "cell_type": "code",
   "execution_count": 9,
   "metadata": {},
   "outputs": [],
   "source": [
    "def scroll_one_step(driver) -> int:\n",
    "    \"\"\"\n",
    "    Scroll the page down by one step.\n",
    "    \n",
    "    :param driver: The Selenium WebDriver object.\n",
    "    :return: True if the page is scrolled down successfully, False otherwise.\n",
    "    \"\"\"\n",
    "    try:\n",
    "        height = driver.execute_script(\"window.scrollTo(0, document.body.scrollHeight);\")\n",
    "        return height\n",
    "    except Exception as e:\n",
    "        print(f\"Error scrolling page: {e}\")\n",
    "        return -1"
   ]
  },
  {
   "cell_type": "code",
   "execution_count": 10,
   "metadata": {},
   "outputs": [
    {
     "data": {
      "text/plain": [
       "(40, 4)"
      ]
     },
     "execution_count": 10,
     "metadata": {},
     "output_type": "execute_result"
    }
   ],
   "source": [
    "articles_info = pd.DataFrame(extract_info(elements))\n",
    "articles_info.shape"
   ]
  },
  {
   "cell_type": "code",
   "execution_count": 11,
   "metadata": {},
   "outputs": [],
   "source": [
    "#height = scroll_one_step(driver)\n",
    "driver.execute_script(\"window.scrollTo(0, document.body.scrollHeight);\")"
   ]
  },
  {
   "cell_type": "code",
   "execution_count": 12,
   "metadata": {},
   "outputs": [
    {
     "data": {
      "text/plain": [
       "100"
      ]
     },
     "execution_count": 12,
     "metadata": {},
     "output_type": "execute_result"
    }
   ],
   "source": [
    "soup_scrolled = BeautifulSoup(driver.page_source, \"html.parser\")\n",
    "\n",
    "# Find all elements with the specified class\n",
    "elements_scrolled = soup_scrolled.find_all(\"li\", class_=\"single-picture-news js-click-news\")\n",
    "len(elements_scrolled)"
   ]
  },
  {
   "cell_type": "code",
   "execution_count": 13,
   "metadata": {},
   "outputs": [
    {
     "data": {
      "text/plain": [
       "(100, 4)"
      ]
     },
     "execution_count": 13,
     "metadata": {},
     "output_type": "execute_result"
    }
   ],
   "source": [
    "articles_info_scrolled = pd.DataFrame(extract_info(elements_scrolled))\n",
    "articles_info_scrolled.shape"
   ]
  },
  {
   "cell_type": "code",
   "execution_count": 14,
   "metadata": {},
   "outputs": [
    {
     "data": {
      "text/plain": [
       "['https://c.m.163.com/news/a/JLQ8GGF80553JMK2.html?from=subscribe',\n",
       " 'https://c.m.163.com/news/a/JLP4SLC00553JMK2.html?from=subscribe',\n",
       " 'https://c.m.163.com/news/a/JLNQN3BU0553JMK2.html?from=subscribe',\n",
       " 'https://c.m.163.com/news/a/JLMJ9S0V0553JMK2.html?from=subscribe',\n",
       " 'https://c.m.163.com/news/a/JLL8PTMK0553JMK2.html?from=subscribe']"
      ]
     },
     "execution_count": 14,
     "metadata": {},
     "output_type": "execute_result"
    }
   ],
   "source": [
    "urls = articles_info['link'].apply(lambda url: \"https://\" + url.replace(\"//\",\"\")).head().tolist()\n",
    "urls"
   ]
  },
  {
   "cell_type": "code",
   "execution_count": 15,
   "metadata": {},
   "outputs": [
    {
     "data": {
      "text/plain": [
       "(80, 4)"
      ]
     },
     "execution_count": 15,
     "metadata": {},
     "output_type": "execute_result"
    }
   ],
   "source": [
    "articles_info_scrolled.drop_duplicates(['title']).shape"
   ]
  },
  {
   "cell_type": "code",
   "execution_count": 16,
   "metadata": {},
   "outputs": [
    {
     "data": {
      "text/plain": [
       "{'2025年，哪些是不变的，哪些是万变的？',\n",
       " '2025，不要一年到头又白忙\\u200b',\n",
       " '35岁之后，还能怎么找到工作？',\n",
       " '\\u200b老天爷给每个人都留有了路，但你要知道什么属于你',\n",
       " '“如何让女大学生服服帖帖、老老实实生孩子？”',\n",
       " '一个焦虑的读者，想知道什么是最好的买房策略',\n",
       " '上学读书是为了训练你的身体，不是你的大脑',\n",
       " '上岸不等于没工作压力，更不等于工作轻松',\n",
       " '上岸的老公，适不适合教人家考试经验？',\n",
       " '不是你买基金赚不到钱，而是你绕不开四个陷阱',\n",
       " '不是所有的劳苦功高都能变成钱的',\n",
       " '中美的股市楼市，并不是同一个逻辑',\n",
       " '为什么黄教主也会栽在珂学手里？',\n",
       " '为啥读书好的未必混得好？',\n",
       " '为啥这些“赘婿经济学家”们总喜欢拿越南美国和国内比',\n",
       " '人活着不是为了吃苦，犯不着没苦硬吃',\n",
       " '从心里抛弃他，你会遇到更好的',\n",
       " '你不是学不会投资，你只是缺个好爸爸',\n",
       " '你对自己这么抠，活该没有女人爱你',\n",
       " '你想知道的一切，这个足浴技师都能回答你',\n",
       " '你没看懂萧山赘婿成功故事背后那些不为人知的原因',\n",
       " '你理解的没错，秘密就在于祁同伟的惊天一跪',\n",
       " '你研究房价之前首先要读懂这四个字',\n",
       " '你虽然没念过大学，但你的前途一片光明',\n",
       " '你都没看懂过那些国际大炒家的手法',\n",
       " '假如人人都说真话',\n",
       " '关于专家们热议的取消公摊面积的这点事儿',\n",
       " '养老的重点，从来都不在于养老金怎么交',\n",
       " '到底要不要送孩子出国留学？',\n",
       " '努力有什么用？也抵不上人家二代',\n",
       " '双非冷门，怎么转专业可以逆袭去大厂？',\n",
       " '只要你能学会泡妞，就没可能学不会升职加薪',\n",
       " '哪怕你不欣赏他，你也很清楚，这个社会欣赏他',\n",
       " '四十多岁才明白，来不来得及？',\n",
       " '国内韭菜图鉴',\n",
       " '天下武功出少林，天下投资出套利',\n",
       " '天天上班都不知道自己这辈子在活什么劲',\n",
       " '如果华尔街之狼来改造大厂领导的“爹味发言”',\n",
       " '孩子不开悟，家长很着急',\n",
       " '孩子见识开阔之后，会不会导致他眼高手低？',\n",
       " '巨变已至，除了迎合，我们别无选择',\n",
       " '已访问浙大的段永平，拟收购格陵兰的特朗普',\n",
       " '很多时候你能赚什么钱，是你所处的环境决定的',\n",
       " '我从来都没见谁逆袭过',\n",
       " '我没有在说反话，洛杉矶大火还真体现了美国的优势',\n",
       " '把事情系统化，岂不是第一个被裁的就是我？',\n",
       " '无人机专家辞世前的话：创业的尽头是负债',\n",
       " '无儿无女的86岁北大老太太晚年幸福么？',\n",
       " '时间不经浪，人生不经晃，辛苦一年到头又空忙',\n",
       " '昨天的会议就是最佳的预期管理',\n",
       " '是不是在国内一直做技术不会有前途？',\n",
       " '最搞笑的就是在融资市场里研究价值投资',\n",
       " '有命赚，要有命花，赌场里赢的钱，要能带得出去',\n",
       " '未来财富诞生的模式，和过去并不一样',\n",
       " '比原生家庭更大的坑，是原生环境',\n",
       " '汇率升值是不是意味着经济好？',\n",
       " '没有哪个大佬会因为溜须拍马舔腚就带你飞',\n",
       " '照着做，你早晚会成为那帮既得利益群体里的一分子',\n",
       " '琼瑶面对命运的方式，比她告别人间的方式，更值得聊',\n",
       " '男人没出息，老婆照样有可能从一而终的',\n",
       " '祥子到死都没明白，并不是他车拉的不好',\n",
       " '穷光蛋和穷光蛋，是不一样的',\n",
       " '突发，美国关税不及预期？转折，上面那条报道不实？',\n",
       " '经济学家对宏观经济的议论纷纷让你焦虑了吗？',\n",
       " '老婆给老板当助理多年，上市前老板却不肯分她股份',\n",
       " '蓝领何止是蓝海，蓝领是蓝色的太平洋',\n",
       " '被七家企业高薪疯抢的17岁中专生，释放了什么信号？',\n",
       " '要不要考虑把儿子送去日本入赘，分富豪的家产？',\n",
       " '讨厌门阀，理解门阀，研究门阀，利用门阀',\n",
       " '误杀太多次，那就是谋杀',\n",
       " '赚钱如吃屎，亏钱如抽筋',\n",
       " '金庸的污点遮不住他的成就；琼瑶的成就遮不住她的污点',\n",
       " '金融，它不是一个行业，它是伪装成行业的全社会',\n",
       " '霸总没有爱上保洁大妈，而是把大妈推下了海'}"
      ]
     },
     "execution_count": 16,
     "metadata": {},
     "output_type": "execute_result"
    }
   ],
   "source": [
    "set(articles_info_scrolled.drop_duplicates(['title'])['title']).intersection(set(article_manager.articles_df['title']))"
   ]
  },
  {
   "cell_type": "code",
   "execution_count": 17,
   "metadata": {},
   "outputs": [
    {
     "data": {
      "text/plain": [
       "6"
      ]
     },
     "execution_count": 17,
     "metadata": {},
     "output_type": "execute_result"
    }
   ],
   "source": [
    "len(set(articles_info_scrolled.drop_duplicates(['title'])['title']).difference(set(article_manager.articles_df['title'])))"
   ]
  },
  {
   "cell_type": "code",
   "execution_count": null,
   "metadata": {},
   "outputs": [],
   "source": []
  }
 ],
 "metadata": {
  "kernelspec": {
   "display_name": "gpt-translate",
   "language": "python",
   "name": "python3"
  },
  "language_info": {
   "codemirror_mode": {
    "name": "ipython",
    "version": 3
   },
   "file_extension": ".py",
   "mimetype": "text/x-python",
   "name": "python",
   "nbconvert_exporter": "python",
   "pygments_lexer": "ipython3",
   "version": "3.11.7"
  },
  "orig_nbformat": 4
 },
 "nbformat": 4,
 "nbformat_minor": 2
}
