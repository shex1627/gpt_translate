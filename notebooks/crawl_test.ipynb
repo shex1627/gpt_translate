{
 "cells": [
  {
   "cell_type": "code",
   "execution_count": 1,
   "metadata": {},
   "outputs": [],
   "source": [
    "%load_ext autoreload\n",
    "%autoreload 2"
   ]
  },
  {
   "cell_type": "code",
   "execution_count": 2,
   "metadata": {},
   "outputs": [],
   "source": [
    "from bs4 import BeautifulSoup\n",
    "from selenium import webdriver\n",
    "from selenium.webdriver.chrome.options import Options\n",
    "import json"
   ]
  },
  {
   "cell_type": "code",
   "execution_count": 3,
   "metadata": {},
   "outputs": [],
   "source": [
    "from gpt_translate.articles.JsonArticleManager import JsonArticleManager"
   ]
  },
  {
   "cell_type": "code",
   "execution_count": 4,
   "metadata": {},
   "outputs": [],
   "source": [
    "ARTICLE_JSON_PATH = \"/opt/shichenh/articles_embedding.json\"\n",
    "article_manager = JsonArticleManager(ARTICLE_JSON_PATH)"
   ]
  },
  {
   "cell_type": "code",
   "execution_count": 5,
   "metadata": {},
   "outputs": [],
   "source": [
    "# from selenium import webdriver\n",
    "# from selenium.webdriver.chrome.service import Service\n",
    "# from webdriver_manager.chrome import ChromeDriverManager\n",
    "\n",
    "# driver = webdriver.Chrome(service=Service(ChromeDriverManager().install()))"
   ]
  },
  {
   "cell_type": "code",
   "execution_count": 6,
   "metadata": {},
   "outputs": [],
   "source": [
    "#num_articles = ...  # Set the desired number of articles\n",
    "url = \"https://www.163.com/dy/media/T1658526449605.html\"\n",
    "url = \"https://c.m.163.com/news/sub/T1658526449605.html\"\n",
    "\n",
    "# Set up headless browser\n",
    "options = Options()\n",
    "options.add_argument('--headless')\n",
    "#options.headless = True\n",
    "driver = webdriver.Chrome(options=options)\n",
    "\n",
    "# Load webpage and extract data\n",
    "driver.get(url)"
   ]
  },
  {
   "cell_type": "code",
   "execution_count": 7,
   "metadata": {},
   "outputs": [
    {
     "data": {
      "text/plain": [
       "40"
      ]
     },
     "execution_count": 7,
     "metadata": {},
     "output_type": "execute_result"
    }
   ],
   "source": [
    "# Parse the page source with BeautifulSoup\n",
    "soup = BeautifulSoup(driver.page_source, \"html.parser\")\n",
    "\n",
    "# Find all elements with the specified class\n",
    "elements = soup.find_all(\"li\", class_=\"single-picture-news js-click-news\")\n",
    "len(elements)"
   ]
  },
  {
   "cell_type": "code",
   "execution_count": 8,
   "metadata": {},
   "outputs": [],
   "source": [
    "from gpt_translate.crawl.util import extract_info, scroll_one_step\n",
    "import pandas as pd"
   ]
  },
  {
   "cell_type": "code",
   "execution_count": 10,
   "metadata": {},
   "outputs": [],
   "source": [
    "def scroll_one_step(driver) -> int:\n",
    "    \"\"\"\n",
    "    Scroll the page down by one step.\n",
    "    \n",
    "    :param driver: The Selenium WebDriver object.\n",
    "    :return: True if the page is scrolled down successfully, False otherwise.\n",
    "    \"\"\"\n",
    "    try:\n",
    "        height = driver.execute_script(\"window.scrollTo(0, document.body.scrollHeight);\")\n",
    "        return height\n",
    "    except Exception as e:\n",
    "        print(f\"Error scrolling page: {e}\")\n",
    "        return -1"
   ]
  },
  {
   "cell_type": "code",
   "execution_count": 11,
   "metadata": {},
   "outputs": [
    {
     "data": {
      "text/plain": [
       "(40, 4)"
      ]
     },
     "execution_count": 11,
     "metadata": {},
     "output_type": "execute_result"
    }
   ],
   "source": [
    "articles_info = pd.DataFrame(extract_info(elements))\n",
    "articles_info.shape"
   ]
  },
  {
   "cell_type": "code",
   "execution_count": 15,
   "metadata": {},
   "outputs": [],
   "source": [
    "#height = scroll_one_step(driver)\n",
    "driver.execute_script(\"window.scrollTo(0, document.body.scrollHeight);\")"
   ]
  },
  {
   "cell_type": "code",
   "execution_count": 16,
   "metadata": {},
   "outputs": [
    {
     "data": {
      "text/plain": [
       "514"
      ]
     },
     "execution_count": 16,
     "metadata": {},
     "output_type": "execute_result"
    }
   ],
   "source": [
    "soup_scrolled = BeautifulSoup(driver.page_source, \"html.parser\")\n",
    "\n",
    "# Find all elements with the specified class\n",
    "elements_scrolled = soup_scrolled.find_all(\"li\", class_=\"single-picture-news js-click-news\")\n",
    "len(elements_scrolled)"
   ]
  },
  {
   "cell_type": "code",
   "execution_count": 17,
   "metadata": {},
   "outputs": [
    {
     "data": {
      "text/plain": [
       "(514, 4)"
      ]
     },
     "execution_count": 17,
     "metadata": {},
     "output_type": "execute_result"
    }
   ],
   "source": [
    "articles_info_scrolled = pd.DataFrame(extract_info(elements_scrolled))\n",
    "articles_info_scrolled.shape"
   ]
  },
  {
   "cell_type": "code",
   "execution_count": 20,
   "metadata": {},
   "outputs": [
    {
     "data": {
      "text/plain": [
       "['https://c.m.163.com/news/a/ID297MHD0553JMK2.html?from=subscribe',\n",
       " 'https://c.m.163.com/news/a/ICTDTVLF0553JMK2.html?from=subscribe',\n",
       " 'https://c.m.163.com/news/a/ICVK2LGB0553JMK2.html?from=subscribe',\n",
       " 'https://c.m.163.com/news/a/ICTP928F0553JMK2.html?from=subscribe',\n",
       " 'https://c.m.163.com/news/a/ICT6LC0Q0553JMK2.html?from=subscribe']"
      ]
     },
     "execution_count": 20,
     "metadata": {},
     "output_type": "execute_result"
    }
   ],
   "source": [
    "urls = articles_info['link'].apply(lambda url: \"https://\" + url.replace(\"//\",\"\")).head().tolist()\n",
    "urls"
   ]
  },
  {
   "cell_type": "code",
   "execution_count": 24,
   "metadata": {},
   "outputs": [
    {
     "data": {
      "text/plain": [
       "(483, 4)"
      ]
     },
     "execution_count": 24,
     "metadata": {},
     "output_type": "execute_result"
    }
   ],
   "source": [
    "articles_info_scrolled.drop_duplicates(['title']).shape"
   ]
  },
  {
   "cell_type": "code",
   "execution_count": 30,
   "metadata": {},
   "outputs": [
    {
     "data": {
      "text/plain": [
       "{'1888万的彩礼，只是个忽悠富老头没成功的案例',\n",
       " '200岁的巴菲特大会上只有一句投资秘诀值得分享',\n",
       " '2023年，又有人来问当下的职业选择，婚姻选择',\n",
       " '211毕业五年存款只有五千，与贷款延长到90岁',\n",
       " '35岁求职嫌老，60岁退休嫌早',\n",
       " '98%无症状的专家发烧了，他正在亲自体会无症状',\n",
       " 'AI取代人类的劳动价值，和它取代你的所有价值，是两码事',\n",
       " 'AI把代码写了，把PPT也写了，那咱们去干嘛呢？',\n",
       " 'B站的大V们为什么纷纷断更了？',\n",
       " 'GPT真正的威胁并不是马斯克联手上千名科技大佬与专家说的那些',\n",
       " 'chatGPT唯一的价值，只在于告诉虎妈，你鸡娃鸡错方向了',\n",
       " 'chatGPT暂时还取代不了老胡',\n",
       " 'chatGPT来了，我那位领五倍薪的北大助理慌了吗？',\n",
       " 'chatGPT还真的不是纸老虎',\n",
       " '“吊打”上司的这位勇敢的成都员工，面临人生重大机遇',\n",
       " '“套套”怎么做才能搞定美国听证会？',\n",
       " '《天道》是一部杀人诛心的剧',\n",
       " '《天道》里的丁元英是编剧理解的高手',\n",
       " '《满江红》：如果历史真能假设，我希望这样魔改',\n",
       " '《狂飙》比《三体》好，好就好在拍着拍着跑题了',\n",
       " '一板2块钱的退烧药，却遭遇上亿天价罚款，为什么？',\n",
       " '丈母娘为什么执着于让女婿买房？',\n",
       " '三体拍不好，一点都不稀奇',\n",
       " '上海医护发6000，为什么？有钱',\n",
       " '不动产统一登记和你我，只有一件事有关',\n",
       " '不同国家，不同城市，卷的程度',\n",
       " '不知道什么时候开始，流行晒书房了',\n",
       " '不该说的，我也说了',\n",
       " '不该说的，说出来，你也未必能get到那个点',\n",
       " '不问男友要彩礼，拿什么给弟弟做彩礼？',\n",
       " '与其一股脑的批评爱上毒枭的小说，倒不如考虑文字分级',\n",
       " '专家说年轻人工资低是因为能力不够？',\n",
       " '专门聊长三角',\n",
       " '个人养老金，是否会像美国养老金那样长期投入股市？',\n",
       " '中产实际上在分化',\n",
       " '中金的数据，13亿人月收入低于5000？真的吗？',\n",
       " '为什么三大影帝联手都阐释不清洗钱这么简单的事儿？',\n",
       " '为什么我反复跟你讲美联储短期内难以降息？',\n",
       " '为什么时隔三年，我对医护发烧硬顶的观点是不同的？',\n",
       " '为什么能力不如你的人，偏偏做了合伙人？',\n",
       " '为什么这个胡扯的美国教授，没有学生冲上去抢他的话筒？',\n",
       " '为什么这么喜欢议论年味儿淡了，却不想想，年是什么来的？',\n",
       " '人世间不是只有妈妈和走狗',\n",
       " '人世间没有什么是忽然发生的，无非你忽然才知道',\n",
       " '人口下降的趋势下，毕业后去哪个城市混？',\n",
       " '人口负增长这个话题，你看到的是什么？',\n",
       " '人和人之间，绝大多数时空下，都是分层的',\n",
       " '人没吃饱就只有一个烦恼，吃饱了终日被烦恼所扰',\n",
       " '人生没有返航，谁都只能继续前进',\n",
       " '人类又何尝不是一只火鸡',\n",
       " '人类未必需要罗辑，但肯定需要“虚头八脑”',\n",
       " '人这辈子，就那回事，别较劲',\n",
       " '什么叫“老钱”？其实就是肮脏且安全',\n",
       " '从CPI与PPI都很低，聊到房地产市场',\n",
       " '从成龙与赤兔，到天门山跳崖案',\n",
       " '从老白，炸鸡哥到曹操和巴菲特',\n",
       " '任泽平剑指司马南，储殷为了博眼球，最后还得是老胡和稀泥',\n",
       " '企业，高校，学生，这三者有没有建立配合关系？',\n",
       " '你不仅不了解美国，你甚至不了解自己',\n",
       " '你之所以能大闹天宫，是因为有人让你大闹天宫',\n",
       " '你们从来都没有读懂过阿Q',\n",
       " '你懂绿茶？不，你懂了个寂寞',\n",
       " '你把自己当成了时代的客户，我把自己当成了时代的小二',\n",
       " '你有没有想过？也许那个正确选项根本不存在',\n",
       " '你看过白鹿原，但你不一定看懂过白鹿原',\n",
       " '你真以为全网都在指望挨王思聪一顿打，喜提几百万年终奖么？',\n",
       " '你陷在做题思维里，当然听不懂我在说什么',\n",
       " '借成都造谣男，我来给你上一堂博弈课',\n",
       " '假如遇到一个完美地，和成都那个截然相反的上司',\n",
       " '全世界都在抢人？',\n",
       " '关于厉以宁，你要注意他的年龄',\n",
       " '关于无症状数据不靠谱的账，现在不是算的时候',\n",
       " '其实大V这种角色，和律师有某些相似之处',\n",
       " '其实这代人的压力，比父辈祖辈还要大',\n",
       " '写给一位妻离子散的投资人读者',\n",
       " '刀不磨就不锋利，刀太锋利了就容易断，人也一样',\n",
       " '刘强东回国开工与能用人工尽量不用机械的告示，一起上了热搜',\n",
       " '别傻了，你真以为中年人分成功型和废物型？',\n",
       " '别看倒卖儿童退烧药的黄牛现在笑，有他们哭的时候',\n",
       " '别说阅读有门槛，哪怕低级趣味，也是有门槛的',\n",
       " '到底为什么读书？这场学生抢了教授话筒的辩论',\n",
       " '劝老百姓拿出1/3存款买房的专家，有点像达文西',\n",
       " '十八线女明星与老男人的瓜值得切么？',\n",
       " '参与高频交易早晚被AI干掉，而交易本身，没那么快',\n",
       " '又不是只有你一个人觉得人世间很魔幻',\n",
       " '又见“防止房价重回过快上涨”的提法',\n",
       " '古代的秦始皇，没有今天的乞丐幸福么？',\n",
       " '司马懿高平陵之变指渭水发誓，从此再也没有了退出机制',\n",
       " '同样开罪消费者，为啥市场对张小泉与宝马的反应截然相反？',\n",
       " '听一群人瞎解读M2，我笑了',\n",
       " '听专家扯什么把退休金与疫苗挂钩，不如看看欧美日的经历',\n",
       " '周鸿祎的老婆，徐翔的老婆，四年前跳楼的苏享茂的老婆',\n",
       " '和我杠M2？你娃儿先回去弄清楚什么是贷款发行吧',\n",
       " '哪怕没有AI，独生子女环境下你也绕不开孔乙己的长衫',\n",
       " '商人谁都可以骗，唯独不能骗自己',\n",
       " '啥是铁饭碗？',\n",
       " '回答读者关于国内市场的五个问题',\n",
       " '回老家是啃老，亦或者掏空父母继续在城里供房是啃老？',\n",
       " '因爱生恨，求职不得的造谣我龙哥，他究竟点燃了什么？',\n",
       " '在什么样的社会下，学历才会是孔乙己的长衫？',\n",
       " '在某些观众眼里，高启强就是另一个祁同伟',\n",
       " '在生育话题上，四川走在了最前面',\n",
       " '在胡某宇这件事上，唯一不反思的就是成天让人反思的互联网',\n",
       " '基建的尽头是人口',\n",
       " '外贸订单很少，意味着什么？',\n",
       " '大V里面有坏人',\n",
       " '大多数人注定是脱离不了低级趣味的',\n",
       " '天门山四名年轻人之后，又有三名年轻人在林场轻生',\n",
       " '她输掉的是四百万还是十二年？',\n",
       " '如何操控你老板的预期',\n",
       " '如何正确的吃张继科和景甜的瓜',\n",
       " '如果你死盯着叶文洁发坐标，你就没看懂刘慈欣',\n",
       " '如果电影这么总结中国男乒的胜利，那男足的失败又怎么说？',\n",
       " '如果签个协议就能挣钱，这么容易凭什么轮到你挣呢？',\n",
       " '如果送外卖也不赚钱了',\n",
       " '婚姻是不可能解决孤独感的',\n",
       " '字越少，事越大',\n",
       " '宇宙的尽头是考编？',\n",
       " '宝马MINI为几盒冰激凌跌的这150亿，不冤',\n",
       " '家长的催婚催生，为什么在95后这里不灵了？',\n",
       " '尿壶理论的关键不在于壶，而在于尿',\n",
       " '屡屡下架不让播，它到底拍了什么内容？',\n",
       " '岳飞要成事儿，最缺什么？',\n",
       " '已有6亿栋房屋',\n",
       " '市场可以被引导，但是不能被左右，医生也是一回事',\n",
       " '年轻人卷的程度已经让我们这代人瞠目结舌了',\n",
       " '年轻人，你只能去赚想象力的钱',\n",
       " '年过了，你还活着，我还活着，这才是时间的朋友',\n",
       " '延迟退休与退休金和生育挂钩',\n",
       " '张三丰为什么让张无忌忘掉？',\n",
       " '张朝阳和刘銮雄都没有欺骗年轻人',\n",
       " '张继科的问题并不仅仅是赌博',\n",
       " '很多人都喜欢聊资本，但并不理解什么是资本',\n",
       " '很多富豪去了新加坡，导致坡县房价大涨吗？',\n",
       " '很多聊马云的，根本不知道他这人最大的优点是啥',\n",
       " '怎么才能穿上鲁迅的长衫而不是孔乙己的长衫',\n",
       " '怎么理解温老上热搜的这些话',\n",
       " '怎么看城投债这件事？',\n",
       " '怎么看多孩降税率，三孩公租房的建议？',\n",
       " '怎么看硅谷地区，以及其他地区科技公司，例如微软的大裁员',\n",
       " '怎么看老胡的传统医学姐姐给他的药汤子？',\n",
       " '怎么看西虹市里的“当狗有什么不好？”',\n",
       " '怎么看这个建议50万以上存款收利息税的专家？',\n",
       " '怎么看这份“停止向未成年人提供网游”的提案',\n",
       " '成熟的人都是用人朝前，不用人朝后的',\n",
       " '我也进入要阳的倒计时了，给读者打个预防针',\n",
       " '我从来也没有让你们准备过那么多药品和防疫物资',\n",
       " '我从来都没忽悠过年轻人，因为我也年轻过',\n",
       " '我们今天不聊宝马，我们今天就聊洗脚',\n",
       " '我们回不去了，也没必要回去，你应该去研究新的消费者心理',\n",
       " '我们的人，同时活在白鹿原，维多利亚和共识经济时代',\n",
       " '我们那时候很穷，但是很放松',\n",
       " '我去医院不是阳，而是打疫苗',\n",
       " '我可以告诉你一个我五岁的时候就知道的秘密',\n",
       " '我和你们当中绝大多数人，有本质上的不同',\n",
       " '我并不能共情林平之，但是我尊重每个人的选择',\n",
       " '我想聊隐学，一群人却忙着围观美女副局长的绿帽子',\n",
       " '我是不肯在沿海城市送外卖的，我宁愿跑去西部',\n",
       " '我用华尔街的故事给你重读一遍胡歌的《县委大院》',\n",
       " '扫地僧跟鸠摩智说的那番话什么意思？',\n",
       " '扬州美女副局长和王公子打人案，都只是在教你认识人性',\n",
       " '找大V代炒股，从330万亏成18万，这个妈妈自己没责任么？',\n",
       " '把AI看作国与国竞争的人，还停留在工业革命时代',\n",
       " '把话题引回国内，我们聊聊消费',\n",
       " '抢老师话筒，不意味着不尊师重道',\n",
       " '抢购蒙脱石散的不只是荒诞',\n",
       " '报复性消费来了？',\n",
       " '拖至今天，我们才写胡某宇事件',\n",
       " '择偶就注定了不平等',\n",
       " '提前还房贷，事情没你想的那么简单',\n",
       " '放开的拥趸们，还是要学会理解真实的人生',\n",
       " '救人先救医',\n",
       " '教你换个角度看古代神话故事',\n",
       " '数字货币本质上是USB和USA的分歧',\n",
       " '无论姓氏还是婚姻，都在发生深刻的变化',\n",
       " '日本年轻人是低欲望还是想通了？',\n",
       " '日韩这种对我们游客的歧视，靠骂是解决不了的',\n",
       " '时代的一粒灰与个人的一座山',\n",
       " '春晚引人思考的并不是沈腾的小品《坑》',\n",
       " '昨天最重要的消息，关系未来的十几年',\n",
       " '有个年轻的读者问我：他能不能学高启强？',\n",
       " '有些人这辈子大概是来还债的',\n",
       " '有意思的不是懂王的美国梦已死，而是这么多人盯着他的下半身',\n",
       " '有没办法打破985，211排序的招聘手段？',\n",
       " '有没有想过，你到底为什么要退出江湖？',\n",
       " '未婚生育其实只牵扯两件事，财产继承与姓氏随母',\n",
       " '欧佩克减产与人民币出海',\n",
       " '没有报复性的收入，哪儿来的报复性的消费？',\n",
       " '没有樱木花道的时代，只有时代的樱木花道',\n",
       " '没有神药，只有神医',\n",
       " '没有铁饭碗，又哪儿来的铁婚姻？',\n",
       " '流浪地球2：你想过没有，人类存在的意义是什么？',\n",
       " '润不难，难的是，接下来咋办？',\n",
       " '满嘴钱的未必不伟大，满嘴真爱的未必不自私',\n",
       " '漫长的季节完全不同于隐秘的角落',\n",
       " '炫富很不该，但是低欲望，也很糟糕',\n",
       " '父母的催生，很多时候也只是想再一次见到你',\n",
       " '物质上有没有恒产？精神上有没有恒心？',\n",
       " '生育率低的本质',\n",
       " '男人光靠听真话，是成不了事的，女人也一样',\n",
       " '男人最大的优势就是听真话，从来都是免费的',\n",
       " '男人有两大爱好，拉良家下水，劝风尘从良',\n",
       " '男人比女人最大的优势就在于更少被欺骗',\n",
       " '男孩子是怎么变成男人的？',\n",
       " '疫情有可能改变老人的观念，高端养老或许是条路',\n",
       " '百度AI文心一言的翻车，并不全是中美技术差距引起的',\n",
       " '看到这个给自己办葬礼的老人，我呆了',\n",
       " '看看这些科学家和医生们关于病毒之争',\n",
       " '真正卡脖子的不是芯片，是你如何得知，什么是未来的“芯片”',\n",
       " '真正的大佬，都是吃软饭的',\n",
       " '真正让你脱不掉孔乙己长衫的，是我们的农村社会形态',\n",
       " '硅谷银行踩雷事小，美国底线暴露事大，咱们的读者有高见',\n",
       " '硅谷银行踩雷和西边的太阳就要落山了之间有无关系？',\n",
       " '社会化抚养这个构思哪儿哪儿都好，就只有一个问题，想知道么？',\n",
       " '等了二十多年，中国人终于拿到了星际争霸的冠军',\n",
       " '给上海痴情公子上课的并非江西彩礼女，而是富老头',\n",
       " '给人拎包当马仔时的那些心得体会',\n",
       " '给林场要水的网红的确是商人，但商人也分很多种',\n",
       " '维权的特斯拉车主们，还沉浸在旧价值观里么？',\n",
       " '网民围观扬州美女副局长，到底在围什么？',\n",
       " '网络上热议的马云回国',\n",
       " '罗永浩和被他忽悠过的那些富老头们',\n",
       " '罪犯子女考公这事儿，老胡和罗翔都只看到一个侧面',\n",
       " '美元不是我们的对手，美元是我们的开机引导程序',\n",
       " '美国氯乙烯泄露，真的是像这些大V们说的那样么？',\n",
       " '美国近期强劲的经济数据预示着年底的衰退不会到来了么？',\n",
       " '美联储第十次加息与五一的数据',\n",
       " '美联储这次25个点的加息，是不是我去年讲的转折点？',\n",
       " '翻车的是念错字的星二代黄多多吗？',\n",
       " '老公如果醒不过来炒股梦，就让他读读西游记',\n",
       " '老胡终于说实话了',\n",
       " '聊完M2，我们看看什么是房产价值',\n",
       " '聊聊海南，聊聊做局',\n",
       " '职场是个生态链，并不是谁牛谁挣钱',\n",
       " '肉体是有国界的，精神也是有国界的',\n",
       " '胡歌+阳光，《县委大院》为啥还是火不了？',\n",
       " '自媒体一股脑的批这个贵阳相亲的公职男，有啥劲？',\n",
       " '至于么？司马南又不是司马懿',\n",
       " '致一个担心自己丢掉工作的中学老师',\n",
       " '致一位即将考研却阳了发烧的考生',\n",
       " '若非梁朝伟郭富城，我还以为是二弟与大嫂不得不说的故事',\n",
       " '被资助八年做主妇的女生，你看到了是非，我看到了无奈',\n",
       " '要不要造车，任正非和余承东之间，该站谁？',\n",
       " '要避免的，不是死于病毒，而是死于混乱',\n",
       " '谁告诉你日本人讲理？',\n",
       " '资助八年的女孩大学毕业后嫁人做主妇有啥好失望的？',\n",
       " '趁着西域五王齐聚长安，我忽然想聊聊罗马',\n",
       " '超导心态比室温超导这篇燃爆全球的论文更值得聊一聊',\n",
       " '跪地求水林场主事件里面真正要救的，不是树',\n",
       " '车企大降价与上了头条的缩编5%',\n",
       " '这个中学生眼里的挣钱与民族复兴',\n",
       " '这个疫情结束后找不到工作的北漂和他三次考不上研的哥们',\n",
       " '这些大V，就像六大派和明教一样水火不容',\n",
       " '这对攒了300万选择退休的80后上海丁克夫妻',\n",
       " '这次如果你要买房，一定要把房产税问题考虑在内',\n",
       " '这次换梁朝伟当大哥，王一博和嫂子有故事么？',\n",
       " '连老婆炫富也降级......',\n",
       " '退休大佬又一次提起房地产税',\n",
       " '透过淄博烧烤如何研究经济？',\n",
       " '通胀的姊妹篇，M2之后聊汇率',\n",
       " '通过不动产私募基金，来给你理一理投资分析模型',\n",
       " '重点不是首套房贷款利率浮动，重点是你要不要买房？',\n",
       " '重磅话题，疫情之下，聊聊经济',\n",
       " '长江七号里的星爷，他一开始就已经进入死胡同了',\n",
       " '阳了之后的五天与一个外国医生的对话',\n",
       " '阿凡达1和2，是大闹天宫和西天取经的距离么？',\n",
       " '随着全球贸易重组，美元是不是要消失了？',\n",
       " '需要关心的不是我，是那些农村的老头老太太！',\n",
       " '青黄不接的时候，\\u200b最需要的是什么？',\n",
       " '香港发生的这起命案',\n",
       " '马斯克的宏伟蓝图',\n",
       " '马斯克的星舰爆炸后，两种截然不同的欢呼同时响起',\n",
       " '高启强不是闰土，他是猹',\n",
       " '高启强？出身寒微不是耻辱，能屈能伸方为丈夫？',\n",
       " '魏王为什么不把商鞅杀了，省得他入秦灭魏？'}"
      ]
     },
     "execution_count": 30,
     "metadata": {},
     "output_type": "execute_result"
    }
   ],
   "source": [
    "set(articles_info_scrolled.drop_duplicates(['title'])['title']).intersection(set(article_manager.articles_df['title']))"
   ]
  },
  {
   "cell_type": "code",
   "execution_count": 31,
   "metadata": {},
   "outputs": [
    {
     "data": {
      "text/plain": [
       "208"
      ]
     },
     "execution_count": 31,
     "metadata": {},
     "output_type": "execute_result"
    }
   ],
   "source": [
    "len(set(articles_info_scrolled.drop_duplicates(['title'])['title']).difference(set(article_manager.articles_df['title'])))"
   ]
  },
  {
   "cell_type": "code",
   "execution_count": null,
   "metadata": {},
   "outputs": [],
   "source": []
  }
 ],
 "metadata": {
  "kernelspec": {
   "display_name": "gpt_translate",
   "language": "python",
   "name": "python3"
  },
  "language_info": {
   "codemirror_mode": {
    "name": "ipython",
    "version": 3
   },
   "file_extension": ".py",
   "mimetype": "text/x-python",
   "name": "python",
   "nbconvert_exporter": "python",
   "pygments_lexer": "ipython3",
   "version": "3.9.16"
  },
  "orig_nbformat": 4
 },
 "nbformat": 4,
 "nbformat_minor": 2
}
