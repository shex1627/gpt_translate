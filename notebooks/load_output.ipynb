{
 "cells": [
  {
   "cell_type": "code",
   "execution_count": 1,
   "metadata": {},
   "outputs": [],
   "source": [
    "import json\n"
   ]
  },
  {
   "cell_type": "code",
   "execution_count": 2,
   "metadata": {},
   "outputs": [],
   "source": [
    "with open(\"/opt/shichenh/gpt_translate/src/streamlit_app/output.json\", \"r\") as f:\n",
    "    data = json.load(f)"
   ]
  },
  {
   "cell_type": "code",
   "execution_count": 3,
   "metadata": {},
   "outputs": [],
   "source": [
    "from pprint import pprint"
   ]
  },
  {
   "cell_type": "code",
   "execution_count": 4,
   "metadata": {},
   "outputs": [
    {
     "name": "stdout",
     "output_type": "stream",
     "text": [
      "['should a girl prioritize money or love from a guy-English-None',\n",
      " '作者看来女性的劣势是什么-Chinese-3803',\n",
      " '作者看来女性的劣势是什么-Chinese-1932',\n",
      " '作者看来女性的劣势是什么-Chinese-3517',\n",
      " '作者看来女性的劣势是什么-Chinese-4397',\n",
      " '作者看来女性的劣势是什么-Chinese-4455',\n",
      " '作者看来女性的劣势是什么-Chinese-4678',\n",
      " '作者看来女性的劣势是什么-Chinese-2977',\n",
      " '作者看来女性的劣势是什么-Chinese-7385',\n",
      " '作者看来女性的劣势是什么-Chinese-6618',\n",
      " '作者看来女性的劣势是什么-Chinese-6512',\n",
      " '作者看来女性的劣势是什么-Chinese-4050',\n",
      " '作者看来女性的劣势是什么-Chinese-6139']\n"
     ]
    }
   ],
   "source": [
    "pprint(list(data.keys()))"
   ]
  },
  {
   "cell_type": "code",
   "execution_count": 5,
   "metadata": {},
   "outputs": [],
   "source": [
    "languages = [\"English\", \"Chinese\"]"
   ]
  },
  {
   "cell_type": "code",
   "execution_count": 6,
   "metadata": {},
   "outputs": [],
   "source": [
    "initial_language_wrong = \"random\""
   ]
  },
  {
   "cell_type": "code",
   "execution_count": 7,
   "metadata": {},
   "outputs": [
    {
     "data": {
      "text/plain": [
       "0"
      ]
     },
     "execution_count": 7,
     "metadata": {},
     "output_type": "execute_result"
    }
   ],
   "source": [
    "languages.index(initial_language_wrong ) if initial_language_wrong  in languages else 0"
   ]
  }
 ],
 "metadata": {
  "kernelspec": {
   "display_name": "gpt_translate",
   "language": "python",
   "name": "python3"
  },
  "language_info": {
   "codemirror_mode": {
    "name": "ipython",
    "version": 3
   },
   "file_extension": ".py",
   "mimetype": "text/x-python",
   "name": "python",
   "nbconvert_exporter": "python",
   "pygments_lexer": "ipython3",
   "version": "3.9.16"
  },
  "orig_nbformat": 4
 },
 "nbformat": 4,
 "nbformat_minor": 2
}
