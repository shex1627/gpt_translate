{
 "cells": [
  {
   "cell_type": "code",
   "execution_count": 74,
   "metadata": {},
   "outputs": [],
   "source": [
    "import json"
   ]
  },
  {
   "cell_type": "code",
   "execution_count": 75,
   "metadata": {},
   "outputs": [],
   "source": [
    "with open(\"/opt/shichenh/tts_data/playlist_data/playlist_metadata.json\", \"r\") as file:\n",
    "    playlist_metadata = json.load(file)"
   ]
  },
  {
   "cell_type": "code",
   "execution_count": 76,
   "metadata": {},
   "outputs": [
    {
     "data": {
      "text/plain": [
       "{'last_playlist_id': 13,\n",
       " 'playlists': {'1': {'article_ids': [201, 255, 571, 688, 647]},\n",
       "  '2': {'article_ids': [1133, 903, 30, 260, 1391]},\n",
       "  '3': {'article_ids': [1043, 1439, 374, 1004, 504]},\n",
       "  '4': {'article_ids': [1043, 1439, 374, 1004, 504]},\n",
       "  '5': {'article_ids': [752, 1168, 431, 1498, 540]},\n",
       "  '6': {'article_ids': [211, 518, 46, 1195, 412]},\n",
       "  '7': {'article_ids': [1, 2, 3, 4, 123]},\n",
       "  '8': {'article_ids': [364, 1462, 588, 450, 307]},\n",
       "  '9': {'article_ids': [299, 531, 1059, 1183, 942]},\n",
       "  '10': {'article_ids': [299, 531, 1059, 1183, 942]},\n",
       "  '11': {'article_ids': [294, 155, 645, 830, 336]},\n",
       "  '12': {'article_ids': [533, 1111, 479, 436, 499]},\n",
       "  '13': {'article_ids': [86, 536, 50, 988, 253]}}}"
      ]
     },
     "execution_count": 76,
     "metadata": {},
     "output_type": "execute_result"
    }
   ],
   "source": [
    "playlist_metadata"
   ]
  },
  {
   "cell_type": "code",
   "execution_count": 77,
   "metadata": {},
   "outputs": [],
   "source": [
    "import os\n",
    "import streamlit as st\n",
    "from pydub import AudioSegment\n",
    "from streamlit_app.playlistManager import LocalFilePlaylistManager, LANG_ENGLISH, LANG_CHINESE \n",
    "from streamlit_app.utils import get_article_manager\n",
    "\n",
    "# Initialize Playlist Manager\n",
    "audio_files_dir = os.environ.get(\"AUDIO_DIRECTORY\", \"C:\\\\Users\\\\alistar\\\\Desktop\\\\ds\\\\blogger_translate\\\\tts\\\\tts_data\")\n",
    "playlist_dir = os.environ.get(\"PLAYLIST_DIRECTORY\", \"/opt/shichenh/tts_data/playlist_data\")"
   ]
  },
  {
   "cell_type": "code",
   "execution_count": 78,
   "metadata": {},
   "outputs": [],
   "source": [
    "playlist_manager = LocalFilePlaylistManager(\n",
    "    audio_files_dir=audio_files_dir,\n",
    "    playlist_dir=playlist_dir)"
   ]
  },
  {
   "cell_type": "code",
   "execution_count": 79,
   "metadata": {},
   "outputs": [
    {
     "data": {
      "text/plain": [
       "{'last_playlist_id': 13,\n",
       " 'playlists': {'1': {'article_ids': [201, 255, 571, 688, 647]},\n",
       "  '2': {'article_ids': [1133, 903, 30, 260, 1391]},\n",
       "  '3': {'article_ids': [1043, 1439, 374, 1004, 504]},\n",
       "  '4': {'article_ids': [1043, 1439, 374, 1004, 504]},\n",
       "  '5': {'article_ids': [752, 1168, 431, 1498, 540]},\n",
       "  '6': {'article_ids': [211, 518, 46, 1195, 412]},\n",
       "  '7': {'article_ids': [1, 2, 3, 4, 123]},\n",
       "  '8': {'article_ids': [364, 1462, 588, 450, 307]},\n",
       "  '9': {'article_ids': [299, 531, 1059, 1183, 942]},\n",
       "  '10': {'article_ids': [299, 531, 1059, 1183, 942]},\n",
       "  '11': {'article_ids': [294, 155, 645, 830, 336]},\n",
       "  '12': {'article_ids': [533, 1111, 479, 436, 499]},\n",
       "  '13': {'article_ids': [86, 536, 50, 988, 253]}}}"
      ]
     },
     "execution_count": 79,
     "metadata": {},
     "output_type": "execute_result"
    }
   ],
   "source": [
    "playlist_manager.playlist_metadata"
   ]
  },
  {
   "cell_type": "code",
   "execution_count": 80,
   "metadata": {},
   "outputs": [
    {
     "data": {
      "text/plain": [
       "{'1': {'article_ids': [201, 255, 571, 688, 647]},\n",
       " '2': {'article_ids': [1133, 903, 30, 260, 1391]},\n",
       " '3': {'article_ids': [1043, 1439, 374, 1004, 504]},\n",
       " '4': {'article_ids': [1043, 1439, 374, 1004, 504]},\n",
       " '5': {'article_ids': [752, 1168, 431, 1498, 540]},\n",
       " '6': {'article_ids': [211, 518, 46, 1195, 412]},\n",
       " '7': {'article_ids': [1, 2, 3, 4, 123]},\n",
       " '8': {'article_ids': [364, 1462, 588, 450, 307]},\n",
       " '9': {'article_ids': [299, 531, 1059, 1183, 942]},\n",
       " '10': {'article_ids': [299, 531, 1059, 1183, 942]},\n",
       " '11': {'article_ids': [294, 155, 645, 830, 336]},\n",
       " '12': {'article_ids': [533, 1111, 479, 436, 499]},\n",
       " '13': {'article_ids': [86, 536, 50, 988, 253]}}"
      ]
     },
     "execution_count": 80,
     "metadata": {},
     "output_type": "execute_result"
    }
   ],
   "source": [
    "playlist_manager.playlist_metadata['playlists']"
   ]
  }
 ],
 "metadata": {
  "kernelspec": {
   "display_name": "gpt_translate",
   "language": "python",
   "name": "python3"
  },
  "language_info": {
   "codemirror_mode": {
    "name": "ipython",
    "version": 3
   },
   "file_extension": ".py",
   "mimetype": "text/x-python",
   "name": "python",
   "nbconvert_exporter": "python",
   "pygments_lexer": "ipython3",
   "version": "3.9.16"
  },
  "orig_nbformat": 4
 },
 "nbformat": 4,
 "nbformat_minor": 2
}
